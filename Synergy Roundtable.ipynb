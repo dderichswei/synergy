{
 "cells": [
  {
   "cell_type": "markdown",
   "metadata": {},
   "source": [
    "# Welcome to the Synergy Roundtable\n",
    "created by Dirk Derichsweiler - 05/10/2018<br>\n",
    "do not hesitate to contact me: dirk.derichsweiler@hpe.com\n",
    "\n",
    "jupyter Notebook can be found: https://github.com <- exchange url!\n",
    "\n",
    "\n",
    "#### requirements\n",
    "Python + hpOneView Python Library (see: https://github.com/HewlettPackard/python-hpOneView/wiki/HPE-OneView-Python-Windows-Setup-Guide)\n",
    "\n",
    "\n",
    "#### additional information\n",
    "\n",
    "On your HPE OneView appliance, or online<br>\n",
    "https://192.168.146.34/help/cic-rest/en/content/index.html#home.html<br>\n",
    "https://192.168.146.34/api-docs/current/ <br>\n",
    "http://www.hpe.com/info/oneview/docs \n",
    "\n",
    "#### python specific\n",
    "https://hewlettpackard.github.io/python-hpOneView/index.html<br>\n",
    "https://github.com/HewlettPackard/python-hpOneView<br>\n",
    "\n",
    "\n",
    "\n",
    "\n",
    "# INTERNAL INFORMATION -> DELETEIT\n",
    "\n",
    "##### aim:\n",
    "- so einfach wie möglich, kein advanced Hacking!\n",
    "- weniger ist mehr!\n",
    "\n",
    "\n",
    "##### open task: // delete it\n",
    "- RestFUL API erklären und Umfang darstellen\n",
    "- welche Plug Ins gibt es\n",
    "- welche UseCases gibt es? - einfacher UseCase machen wir jetzt!\n",
    "\n",
    "\n",
    "###### show and demonstrate the following Workbooks: // delete it\n",
    "- python\n",
    "- powershell\n",
    "- terraform - ansible\n",
    "\n",
    "###### Input:\n",
    "Trennung zwischen code und was jetzt passiert. (ggf. Powerpoint auf dem Beamer)\n",
    "\n",
    "\n",
    "# ENDOF INTERNAL INFORMATION\n",
    "\n",
    "\n",
    "\n",
    "### Login\n",
    "\n",
    "<img src=\"Pictures/Login.png\" height=\"500\" width=\"500\" align=\"left\">"
   ]
  },
  {
   "cell_type": "markdown",
   "metadata": {},
   "source": [
    "##### import the python OneView library"
   ]
  },
  {
   "cell_type": "code",
   "execution_count": 112,
   "metadata": {},
   "outputs": [],
   "source": [
    "from hpOneView.oneview_client import OneViewClient"
   ]
  },
  {
   "cell_type": "markdown",
   "metadata": {},
   "source": [
    "##### configure your environment:"
   ]
  },
  {
   "cell_type": "code",
   "execution_count": 114,
   "metadata": {},
   "outputs": [],
   "source": [
    "config = {\n",
    "    \"api_version\": \"500\",\n",
    "    \"ip\": \"10.0.20.50\",\n",
    "    \"image_streamer_ip\": \"\",\n",
    "    \"credentials\": {\n",
    "        \"userName\": \"dderichswei@demo.local\",\n",
    "        \"password\": \"Compaq1!\"\n",
    "    }\n",
    "}"
   ]
  },
  {
   "cell_type": "markdown",
   "metadata": {},
   "source": [
    "##### login:\n",
    "create new object oneview_client with the config (see above)"
   ]
  },
  {
   "cell_type": "code",
   "execution_count": 115,
   "metadata": {
    "scrolled": true
   },
   "outputs": [],
   "source": [
    "oneview_client = OneViewClient(config)"
   ]
  },
  {
   "cell_type": "markdown",
   "metadata": {},
   "source": [
    "\n",
    "#### ADVANCED: which functions are available?"
   ]
  },
  {
   "cell_type": "code",
   "execution_count": 116,
   "metadata": {},
   "outputs": [
    {
     "data": {
      "text/plain": [
       "['DEFAULT_API_VERSION',\n",
       " '_OneViewClient__alerts',\n",
       " '_OneViewClient__appliance_node_information',\n",
       " '_OneViewClient__appliance_time_and_locale_configuration',\n",
       " '_OneViewClient__backups',\n",
       " '_OneViewClient__certificate_authority',\n",
       " '_OneViewClient__certificate_rabbitmq',\n",
       " '_OneViewClient__connection',\n",
       " '_OneViewClient__connection_templates',\n",
       " '_OneViewClient__connections',\n",
       " '_OneViewClient__datacenters',\n",
       " '_OneViewClient__drive_enclures',\n",
       " '_OneViewClient__enclosure_groups',\n",
       " '_OneViewClient__enclosures',\n",
       " '_OneViewClient__endpoints',\n",
       " '_OneViewClient__ethernet_networks',\n",
       " '_OneViewClient__events',\n",
       " '_OneViewClient__fabrics',\n",
       " '_OneViewClient__fc_networks',\n",
       " '_OneViewClient__fcoe_networks',\n",
       " '_OneViewClient__firmware_bundles',\n",
       " '_OneViewClient__firmware_drivers',\n",
       " '_OneViewClient__id_pools',\n",
       " '_OneViewClient__id_pools_ipv4_ranges',\n",
       " '_OneViewClient__id_pools_ipv4_subnets',\n",
       " '_OneViewClient__id_pools_vmac_ranges',\n",
       " '_OneViewClient__id_pools_vsn_ranges',\n",
       " '_OneViewClient__id_pools_vwwn_ranges',\n",
       " '_OneViewClient__image_streamer_ip',\n",
       " '_OneViewClient__index_resources',\n",
       " '_OneViewClient__interconnect_link_topologies',\n",
       " '_OneViewClient__interconnect_types',\n",
       " '_OneViewClient__interconnects',\n",
       " '_OneViewClient__internal_link_sets',\n",
       " '_OneViewClient__labels',\n",
       " '_OneViewClient__licenses',\n",
       " '_OneViewClient__logical_downlinks',\n",
       " '_OneViewClient__logical_enclosures',\n",
       " '_OneViewClient__logical_interconnect_groups',\n",
       " '_OneViewClient__logical_interconnects',\n",
       " '_OneViewClient__logical_switch_groups',\n",
       " '_OneViewClient__logical_switches',\n",
       " '_OneViewClient__login_details',\n",
       " '_OneViewClient__managed_sans',\n",
       " '_OneViewClient__metric_streaming',\n",
       " '_OneViewClient__migratable_vc_domains',\n",
       " '_OneViewClient__network_sets',\n",
       " '_OneViewClient__os_deployment_plans',\n",
       " '_OneViewClient__os_deployment_servers',\n",
       " '_OneViewClient__power_devices',\n",
       " '_OneViewClient__racks',\n",
       " '_OneViewClient__restores',\n",
       " '_OneViewClient__roles',\n",
       " '_OneViewClient__san_managers',\n",
       " '_OneViewClient__sas_interconnect_types',\n",
       " '_OneViewClient__sas_interconnects',\n",
       " '_OneViewClient__sas_logical_interconnect_groups',\n",
       " '_OneViewClient__sas_logical_interconnects',\n",
       " '_OneViewClient__sas_logical_jbod_attachments',\n",
       " '_OneViewClient__sas_logical_jbods',\n",
       " '_OneViewClient__scopes',\n",
       " '_OneViewClient__server_hardware',\n",
       " '_OneViewClient__server_hardware_types',\n",
       " '_OneViewClient__server_profile_templates',\n",
       " '_OneViewClient__server_profiles',\n",
       " '_OneViewClient__set_proxy',\n",
       " '_OneViewClient__storage_pools',\n",
       " '_OneViewClient__storage_systems',\n",
       " '_OneViewClient__storage_volume_attachments',\n",
       " '_OneViewClient__storage_volume_templates',\n",
       " '_OneViewClient__switch_types',\n",
       " '_OneViewClient__switches',\n",
       " '_OneViewClient__tasks',\n",
       " '_OneViewClient__unmanaged_devices',\n",
       " '_OneViewClient__uplink_sets',\n",
       " '_OneViewClient__users',\n",
       " '_OneViewClient__versions',\n",
       " '_OneViewClient__volumes',\n",
       " '__class__',\n",
       " '__delattr__',\n",
       " '__dict__',\n",
       " '__dir__',\n",
       " '__doc__',\n",
       " '__eq__',\n",
       " '__format__',\n",
       " '__ge__',\n",
       " '__getattribute__',\n",
       " '__gt__',\n",
       " '__hash__',\n",
       " '__init__',\n",
       " '__init_subclass__',\n",
       " '__le__',\n",
       " '__lt__',\n",
       " '__module__',\n",
       " '__ne__',\n",
       " '__new__',\n",
       " '__reduce__',\n",
       " '__reduce_ex__',\n",
       " '__repr__',\n",
       " '__setattr__',\n",
       " '__sizeof__',\n",
       " '__str__',\n",
       " '__subclasshook__',\n",
       " '__weakref__',\n",
       " 'alerts',\n",
       " 'api_version',\n",
       " 'appliance_node_information',\n",
       " 'appliance_time_and_locale_configuration',\n",
       " 'backups',\n",
       " 'certificate_authority',\n",
       " 'certificate_rabbitmq',\n",
       " 'connection',\n",
       " 'connection_templates',\n",
       " 'connections',\n",
       " 'create_image_streamer_client',\n",
       " 'datacenters',\n",
       " 'drive_enclosures',\n",
       " 'enclosure_groups',\n",
       " 'enclosures',\n",
       " 'endpoints',\n",
       " 'ethernet_networks',\n",
       " 'events',\n",
       " 'fabrics',\n",
       " 'fc_networks',\n",
       " 'fcoe_networks',\n",
       " 'firmware_bundles',\n",
       " 'firmware_drivers',\n",
       " 'from_environment_variables',\n",
       " 'from_json_file',\n",
       " 'id_pools',\n",
       " 'id_pools_ipv4_ranges',\n",
       " 'id_pools_ipv4_subnets',\n",
       " 'id_pools_vmac_ranges',\n",
       " 'id_pools_vsn_ranges',\n",
       " 'id_pools_vwwn_ranges',\n",
       " 'index_resources',\n",
       " 'interconnect_link_topologies',\n",
       " 'interconnect_types',\n",
       " 'interconnects',\n",
       " 'internal_link_sets',\n",
       " 'labels',\n",
       " 'licenses',\n",
       " 'logical_downlinks',\n",
       " 'logical_enclosures',\n",
       " 'logical_interconnect_groups',\n",
       " 'logical_interconnects',\n",
       " 'logical_switch_groups',\n",
       " 'logical_switches',\n",
       " 'login_details',\n",
       " 'managed_sans',\n",
       " 'metric_streaming',\n",
       " 'migratable_vc_domains',\n",
       " 'network_sets',\n",
       " 'os_deployment_plans',\n",
       " 'os_deployment_servers',\n",
       " 'power_devices',\n",
       " 'racks',\n",
       " 'restores',\n",
       " 'roles',\n",
       " 'san_managers',\n",
       " 'sas_interconnect_types',\n",
       " 'sas_interconnects',\n",
       " 'sas_logical_interconnect_groups',\n",
       " 'sas_logical_interconnects',\n",
       " 'sas_logical_jbod_attachments',\n",
       " 'sas_logical_jbods',\n",
       " 'scopes',\n",
       " 'server_hardware',\n",
       " 'server_hardware_types',\n",
       " 'server_profile_templates',\n",
       " 'server_profiles',\n",
       " 'storage_pools',\n",
       " 'storage_systems',\n",
       " 'storage_volume_attachments',\n",
       " 'storage_volume_templates',\n",
       " 'switch_types',\n",
       " 'switches',\n",
       " 'tasks',\n",
       " 'unmanaged_devices',\n",
       " 'uplink_sets',\n",
       " 'users',\n",
       " 'versions',\n",
       " 'volumes']"
      ]
     },
     "execution_count": 116,
     "metadata": {},
     "output_type": "execute_result"
    }
   ],
   "source": [
    "dir(oneview_client)\n",
    "# dir(oneview_client.storage_volume_templates) # drill down "
   ]
  },
  {
   "cell_type": "markdown",
   "metadata": {},
   "source": [
    "### show existing networks\n",
    "\n",
    "<img src=\"Pictures/Network.png\" height=\"500\" width=\"500\" align=\"left\">\n",
    "<br>"
   ]
  },
  {
   "cell_type": "code",
   "execution_count": 117,
   "metadata": {},
   "outputs": [
    {
     "name": "stdout",
     "output_type": "stream",
     "text": [
      "The following networks exists:\n",
      "   'CTC Management 020' \n",
      "   'Production 102' \n",
      "   'CTC Demo 039' \n",
      "   'CTC Demo 033' \n",
      "   'Stratoscale_Guest4' \n",
      "   'Stratoscale_Edge' \n",
      "   'CTC Demo 036' \n",
      "   'Production 104' \n",
      "   'Stratoscale_Guest5' \n",
      "   'Stratoscale_Guest3' \n",
      "   'CTC Demo 037' \n",
      "   'Stratoscale_Guest2' \n",
      "   'CTC Demo 038' \n",
      "   'DevOps_Front' \n",
      "   'Stratoscale_Guest' \n",
      "   'Stratoscale_Access' \n",
      "   'CTC Demo 035' \n",
      "   'CTC Demo 030' \n",
      "   'Production 100' \n",
      "   'CTC Demo 034' \n",
      "   'CTC Demo 031' \n",
      "   'CTC Demo 032' \n",
      "   'Stratoscale_Data' \n",
      "   'Production 101' \n",
      "   'Stratoscale_Control' \n",
      "   'Hypervisor Tunnel' \n",
      "   'CTC SAP HANA 023' \n",
      "   'DevOps_Back' \n",
      "   'CTC Image Streamer 109' \n"
     ]
    }
   ],
   "source": [
    "roundtable_networks=oneview_client.ethernet_networks.get_all()\n",
    "print(\"The following networks exists:\")\n",
    "for net in roundtable_networks:\n",
    "  print(\"   '{name}' \".format(**net))   #at uri: '{uri}'   # \n",
    "  # oneview_client.ethernet_networks.delete(net) # this is only for preparation -> Delete´s all networks "
   ]
  },
  {
   "cell_type": "markdown",
   "metadata": {},
   "source": [
    "### create network\n",
    "\n",
    "<img src=\"Pictures/Network_create.png\" height=\"500\" width=\"500\" align=\"left\">"
   ]
  },
  {
   "cell_type": "code",
   "execution_count": 43,
   "metadata": {},
   "outputs": [
    {
     "name": "stdout",
     "output_type": "stream",
     "text": [
      "Created ethernet-network 'Roundtable - Test Ethernet Network' successfully.\n",
      "   uri = '/rest/ethernet-networks/c3c08587-9f69-41c7-9bdc-21148481e8a2'\n"
     ]
    }
   ],
   "source": [
    "options = {\n",
    "    \"name\": \"Roundtable - Test Ethernet Network\",\n",
    "    \"vlanId\": 200,\n",
    "    \"ethernetNetworkType\": \"Tagged\",\n",
    "    \"purpose\": \"General\",\n",
    "    \"smartLink\": False,\n",
    "    \"privateNetwork\": False,\n",
    "    \"connectionTemplateUri\": None\n",
    "}\n",
    "\n",
    "ethernet_network = oneview_client.ethernet_networks.create(options)\n",
    "print(\"Created ethernet-network '{name}' successfully.\\n   uri = '{uri}'\" .format(**ethernet_network))\n"
   ]
  },
  {
   "cell_type": "markdown",
   "metadata": {},
   "source": [
    "### create bulk network\n",
    "How to set up multiple networks at Once."
   ]
  },
  {
   "cell_type": "code",
   "execution_count": 22,
   "metadata": {
    "scrolled": false
   },
   "outputs": [
    {
     "name": "stdout",
     "output_type": "stream",
     "text": [
      "   'Roundtable-Ethernet_1' \n",
      "   'Roundtable-Ethernet_2' \n",
      "   'Roundtable-Ethernet_3' \n",
      "   'Roundtable-Ethernet_4' \n",
      "   'Roundtable-Ethernet_5' \n",
      "   'Roundtable-Ethernet_7' \n",
      "   'Roundtable-Ethernet_100' \n",
      "   'Roundtable-Ethernet_101' \n",
      "   'Roundtable-Ethernet_102' \n",
      "   'Roundtable-Ethernet_103' \n",
      "   'Roundtable-Ethernet_104' \n",
      "   'Roundtable-Ethernet_105' \n",
      "   'Roundtable-Ethernet_106' \n",
      "   'Roundtable-Ethernet_107' \n",
      "   'Roundtable-Ethernet_108' \n",
      "   'Roundtable-Ethernet_109' \n",
      "   'Roundtable-Ethernet_200' \n"
     ]
    }
   ],
   "source": [
    "options_bulk = {\n",
    "    \"vlanIdRange\": \"1-5,7,100-109,200\",\n",
    "    \"purpose\": \"General\",\n",
    "    \"namePrefix\": \"Roundtable-Ethernet\",\n",
    "    \"smartLink\": False,\n",
    "    \"privateNetwork\": False,\n",
    "    \"bandwidth\": {\n",
    "        \"maximumBandwidth\": 10000,\n",
    "        \"typicalBandwidth\": 2000\n",
    "    }\n",
    "}\n",
    "\n",
    "\n",
    "ethernet_nets_bulk = oneview_client.ethernet_networks.create_bulk(options_bulk)\n",
    "for net in ethernet_nets_bulk:\n",
    "  print(\"   '{name}' \".format(**net))   #at uri: '{uri}'\n",
    "\n"
   ]
  },
  {
   "cell_type": "markdown",
   "metadata": {},
   "source": [
    "### delete bulk network\n",
    "as it´s not needed for the demo"
   ]
  },
  {
   "cell_type": "code",
   "execution_count": 23,
   "metadata": {},
   "outputs": [],
   "source": [
    "for net in ethernet_nets_bulk:\n",
    "    oneview_client.ethernet_networks.delete(net)"
   ]
  },
  {
   "cell_type": "markdown",
   "metadata": {},
   "source": [
    "### show configured/existing storage (systems and pools)"
   ]
  },
  {
   "cell_type": "code",
   "execution_count": 123,
   "metadata": {
    "scrolled": true
   },
   "outputs": [
    {
     "name": "stdout",
     "output_type": "stream",
     "text": [
      "Storage Sytems:\n",
      "   '3par20k' \n",
      "   '3PAR8200' \n",
      "-------------------\n",
      "Storage Pools:\n",
      "   'FC_r1' \n",
      "   'FC_r5' \n",
      "   'FC_r6' \n",
      "   'SSD_r1' \n",
      "   'SSD_r5' \n",
      "   'SSD_r6' \n",
      "   'FC_r1' \n",
      "   'FC_r5' \n",
      "   'FC_r6' \n",
      "   'fs_cpg' \n"
     ]
    }
   ],
   "source": [
    "storage_system = oneview_client.storage_systems.get_all()\n",
    "storage_pools = oneview_client.storage_pools.get_all()\n",
    "\n",
    "# storage_pool_name = 'FC_r1'\n",
    "# storage_pools = oneview_client.storage_pools.get_by('name', storage_pool_name)[0]\n",
    "\n",
    "print(\"Storage Sytems:\")\n",
    "\n",
    "#rint(storage_system)\n",
    "for stor in storage_system:\n",
    "  print(\"   '{displayName}' \".format(**stor))   #at uri: '{uri}'\n",
    "\n",
    "#print(\"Storage System:\")\n",
    "#print (storage_system)\n",
    "#print(\"Storage Pools:\")\n",
    "# print(storage_pools)\n",
    "print(\"-------------------\")\n",
    "print(\"Storage Pools:\")\n",
    "for storpool in storage_pools:\n",
    "  print(\"   '{name}' \".format(**storpool))   #at uri: '{uri}'"
   ]
  },
  {
   "cell_type": "markdown",
   "metadata": {},
   "source": [
    "### show volume templates"
   ]
  },
  {
   "cell_type": "code",
   "execution_count": 198,
   "metadata": {},
   "outputs": [
    {
     "name": "stdout",
     "output_type": "stream",
     "text": [
      "   'Roundtable Volume Template' \n"
     ]
    }
   ],
   "source": [
    "storage_volume = oneview_client.storage_volume_templates.get_all(filter=\"\\\"isRoot='False'\\\"\")\n",
    "for storvol in storage_volume:\n",
    "  print(\"   '{name}' \".format(**storvol))   #at uri: '{uri}'\n",
    "  # oneview_client.storage_volume_templates.delete(storvol) "
   ]
  },
  {
   "cell_type": "markdown",
   "metadata": {},
   "source": [
    "### create volume template"
   ]
  },
  {
   "cell_type": "code",
   "execution_count": 197,
   "metadata": {},
   "outputs": [
    {
     "name": "stdout",
     "output_type": "stream",
     "text": [
      "/rest/storage-volume-templates/bf62b10a-7a6c-4c7a-ba1d-a8c800809aaa\n",
      "Storage volume created...\n"
     ]
    }
   ],
   "source": [
    "storage_pool_name = 'FC_r5'\n",
    "\n",
    "# Get the storage pool by name to use in options\n",
    "storage_pool = oneview_client.storage_pools.get_by('name', storage_pool_name)[0]\n",
    "\n",
    "# Gets the first Root Storage Volume Template available to use in options\n",
    "root_template = oneview_client.storage_volume_templates.get_all(filter=\"\\\"isRoot='True'\\\"\")[0]\n",
    "print(root_template['uri'])\n",
    "\n",
    "options = {\n",
    "    \"name\": \"Roundtable Volume Template\",\n",
    "    \"description\": \"\",\n",
    "    \"rootTemplateUri\": root_template['uri'],\n",
    "    \"properties\": {\n",
    "        \"name\": {\n",
    "            \"meta\": {\n",
    "                \"locked\": False\n",
    "            },\n",
    "            \"type\": \"string\",\n",
    "            \"title\": \"Volume name\",\n",
    "            \"required\": True,\n",
    "            \"maxLength\": 100,\n",
    "            \"minLength\": 1,\n",
    "            \"description\": \"A volume name between 1 and 100 characters\"\n",
    "        },\n",
    "        \"size\": {\n",
    "            \"meta\": {\n",
    "                \"locked\": False,\n",
    "                \"semanticType\": \"capacity\"\n",
    "            },\n",
    "            \"type\": \"integer\",\n",
    "            \"title\": \"Capacity\",\n",
    "            \"default\": 1073741824,\n",
    "            \"maximum\": 17592186044416,\n",
    "            \"minimum\": 268435456,\n",
    "            \"required\": True,\n",
    "            \"description\": \"The capacity of the volume in bytes\"\n",
    "        },\n",
    "        \"description\": {\n",
    "            \"meta\": {\n",
    "                \"locked\": False\n",
    "            },\n",
    "            \"type\": \"string\",\n",
    "            \"title\": \"Description\",\n",
    "            \"default\": \"\",\n",
    "            \"maxLength\": 2000,\n",
    "            \"minLength\": 0,\n",
    "            \"description\": \"A description for the volume\"\n",
    "        },\n",
    "        \"isShareable\": {\n",
    "            \"meta\": {\n",
    "                \"locked\": False\n",
    "            },\n",
    "            \"type\": \"boolean\",\n",
    "            \"title\": \"Is Shareable\",\n",
    "            \"default\": False,\n",
    "            \"description\": \"The shareability of the volume\"\n",
    "        },\n",
    "        \"storagePool\": {\n",
    "            \"meta\": {\n",
    "                \"locked\": False,\n",
    "                \"createOnly\": True,\n",
    "                \"semanticType\": \"device-storage-pool\"\n",
    "            },\n",
    "            \"type\": \"string\",\n",
    "            \"title\": \"Storage Pool\",\n",
    "            \"format\": \"x-uri-reference\",\n",
    "            \"required\": True,\n",
    "            \"description\": \"A common provisioning group URI reference\",\n",
    "            \"default\": storage_pool['uri']\n",
    "        },\n",
    "        \"snapshotPool\": {\n",
    "            \"meta\": {\n",
    "                \"locked\": True,\n",
    "                \"semanticType\": \"device-snapshot-storage-pool\"\n",
    "            },\n",
    "            \"type\": \"string\",\n",
    "            \"title\": \"Snapshot Pool\",\n",
    "            \"format\": \"x-uri-reference\",\n",
    "            \"default\": storage_pool['uri'],\n",
    "            \"description\": \"A URI reference to the common provisioning group used to create snapshots\"\n",
    "        },\n",
    "        \"provisioningType\": {\n",
    "            \"enum\": [\n",
    "                \"Thin\",\n",
    "                \"Full\",\n",
    "                \"Thin Deduplication\"\n",
    "            ],\n",
    "            \"meta\": {\n",
    "                \"locked\": True,\n",
    "                \"createOnly\": True\n",
    "            },\n",
    "            \"type\": \"string\",\n",
    "            \"title\": \"Provisioning Type\",\n",
    "            \"default\": \"Thin\",\n",
    "            \"description\": \"The provisioning type for the volume\"\n",
    "        }\n",
    "    }\n",
    "}\n",
    "\n",
    "volume_template = oneview_client.storage_volume_templates.create(options)\n",
    "print(\"Storage volume created...\")"
   ]
  },
  {
   "cell_type": "markdown",
   "metadata": {},
   "source": [
    "### delete storage template\n",
    "\"\"\" don´t use it, for the demo.. \"\"\""
   ]
  },
  {
   "cell_type": "code",
   "execution_count": 195,
   "metadata": {},
   "outputs": [],
   "source": [
    "storage_volume = oneview_client.storage_volume_templates.get_all(filter=\"\\\"name='Roundtable Volume Template'\\\"\")\n",
    "for storvol in storage_volume:\n",
    "    oneview_client.storage_volume_templates.delete(storvol)\n",
    "    "
   ]
  },
  {
   "cell_type": "markdown",
   "metadata": {},
   "source": [
    "### show Enclosure / Server Hardware / Bay"
   ]
  },
  {
   "cell_type": "code",
   "execution_count": 252,
   "metadata": {},
   "outputs": [
    {
     "name": "stdout",
     "output_type": "stream",
     "text": [
      "show enclosure\n",
      "SY 3 Frame SAS VC /rest/enclosure-groups/109eed5b-4cff-470e-b2ca-ffb26eb5c678\n",
      "\n",
      "show server hardware\n",
      "Synergy 660 Gen9 URI: /rest/server-hardware-types/A435F2DD-9EB9-4F98-B854-1A6B35140DC9\n",
      "Synergy 660 Gen10 URI: /rest/server-hardware-types/7AA9D8EE-C46A-4901-8D10-C252AF9DB1A4\n",
      "Synergy 480 Gen9 URI: /rest/server-hardware-types/860CAF19-0D67-401A-A1D2-536AA9356102\n",
      "Synergy 480 Gen9 URI: /rest/server-hardware-types/1131E4D0-9C51-4615-A20E-CCF00F02A94F\n",
      "Synergy 480 Gen10 URI: /rest/server-hardware-types/77E175FB-A4AA-4E95-8780-D1E9A40D3887\n",
      "Synergy 480 Gen10 URI: /rest/server-hardware-types/56C7D5F1-6221-4ACB-938B-21916B7DE5F3\n",
      "\n",
      "Enclosure/Bay\n",
      "CTC Synergy HE01, bay 1 Synergy 480 Gen10 /rest/server-hardware/39313738-3134-5A43-4A37-343030373531\n",
      "CTC Synergy HE01, bay 7 Synergy 480 Gen10 /rest/server-hardware/39313738-3134-5A43-4A37-343030373534\n",
      "CTC Synergy HE01, bay 2 Synergy 480 Gen10 /rest/server-hardware/39313738-3134-5A43-4A37-343030373535\n",
      "CTC Synergy HE01, bay 8 Synergy 480 Gen10 /rest/server-hardware/39313738-3134-5A43-4A37-343030373532\n",
      "CTC Synergy HE01, bay 3 Synergy 480 Gen10 /rest/server-hardware/39313738-3134-5A43-4A37-343030373536\n",
      "CTC Synergy HE11, bay 3 Synergy 480 Gen9 /rest/server-hardware/33323337-3235-5A43-3337-303948545332\n",
      "CTC Synergy HE11, bay 7 Synergy 480 Gen9 /rest/server-hardware/33323337-3235-5A43-3337-30394854544D\n",
      "CTC Synergy HE11, bay 5 Synergy 480 Gen9 /rest/server-hardware/33323337-3235-5A43-3337-303948545438\n",
      "CTC Synergy HE11, bay 8 Synergy 480 Gen9 /rest/server-hardware/33323337-3235-5A43-3337-303948545632\n",
      "CTC Synergy HE11, bay 4 Synergy 480 Gen9 /rest/server-hardware/33323337-3235-5A43-3337-303948545345\n",
      "CTC Synergy HE11, bay 10 Synergy 480 Gen9 /rest/server-hardware/33323337-3235-5A43-3337-303948545656\n",
      "CTC Synergy HE11, bay 9 Synergy 480 Gen9 /rest/server-hardware/33323337-3235-5A43-3337-303948545645\n",
      "CTC Synergy HE01, bay 9 Synergy 480 Gen10 /rest/server-hardware/39313738-3134-5A43-4A37-343030373533\n",
      "CTC Synergy HE11, bay 2 Synergy 480 Gen9 /rest/server-hardware/33323337-3235-5A43-3337-30394854524D\n",
      "CTC Synergy HE21, bay 2 Synergy 480 Gen9 /rest/server-hardware/36343537-3338-4E43-3736-303230355931\n",
      "CTC Synergy HE11, bay 6 Synergy 480 Gen9 /rest/server-hardware/33323337-3235-5A43-3337-303948545356\n",
      "CTC Synergy HE21, bay 5 Synergy 660 Gen10 /rest/server-hardware/39313738-3133-5A43-4A37-343030373931\n",
      "CTC Synergy HE21, bay 1 Synergy 480 Gen9 /rest/server-hardware/36343537-3338-4E43-3736-303230383144\n",
      "CTC Synergy HE21, bay 3 Synergy 480 Gen10 /rest/server-hardware/39313738-3234-5A43-4A37-343030373559\n",
      "CTC Synergy HE21, bay 10 Synergy 480 Gen9 /rest/server-hardware/33323337-3235-5A43-3337-303948545238\n",
      "CTC Synergy HE21, bay 6 Synergy 660 Gen9 /rest/server-hardware/30373737-3237-4E43-3735-353030335447\n",
      "CTC Synergy HE21, bay 4 Synergy 480 Gen10 /rest/server-hardware/39313738-3234-5A43-4A37-343030373558\n"
     ]
    }
   ],
   "source": [
    "print (\"show enclosure\")\n",
    "enclosure = oneview_client.enclosure_groups.get_all()\n",
    "for enc in enclosure:\n",
    "    print(enc['name'] + \" \" + enc['uri'])\n",
    "\n",
    "print(\"\\nshow server hardware\")\n",
    "server_hardware_types = oneview_client.server_hardware_types.get_all(sort='name:descending')\n",
    "# print(server_hardware_types)\n",
    "for serverhw in server_hardware_types:\n",
    "    # print(' %s ' % serverhw['model'])\n",
    "    print(serverhw['model'] + \" URI: \" + serverhw['uri'])\n",
    "\n",
    "print(\"\\nEnclosure/Bay\")   \n",
    "server_hardware = oneview_client.server_hardware.get_all()\n",
    "for server in server_hardware:\n",
    "    print(server['name'] + \" \" + server['model'] + \" \" + server['uri'])"
   ]
  },
  {
   "cell_type": "markdown",
   "metadata": {},
   "source": [
    "### show Serverprofile\n"
   ]
  },
  {
   "cell_type": "code",
   "execution_count": 253,
   "metadata": {},
   "outputs": [
    {
     "name": "stdout",
     "output_type": "stream",
     "text": [
      "show server profiles:\n",
      "DEMO Windwos 005\n",
      "SRT-LC-Win02\n",
      "SRT-LC-WIN01\n",
      "DEM05CTCCON01\n",
      "SRT-SmartCache-Demo\n",
      "SRT-SUO04SY2102\n",
      "DEM04CTCL0 CTC SAP HANA Demo\n",
      "DEMO-CTC ESX SUO04CTCD001\n",
      "CTC ESXi Reference Server GoldenImage\n",
      "CTC Windows2016 Reference Server GoldenImage für Gen10\n",
      "SUO04CTCSTRA1\n",
      "SRT-SUO04SY2110\n",
      "suo04ctcgc01\n",
      "SUO04CTCSTRA3\n",
      "suo04ctcgc03\n",
      "SUO04CTCSTRA5\n",
      "suo04ctcgc02\n",
      "Dirks API DEMO\n",
      "SUO04CTCSTRA4\n",
      "CTC Windows2016 Reference Server GoldenImage für Gen9\n",
      "SUO04CTCSTRA2\n",
      "SRT-SUO04SY2101\n",
      "SUO04CTCSTRA6\n"
     ]
    }
   ],
   "source": [
    "print(\"show server profiles:\")\n",
    "all_profiles = oneview_client.server_profiles.get_all()\n",
    "for profile in all_profiles:\n",
    "    print(profile['name'])"
   ]
  },
  {
   "cell_type": "markdown",
   "metadata": {},
   "source": [
    "### ImageStreamer"
   ]
  },
  {
   "cell_type": "code",
   "execution_count": null,
   "metadata": {},
   "outputs": [],
   "source": []
  },
  {
   "cell_type": "markdown",
   "metadata": {},
   "source": [
    "### Excel Export:\n",
    "\n",
    "\n",
    "Alle Serverprofile exportieren...\n",
    "\n",
    "MAC Adresse \n",
    "\n",
    "Servername / Seriennummer / MAC Address "
   ]
  },
  {
   "cell_type": "code",
   "execution_count": null,
   "metadata": {},
   "outputs": [],
   "source": []
  },
  {
   "cell_type": "markdown",
   "metadata": {},
   "source": [
    "### 2 Tier application\n",
    "\n",
    "\n",
    "create network\n",
    "create storage\n",
    "create serverprofile (cpu/bios settings)\n",
    "\n",
    "as we have limited time, we are starting them as container!\n",
    "\n",
    "1-Tier - Deploy Webserver\n",
    "2-Tier - Database\n"
   ]
  },
  {
   "cell_type": "code",
   "execution_count": null,
   "metadata": {},
   "outputs": [],
   "source": [
    "print(\"\\ndedicated server profile example\")    \n",
    "profile = oneview_client.server_profiles.get_by_name(\"Dirks API DEMO\")\n",
    "print(profile)\n",
    "print(\"Seriennummer :\", profile['serialNumber'])\n",
    "print(\"IP :\", profile['osDeploymentSettings'])\n",
    "print(\"\\n\\n\")\n",
    "print(profile.items())"
   ]
  }
 ],
 "metadata": {
  "kernelspec": {
   "display_name": "Python 3",
   "language": "python",
   "name": "python3"
  },
  "language_info": {
   "codemirror_mode": {
    "name": "ipython",
    "version": 3
   },
   "file_extension": ".py",
   "mimetype": "text/x-python",
   "name": "python",
   "nbconvert_exporter": "python",
   "pygments_lexer": "ipython3",
   "version": "3.7.0"
  }
 },
 "nbformat": 4,
 "nbformat_minor": 2
}
