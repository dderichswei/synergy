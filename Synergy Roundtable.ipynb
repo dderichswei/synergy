{
 "cells": [
  {
   "cell_type": "markdown",
   "metadata": {},
   "source": [
    "# Welcome to the Synergy Roundtable\n",
    "created by Dirk Derichsweiler - 05/10/2018<br>\n",
    "do not hesitate to contact me: dirk.derichsweiler@hpe.com\n",
    "\n",
    "jupyter Notebook can be found: https://github.com <- exchange url!\n",
    "\n",
    "\n",
    "#### requirements\n",
    "Python + hpOneView Python Library (see: https://github.com/HewlettPackard/python-hpOneView/wiki/HPE-OneView-Python-Windows-Setup-Guide)\n",
    "\n",
    "\n",
    "#### additional information\n",
    "\n",
    "On your HPE OneView appliance, or online<br>\n",
    "https://192.168.146.34/help/cic-rest/en/content/index.html#home.html<br>\n",
    "https://192.168.146.34/api-docs/current/ <br>\n",
    "http://www.hpe.com/info/oneview/docs <br>\n",
    "https://developer.hpe.com/\n",
    "\n",
    "#### python specific\n",
    "https://hewlettpackard.github.io/python-hpOneView/index.html<br>\n",
    "https://github.com/HewlettPackard/python-hpOneView<br>\n",
    "\n",
    "\n",
    "### Login\n",
    "\n",
    "<img src=\"Pictures/Login.gif\" height=\"500\" width=\"500\" align=\"left\">"
   ]
  },
  {
   "cell_type": "markdown",
   "metadata": {},
   "source": [
    "##### import the python OneView library"
   ]
  },
  {
   "cell_type": "code",
   "execution_count": 1,
   "metadata": {},
   "outputs": [],
   "source": [
    "from hpOneView.oneview_client import OneViewClient"
   ]
  },
  {
   "cell_type": "markdown",
   "metadata": {},
   "source": [
    "##### configure your environment:"
   ]
  },
  {
   "cell_type": "code",
   "execution_count": 2,
   "metadata": {},
   "outputs": [],
   "source": [
    "config = {\n",
    "    \"api_version\": \"500\",\n",
    "    \"ip\": \"10.0.20.50\",\n",
    "    \"image_streamer_ip\": \"\",\n",
    "    \"credentials\": {\n",
    "        \"userName\": \"dderichswei@demo.local\",\n",
    "        \"password\": \"Compaq1!\"\n",
    "    }\n",
    "}"
   ]
  },
  {
   "cell_type": "markdown",
   "metadata": {},
   "source": [
    "##### login:\n",
    "create new object oneview_client with the config (see above)"
   ]
  },
  {
   "cell_type": "code",
   "execution_count": 3,
   "metadata": {
    "scrolled": true
   },
   "outputs": [],
   "source": [
    "oneview_client = OneViewClient(config)"
   ]
  },
  {
   "cell_type": "markdown",
   "metadata": {},
   "source": [
    "\n",
    "#### ADVANCED: which functions are available?"
   ]
  },
  {
   "cell_type": "code",
   "execution_count": 4,
   "metadata": {},
   "outputs": [
    {
     "data": {
      "text/plain": [
       "['DEFAULT_API_VERSION',\n",
       " '_OneViewClient__alerts',\n",
       " '_OneViewClient__appliance_node_information',\n",
       " '_OneViewClient__appliance_time_and_locale_configuration',\n",
       " '_OneViewClient__backups',\n",
       " '_OneViewClient__certificate_authority',\n",
       " '_OneViewClient__certificate_rabbitmq',\n",
       " '_OneViewClient__connection',\n",
       " '_OneViewClient__connection_templates',\n",
       " '_OneViewClient__connections',\n",
       " '_OneViewClient__datacenters',\n",
       " '_OneViewClient__drive_enclures',\n",
       " '_OneViewClient__enclosure_groups',\n",
       " '_OneViewClient__enclosures',\n",
       " '_OneViewClient__endpoints',\n",
       " '_OneViewClient__ethernet_networks',\n",
       " '_OneViewClient__events',\n",
       " '_OneViewClient__fabrics',\n",
       " '_OneViewClient__fc_networks',\n",
       " '_OneViewClient__fcoe_networks',\n",
       " '_OneViewClient__firmware_bundles',\n",
       " '_OneViewClient__firmware_drivers',\n",
       " '_OneViewClient__id_pools',\n",
       " '_OneViewClient__id_pools_ipv4_ranges',\n",
       " '_OneViewClient__id_pools_ipv4_subnets',\n",
       " '_OneViewClient__id_pools_vmac_ranges',\n",
       " '_OneViewClient__id_pools_vsn_ranges',\n",
       " '_OneViewClient__id_pools_vwwn_ranges',\n",
       " '_OneViewClient__image_streamer_ip',\n",
       " '_OneViewClient__index_resources',\n",
       " '_OneViewClient__interconnect_link_topologies',\n",
       " '_OneViewClient__interconnect_types',\n",
       " '_OneViewClient__interconnects',\n",
       " '_OneViewClient__internal_link_sets',\n",
       " '_OneViewClient__labels',\n",
       " '_OneViewClient__licenses',\n",
       " '_OneViewClient__logical_downlinks',\n",
       " '_OneViewClient__logical_enclosures',\n",
       " '_OneViewClient__logical_interconnect_groups',\n",
       " '_OneViewClient__logical_interconnects',\n",
       " '_OneViewClient__logical_switch_groups',\n",
       " '_OneViewClient__logical_switches',\n",
       " '_OneViewClient__login_details',\n",
       " '_OneViewClient__managed_sans',\n",
       " '_OneViewClient__metric_streaming',\n",
       " '_OneViewClient__migratable_vc_domains',\n",
       " '_OneViewClient__network_sets',\n",
       " '_OneViewClient__os_deployment_plans',\n",
       " '_OneViewClient__os_deployment_servers',\n",
       " '_OneViewClient__power_devices',\n",
       " '_OneViewClient__racks',\n",
       " '_OneViewClient__restores',\n",
       " '_OneViewClient__roles',\n",
       " '_OneViewClient__san_managers',\n",
       " '_OneViewClient__sas_interconnect_types',\n",
       " '_OneViewClient__sas_interconnects',\n",
       " '_OneViewClient__sas_logical_interconnect_groups',\n",
       " '_OneViewClient__sas_logical_interconnects',\n",
       " '_OneViewClient__sas_logical_jbod_attachments',\n",
       " '_OneViewClient__sas_logical_jbods',\n",
       " '_OneViewClient__scopes',\n",
       " '_OneViewClient__server_hardware',\n",
       " '_OneViewClient__server_hardware_types',\n",
       " '_OneViewClient__server_profile_templates',\n",
       " '_OneViewClient__server_profiles',\n",
       " '_OneViewClient__set_proxy',\n",
       " '_OneViewClient__storage_pools',\n",
       " '_OneViewClient__storage_systems',\n",
       " '_OneViewClient__storage_volume_attachments',\n",
       " '_OneViewClient__storage_volume_templates',\n",
       " '_OneViewClient__switch_types',\n",
       " '_OneViewClient__switches',\n",
       " '_OneViewClient__tasks',\n",
       " '_OneViewClient__unmanaged_devices',\n",
       " '_OneViewClient__uplink_sets',\n",
       " '_OneViewClient__users',\n",
       " '_OneViewClient__versions',\n",
       " '_OneViewClient__volumes',\n",
       " '__class__',\n",
       " '__delattr__',\n",
       " '__dict__',\n",
       " '__dir__',\n",
       " '__doc__',\n",
       " '__eq__',\n",
       " '__format__',\n",
       " '__ge__',\n",
       " '__getattribute__',\n",
       " '__gt__',\n",
       " '__hash__',\n",
       " '__init__',\n",
       " '__init_subclass__',\n",
       " '__le__',\n",
       " '__lt__',\n",
       " '__module__',\n",
       " '__ne__',\n",
       " '__new__',\n",
       " '__reduce__',\n",
       " '__reduce_ex__',\n",
       " '__repr__',\n",
       " '__setattr__',\n",
       " '__sizeof__',\n",
       " '__str__',\n",
       " '__subclasshook__',\n",
       " '__weakref__',\n",
       " 'alerts',\n",
       " 'api_version',\n",
       " 'appliance_node_information',\n",
       " 'appliance_time_and_locale_configuration',\n",
       " 'backups',\n",
       " 'certificate_authority',\n",
       " 'certificate_rabbitmq',\n",
       " 'connection',\n",
       " 'connection_templates',\n",
       " 'connections',\n",
       " 'create_image_streamer_client',\n",
       " 'datacenters',\n",
       " 'drive_enclosures',\n",
       " 'enclosure_groups',\n",
       " 'enclosures',\n",
       " 'endpoints',\n",
       " 'ethernet_networks',\n",
       " 'events',\n",
       " 'fabrics',\n",
       " 'fc_networks',\n",
       " 'fcoe_networks',\n",
       " 'firmware_bundles',\n",
       " 'firmware_drivers',\n",
       " 'from_environment_variables',\n",
       " 'from_json_file',\n",
       " 'id_pools',\n",
       " 'id_pools_ipv4_ranges',\n",
       " 'id_pools_ipv4_subnets',\n",
       " 'id_pools_vmac_ranges',\n",
       " 'id_pools_vsn_ranges',\n",
       " 'id_pools_vwwn_ranges',\n",
       " 'index_resources',\n",
       " 'interconnect_link_topologies',\n",
       " 'interconnect_types',\n",
       " 'interconnects',\n",
       " 'internal_link_sets',\n",
       " 'labels',\n",
       " 'licenses',\n",
       " 'logical_downlinks',\n",
       " 'logical_enclosures',\n",
       " 'logical_interconnect_groups',\n",
       " 'logical_interconnects',\n",
       " 'logical_switch_groups',\n",
       " 'logical_switches',\n",
       " 'login_details',\n",
       " 'managed_sans',\n",
       " 'metric_streaming',\n",
       " 'migratable_vc_domains',\n",
       " 'network_sets',\n",
       " 'os_deployment_plans',\n",
       " 'os_deployment_servers',\n",
       " 'power_devices',\n",
       " 'racks',\n",
       " 'restores',\n",
       " 'roles',\n",
       " 'san_managers',\n",
       " 'sas_interconnect_types',\n",
       " 'sas_interconnects',\n",
       " 'sas_logical_interconnect_groups',\n",
       " 'sas_logical_interconnects',\n",
       " 'sas_logical_jbod_attachments',\n",
       " 'sas_logical_jbods',\n",
       " 'scopes',\n",
       " 'server_hardware',\n",
       " 'server_hardware_types',\n",
       " 'server_profile_templates',\n",
       " 'server_profiles',\n",
       " 'storage_pools',\n",
       " 'storage_systems',\n",
       " 'storage_volume_attachments',\n",
       " 'storage_volume_templates',\n",
       " 'switch_types',\n",
       " 'switches',\n",
       " 'tasks',\n",
       " 'unmanaged_devices',\n",
       " 'uplink_sets',\n",
       " 'users',\n",
       " 'versions',\n",
       " 'volumes']"
      ]
     },
     "execution_count": 4,
     "metadata": {},
     "output_type": "execute_result"
    }
   ],
   "source": [
    "dir(oneview_client)\n",
    "# dir(oneview_client.storage_volume_templates) # drill down "
   ]
  },
  {
   "cell_type": "markdown",
   "metadata": {},
   "source": [
    "### show existing networks\n",
    "\n",
    "<img src=\"Pictures/show_network.gif\" height=\"500\" width=\"500\" align=\"left\">\n",
    "<br>"
   ]
  },
  {
   "cell_type": "code",
   "execution_count": 6,
   "metadata": {},
   "outputs": [
    {
     "name": "stdout",
     "output_type": "stream",
     "text": [
      "The following networks exists:\n",
      "CTC Management 020\n",
      "Production 102\n",
      "CTC Demo 039\n",
      "CTC Demo 033\n",
      "Stratoscale_Guest4\n",
      "Stratoscale_Edge\n",
      "CTC Demo 036\n",
      "Production 104\n",
      "Stratoscale_Guest5\n",
      "Stratoscale_Guest3\n",
      "CTC Demo 037\n",
      "Stratoscale_Guest2\n",
      "CTC Demo 038\n",
      "DevOps_Front\n",
      "Stratoscale_Guest\n",
      "Stratoscale_Access\n",
      "CTC Demo 035\n",
      "CTC Demo 030\n",
      "Production 100\n",
      "CTC Demo 034\n",
      "CTC Demo 031\n",
      "CTC Demo 032\n",
      "Stratoscale_Data\n",
      "Production 101\n",
      "Stratoscale_Control\n",
      "Roundtable - Test Ethernet Network\n",
      "Hypervisor Tunnel\n",
      "CTC SAP HANA 023\n",
      "DevOps_Back\n",
      "CTC Image Streamer 109\n"
     ]
    }
   ],
   "source": [
    "roundtable_networks=oneview_client.ethernet_networks.get_all()\n",
    "# print(roundtable_networks)\n",
    "\n",
    "print(\"The following networks exists:\")\n",
    "for net in roundtable_networks:\n",
    "    # print(net['name'] + \" VLAN ID:\" + str(net['vlanId']))\n",
    "    print(net['name'] )\n"
   ]
  },
  {
   "cell_type": "markdown",
   "metadata": {},
   "source": [
    "### create network\n",
    "\n",
    "<img src=\"Pictures/create_network.gif\" height=\"500\" width=\"500\" align=\"left\">"
   ]
  },
  {
   "cell_type": "code",
   "execution_count": null,
   "metadata": {},
   "outputs": [],
   "source": [
    "options = {\n",
    "    \"name\": \"Roundtable - Test Ethernet Network\",\n",
    "    \"vlanId\": 200,\n",
    "    \"ethernetNetworkType\": \"Tagged\",\n",
    "    \"purpose\": \"General\",\n",
    "    \"smartLink\": False,\n",
    "    \"privateNetwork\": False,\n",
    "    \"connectionTemplateUri\": None\n",
    "}\n",
    "\n",
    "ethernet_network = oneview_client.ethernet_networks.create(options)\n",
    "print(\"Created ethernet-network \" + ethernet_network['name'] + \"   URI: \" + ethernet_network['uri'] + \"successfully.\")\n"
   ]
  },
  {
   "cell_type": "markdown",
   "metadata": {},
   "source": [
    "### create bulk network\n",
    "How to set up multiple networks at once."
   ]
  },
  {
   "cell_type": "code",
   "execution_count": 7,
   "metadata": {
    "scrolled": false
   },
   "outputs": [
    {
     "name": "stdout",
     "output_type": "stream",
     "text": [
      "created network: Roundtable-Ethernet_1 URI: /rest/ethernet-networks/bc47a297-d495-429e-9778-c69a771165e0\n",
      "created network: Roundtable-Ethernet_2 URI: /rest/ethernet-networks/76b6dffd-769e-4fe5-82d1-bb0a99bb6136\n",
      "created network: Roundtable-Ethernet_3 URI: /rest/ethernet-networks/fcc78927-8439-44cb-9e7c-d41bb3414f92\n",
      "created network: Roundtable-Ethernet_4 URI: /rest/ethernet-networks/d77936da-01b1-4155-8e9c-cb3601b172f9\n",
      "created network: Roundtable-Ethernet_5 URI: /rest/ethernet-networks/c90ae788-9d8b-4519-a459-f1b3568bc8fd\n",
      "created network: Roundtable-Ethernet_7 URI: /rest/ethernet-networks/5ac822c9-ebff-4664-a011-2dc98fcee025\n",
      "created network: Roundtable-Ethernet_100 URI: /rest/ethernet-networks/00f45611-f2ab-45e5-97c4-67114936712e\n",
      "created network: Roundtable-Ethernet_101 URI: /rest/ethernet-networks/35155e6c-558b-4be3-954f-9be92720477e\n",
      "created network: Roundtable-Ethernet_102 URI: /rest/ethernet-networks/53b92ffb-3e3e-4d06-8844-fcaec3f65777\n",
      "created network: Roundtable-Ethernet_103 URI: /rest/ethernet-networks/8ea73b23-20a7-4ee6-995c-c82d374ad8b0\n",
      "created network: Roundtable-Ethernet_104 URI: /rest/ethernet-networks/7ea693cd-f9ce-43ec-b3fd-e12aeb2f61fb\n",
      "created network: Roundtable-Ethernet_105 URI: /rest/ethernet-networks/65aba746-7109-40a9-8470-07972eb3cb73\n",
      "created network: Roundtable-Ethernet_106 URI: /rest/ethernet-networks/32a7dc06-abbb-4d68-8f43-d3644258794d\n",
      "created network: Roundtable-Ethernet_107 URI: /rest/ethernet-networks/e50307cf-7ba5-4a7e-a1ec-667212e3c8f0\n",
      "created network: Roundtable-Ethernet_108 URI: /rest/ethernet-networks/70440402-6c32-4114-85b7-ffead308cbe3\n",
      "created network: Roundtable-Ethernet_109 URI: /rest/ethernet-networks/7bb44404-aeb6-401c-8103-9c9f32444c31\n",
      "created network: Roundtable-Ethernet_200 URI: /rest/ethernet-networks/be12b390-6008-49e5-8659-6df412ff9efd\n"
     ]
    }
   ],
   "source": [
    "options_bulk = {\n",
    "    \"vlanIdRange\": \"1-5,7,100-109,200\",\n",
    "    \"purpose\": \"General\",\n",
    "    \"namePrefix\": \"Roundtable-Ethernet\",\n",
    "    \"smartLink\": False,\n",
    "    \"privateNetwork\": False,\n",
    "    \"bandwidth\": {\n",
    "        \"maximumBandwidth\": 10000,\n",
    "        \"typicalBandwidth\": 2000\n",
    "    }\n",
    "}\n",
    "\n",
    "\n",
    "ethernet_nets_bulk = oneview_client.ethernet_networks.create_bulk(options_bulk)\n",
    "for net in ethernet_nets_bulk: \n",
    "  print(\"created network: \" + net['name'] + \" URI: \" + net['uri'])"
   ]
  },
  {
   "cell_type": "markdown",
   "metadata": {},
   "source": [
    "### delete bulk network\n",
    "as it´s not needed for the demo"
   ]
  },
  {
   "cell_type": "code",
   "execution_count": 8,
   "metadata": {},
   "outputs": [
    {
     "name": "stdout",
     "output_type": "stream",
     "text": [
      "delete network: Roundtable-Ethernet_1\n",
      "delete network: Roundtable-Ethernet_2\n",
      "delete network: Roundtable-Ethernet_3\n",
      "delete network: Roundtable-Ethernet_4\n",
      "delete network: Roundtable-Ethernet_5\n",
      "delete network: Roundtable-Ethernet_7\n",
      "delete network: Roundtable-Ethernet_100\n",
      "delete network: Roundtable-Ethernet_101\n",
      "delete network: Roundtable-Ethernet_102\n",
      "delete network: Roundtable-Ethernet_103\n",
      "delete network: Roundtable-Ethernet_104\n",
      "delete network: Roundtable-Ethernet_105\n",
      "delete network: Roundtable-Ethernet_106\n",
      "delete network: Roundtable-Ethernet_107\n",
      "delete network: Roundtable-Ethernet_108\n",
      "delete network: Roundtable-Ethernet_109\n",
      "delete network: Roundtable-Ethernet_200\n"
     ]
    }
   ],
   "source": [
    "for net in ethernet_nets_bulk:\n",
    "    oneview_client.ethernet_networks.delete(net)\n",
    "    print(\"delete network: \" + net['name'])"
   ]
  },
  {
   "cell_type": "markdown",
   "metadata": {},
   "source": [
    "### show configured/existing storage (systems and pools)\n",
    "\n",
    "<img src=\"Pictures/show_storage.gif\" height=\"500\" width=\"500\" align=\"left\">"
   ]
  },
  {
   "cell_type": "code",
   "execution_count": 11,
   "metadata": {
    "scrolled": true
   },
   "outputs": [
    {
     "name": "stdout",
     "output_type": "stream",
     "text": [
      "Storage Sytems:\n",
      "3par20k    URI: /rest/storage-systems/CZ3706DWBB\n",
      "3PAR8200    URI: /rest/storage-systems/CZ38277F39\n",
      "\n",
      "Storage Pools:\n",
      "FC_r1    URI: /rest/storage-systems/CZ38277F39\n",
      "FC_r5    URI: /rest/storage-systems/CZ38277F39\n",
      "FC_r6    URI: /rest/storage-systems/CZ38277F39\n",
      "SSD_r1    URI: /rest/storage-systems/CZ38277F39\n",
      "SSD_r5    URI: /rest/storage-systems/CZ38277F39\n",
      "SSD_r6    URI: /rest/storage-systems/CZ38277F39\n",
      "FC_r1    URI: /rest/storage-systems/CZ38277F39\n",
      "FC_r5    URI: /rest/storage-systems/CZ38277F39\n",
      "FC_r6    URI: /rest/storage-systems/CZ38277F39\n",
      "fs_cpg    URI: /rest/storage-systems/CZ38277F39\n"
     ]
    }
   ],
   "source": [
    "storage_system = oneview_client.storage_systems.get_all()\n",
    "storage_pools = oneview_client.storage_pools.get_all()\n",
    "\n",
    "# storage_pool_name = 'FC_r1'\n",
    "# storage_pools = oneview_client.storage_pools.get_by('name', storage_pool_name)[0]\n",
    "\n",
    "print(\"Storage Sytems:\")\n",
    "for stor in storage_system: \n",
    "  print(stor['displayName'] + \"    URI: \" + stor['uri'])\n",
    "\n",
    "print(\"\\nStorage Pools:\")\n",
    "for storpool in storage_pools:\n",
    "  print(storpool['name'] + \"    URI: \" + stor['uri'])"
   ]
  },
  {
   "cell_type": "markdown",
   "metadata": {},
   "source": [
    "### show volume templates"
   ]
  },
  {
   "cell_type": "code",
   "execution_count": null,
   "metadata": {},
   "outputs": [],
   "source": [
    "storage_volume = oneview_client.storage_volume_templates.get_all(filter=\"\\\"isRoot='False'\\\"\")\n",
    "for storvol in storage_volume:\n",
    "    print(storvol['name'])\n"
   ]
  },
  {
   "cell_type": "markdown",
   "metadata": {},
   "source": [
    "### create volume template\n",
    "\n",
    "<img src=\"Pictures/create_volume_template.gif\" height=\"500\" width=\"500\" align=\"left\">"
   ]
  },
  {
   "cell_type": "code",
   "execution_count": null,
   "metadata": {},
   "outputs": [],
   "source": [
    "storage_pool_name = 'FC_r5'\n",
    "\n",
    "# Get the storage pool by name to use in options\n",
    "storage_pool = oneview_client.storage_pools.get_by('name', storage_pool_name)[0]\n",
    "\n",
    "# Gets the first Root Storage Volume Template available to use in options\n",
    "root_template = oneview_client.storage_volume_templates.get_all(filter=\"\\\"isRoot='True'\\\"\")[0]\n",
    "print(root_template['uri'])\n",
    "\n",
    "options = {\n",
    "    \"name\": \"Roundtable Volume Template\",\n",
    "    \"description\": \"\",\n",
    "    \"rootTemplateUri\": root_template['uri'],\n",
    "    \"properties\": {\n",
    "        \"name\": {\n",
    "            \"meta\": {\n",
    "                \"locked\": False\n",
    "            },\n",
    "            \"type\": \"string\",\n",
    "            \"title\": \"Volume name\",\n",
    "            \"required\": True,\n",
    "            \"maxLength\": 100,\n",
    "            \"minLength\": 1,\n",
    "            \"description\": \"A volume name between 1 and 100 characters\"\n",
    "        },\n",
    "        \"size\": {\n",
    "            \"meta\": {\n",
    "                \"locked\": False,\n",
    "                \"semanticType\": \"capacity\"\n",
    "            },\n",
    "            \"type\": \"integer\",\n",
    "            \"title\": \"Capacity\",\n",
    "            \"default\": 1073741824,\n",
    "            \"maximum\": 17592186044416,\n",
    "            \"minimum\": 268435456,\n",
    "            \"required\": True,\n",
    "            \"description\": \"The capacity of the volume in bytes\"\n",
    "        },\n",
    "        \"description\": {\n",
    "            \"meta\": {\n",
    "                \"locked\": False\n",
    "            },\n",
    "            \"type\": \"string\",\n",
    "            \"title\": \"Description\",\n",
    "            \"default\": \"\",\n",
    "            \"maxLength\": 2000,\n",
    "            \"minLength\": 0,\n",
    "            \"description\": \"A description for the volume\"\n",
    "        },\n",
    "        \"isShareable\": {\n",
    "            \"meta\": {\n",
    "                \"locked\": False\n",
    "            },\n",
    "            \"type\": \"boolean\",\n",
    "            \"title\": \"Is Shareable\",\n",
    "            \"default\": False,\n",
    "            \"description\": \"The shareability of the volume\"\n",
    "        },\n",
    "        \"storagePool\": {\n",
    "            \"meta\": {\n",
    "                \"locked\": False,\n",
    "                \"createOnly\": True,\n",
    "                \"semanticType\": \"device-storage-pool\"\n",
    "            },\n",
    "            \"type\": \"string\",\n",
    "            \"title\": \"Storage Pool\",\n",
    "            \"format\": \"x-uri-reference\",\n",
    "            \"required\": True,\n",
    "            \"description\": \"A common provisioning group URI reference\",\n",
    "            \"default\": storage_pool['uri']\n",
    "        },\n",
    "        \"snapshotPool\": {\n",
    "            \"meta\": {\n",
    "                \"locked\": True,\n",
    "                \"semanticType\": \"device-snapshot-storage-pool\"\n",
    "            },\n",
    "            \"type\": \"string\",\n",
    "            \"title\": \"Snapshot Pool\",\n",
    "            \"format\": \"x-uri-reference\",\n",
    "            \"default\": storage_pool['uri'],\n",
    "            \"description\": \"A URI reference to the common provisioning group used to create snapshots\"\n",
    "        },\n",
    "        \"provisioningType\": {\n",
    "            \"enum\": [\n",
    "                \"Thin\",\n",
    "                \"Full\",\n",
    "                \"Thin Deduplication\"\n",
    "            ],\n",
    "            \"meta\": {\n",
    "                \"locked\": True,\n",
    "                \"createOnly\": True\n",
    "            },\n",
    "            \"type\": \"string\",\n",
    "            \"title\": \"Provisioning Type\",\n",
    "            \"default\": \"Thin\",\n",
    "            \"description\": \"The provisioning type for the volume\"\n",
    "        }\n",
    "    }\n",
    "}\n",
    "\n",
    "volume_template = oneview_client.storage_volume_templates.create(options)\n",
    "print(\"Storage volume created...\")"
   ]
  },
  {
   "cell_type": "markdown",
   "metadata": {},
   "source": [
    "### delete storage template\n",
    "\"\"\" don´t use it, for the demo.. \"\"\""
   ]
  },
  {
   "cell_type": "code",
   "execution_count": null,
   "metadata": {},
   "outputs": [],
   "source": [
    "storage_volume = oneview_client.storage_volume_templates.get_all(filter=\"\\\"name='Roundtable Volume Template'\\\"\")\n",
    "for storvol in storage_volume:\n",
    "    oneview_client.storage_volume_templates.delete(storvol)\n",
    "    "
   ]
  },
  {
   "cell_type": "markdown",
   "metadata": {},
   "source": [
    "### show Enclosure / Server Hardware / Bay\n",
    "<img src=\"Pictures/show_server_hw.gif\" height=\"500\" width=\"500\" align=\"left\">"
   ]
  },
  {
   "cell_type": "code",
   "execution_count": 12,
   "metadata": {},
   "outputs": [
    {
     "name": "stdout",
     "output_type": "stream",
     "text": [
      "show enclosure (enclosure_group_uri)\n",
      "SY 3 Frame SAS VC /rest/enclosure-groups/109eed5b-4cff-470e-b2ca-ffb26eb5c678\n",
      "\n",
      "show server hardware (server_hardware_type_uri)\n",
      "Synergy 660 Gen9 URI: /rest/server-hardware-types/A435F2DD-9EB9-4F98-B854-1A6B35140DC9\n",
      "Synergy 660 Gen10 URI: /rest/server-hardware-types/7AA9D8EE-C46A-4901-8D10-C252AF9DB1A4\n",
      "Synergy 480 Gen9 URI: /rest/server-hardware-types/860CAF19-0D67-401A-A1D2-536AA9356102\n",
      "Synergy 480 Gen9 URI: /rest/server-hardware-types/1131E4D0-9C51-4615-A20E-CCF00F02A94F\n",
      "Synergy 480 Gen10 URI: /rest/server-hardware-types/77E175FB-A4AA-4E95-8780-D1E9A40D3887\n",
      "Synergy 480 Gen10 URI: /rest/server-hardware-types/56C7D5F1-6221-4ACB-938B-21916B7DE5F3\n",
      "\n",
      "Enclosure/Bay (server_hardware_uri)\n",
      "CTC Synergy HE01, bay 1 Synergy 480 Gen10 /rest/server-hardware/39313738-3134-5A43-4A37-343030373531\n",
      "CTC Synergy HE01, bay 7 Synergy 480 Gen10 /rest/server-hardware/39313738-3134-5A43-4A37-343030373534\n",
      "CTC Synergy HE01, bay 2 Synergy 480 Gen10 /rest/server-hardware/39313738-3134-5A43-4A37-343030373535\n",
      "CTC Synergy HE01, bay 8 Synergy 480 Gen10 /rest/server-hardware/39313738-3134-5A43-4A37-343030373532\n",
      "CTC Synergy HE01, bay 3 Synergy 480 Gen10 /rest/server-hardware/39313738-3134-5A43-4A37-343030373536\n",
      "CTC Synergy HE11, bay 3 Synergy 480 Gen9 /rest/server-hardware/33323337-3235-5A43-3337-303948545332\n",
      "CTC Synergy HE11, bay 7 Synergy 480 Gen9 /rest/server-hardware/33323337-3235-5A43-3337-30394854544D\n",
      "CTC Synergy HE11, bay 5 Synergy 480 Gen9 /rest/server-hardware/33323337-3235-5A43-3337-303948545438\n",
      "CTC Synergy HE11, bay 8 Synergy 480 Gen9 /rest/server-hardware/33323337-3235-5A43-3337-303948545632\n",
      "CTC Synergy HE11, bay 4 Synergy 480 Gen9 /rest/server-hardware/33323337-3235-5A43-3337-303948545345\n",
      "CTC Synergy HE11, bay 10 Synergy 480 Gen9 /rest/server-hardware/33323337-3235-5A43-3337-303948545656\n",
      "CTC Synergy HE11, bay 9 Synergy 480 Gen9 /rest/server-hardware/33323337-3235-5A43-3337-303948545645\n",
      "CTC Synergy HE01, bay 9 Synergy 480 Gen10 /rest/server-hardware/39313738-3134-5A43-4A37-343030373533\n",
      "CTC Synergy HE11, bay 2 Synergy 480 Gen9 /rest/server-hardware/33323337-3235-5A43-3337-30394854524D\n",
      "CTC Synergy HE21, bay 2 Synergy 480 Gen9 /rest/server-hardware/36343537-3338-4E43-3736-303230355931\n",
      "CTC Synergy HE11, bay 6 Synergy 480 Gen9 /rest/server-hardware/33323337-3235-5A43-3337-303948545356\n",
      "CTC Synergy HE21, bay 5 Synergy 660 Gen10 /rest/server-hardware/39313738-3133-5A43-4A37-343030373931\n",
      "CTC Synergy HE21, bay 1 Synergy 480 Gen9 /rest/server-hardware/36343537-3338-4E43-3736-303230383144\n",
      "CTC Synergy HE21, bay 3 Synergy 480 Gen10 /rest/server-hardware/39313738-3234-5A43-4A37-343030373559\n",
      "CTC Synergy HE21, bay 10 Synergy 480 Gen9 /rest/server-hardware/33323337-3235-5A43-3337-303948545238\n",
      "CTC Synergy HE21, bay 6 Synergy 660 Gen9 /rest/server-hardware/30373737-3237-4E43-3735-353030335447\n",
      "CTC Synergy HE21, bay 4 Synergy 480 Gen10 /rest/server-hardware/39313738-3234-5A43-4A37-343030373558\n"
     ]
    }
   ],
   "source": [
    "print (\"show enclosure group (enclosure_group_uri)\")\n",
    "enclosure = oneview_client.enclosure_groups.get_all()\n",
    "for enc in enclosure:\n",
    "    print(enc['name'] + \" \" + enc['uri'])\n",
    "\n",
    "print(\"\\nshow server hardware (server_hardware_type_uri)\")\n",
    "server_hardware_types = oneview_client.server_hardware_types.get_all(sort='name:descending')\n",
    "# print(server_hardware_types)\n",
    "for serverhw in server_hardware_types:\n",
    "    # print(' %s ' % serverhw['model'])\n",
    "    print(serverhw['model'] + \" URI: \" + serverhw['uri'] )\n",
    "\n",
    "print(\"\\nEnclosure/Bay (server_hardware_uri)\")   \n",
    "server_hardware = oneview_client.server_hardware.get_all()\n",
    "for server in server_hardware:\n",
    "    print(server['name'] + \" \" + server['model'] + \" \" + server['uri'])"
   ]
  },
  {
   "cell_type": "markdown",
   "metadata": {},
   "source": [
    "### show Serverprofile\n"
   ]
  },
  {
   "cell_type": "code",
   "execution_count": null,
   "metadata": {},
   "outputs": [],
   "source": [
    "print(\"show server profile templates:\")\n",
    "all_srv_templates = oneview_client.server_profile_templates.get_all()\n",
    "for srv_tmp in all_srv_templates:\n",
    "    print(srv_tmp['name'] + \"   URI:   \" + srv_tmp['uri'])\n",
    "\n",
    "print(\"\\nshow server profiles:\")\n",
    "all_profiles = oneview_client.server_profiles.get_all()\n",
    "for profile in all_profiles:\n",
    "    print(profile['name']+ \"   URI:  \" + srv_tmp['uri'])\n",
    "\n",
    "# my_profile = oneview_client.server_profiles.get_by_name(\"Roundtable - API Demo Template (DirkD)\")"
   ]
  },
  {
   "cell_type": "markdown",
   "metadata": {},
   "source": [
    "### create server profile (takes 2-3 minutes)\n",
    "<br>\n",
    "<img src=\"Pictures/boot_synergy.gif\" height=\"500\" width=\"500\" align=\"left\">"
   ]
  },
  {
   "cell_type": "code",
   "execution_count": 15,
   "metadata": {
    "scrolled": false
   },
   "outputs": [
    {
     "name": "stdout",
     "output_type": "stream",
     "text": [
      "create server profile\n"
     ]
    }
   ],
   "source": [
    "powerOn = {\n",
    "    \"powerState\": \"On\",\n",
    "    \"powerControl\": \"MomentaryPress\"\n",
    "}\n",
    "\n",
    "powerOff = {\n",
    "    \"powerState\": \"Off\",\n",
    "    \"powerControl\": \"PressAndHold\"\n",
    "}\n",
    "\n",
    "template_name = \"Roundtable - API Demo Template (DirkD)\"\n",
    "server_name = \"Roundtable - API Demo Server (DirkD)\"\n",
    "\n",
    "server_hardware_uri = '/rest/server-hardware/39313738-3133-5A43-4A37-343030373931'\n",
    "server_template_uri = oneview_client.server_profile_templates.get_by_name(template_name)\n",
    "\n",
    "server_power = oneview_client.server_hardware.update_power_state(powerOff, server_hardware_uri) # turn off server\n",
    "\n",
    "try:\n",
    "    print (\"create server profile\")\n",
    "    roundtable_server = oneview_client.server_profile_templates.get_new_profile(server_template_uri['uri'])\n",
    "    roundtable_server[\"name\"] = server_name\n",
    "    roundtable_server[\"serverHardwareUri\"] = server_hardware_uri\n",
    "\n",
    "    for name in roundtable_server[\"osDeploymentSettings\"][\"osCustomAttributes\"]:\n",
    "        if (name['name'] == \"NewUser\"):\n",
    "            name['value']= \"dirk\"\n",
    "        if (name['name'] == \"NewUserPassword\"):\n",
    "            name['value']= \"HalloRoundtable!\"   \n",
    "    profile = oneview_client.server_profiles.create(roundtable_server)\n",
    "\n",
    "    \n",
    "except:\n",
    "    print(server_name + \" Server already exists\")\n",
    "\n",
    "server_power = oneview_client.server_hardware.update_power_state(powerOn, server_hardware_uri) # turn on server\n"
   ]
  },
  {
   "cell_type": "markdown",
   "metadata": {},
   "source": [
    "### Show individual parameters from Image (Imagestreamer)"
   ]
  },
  {
   "cell_type": "code",
   "execution_count": null,
   "metadata": {},
   "outputs": [],
   "source": [
    "    #print (\"create server profile\")\n",
    "    roundtable_server = oneview_client.server_profile_templates.get_new_profile(server_template_uri['uri'])\n",
    "    roundtable_server[\"name\"] = server_name\n",
    "    roundtable_server[\"serverHardwareUri\"] = server_hardware_uri\n",
    "\n",
    "    for name in roundtable_server[\"osDeploymentSettings\"][\"osCustomAttributes\"]:\n",
    "        print(name['name'] + \": \" + name['value'])\n",
    "   \n"
   ]
  },
  {
   "cell_type": "markdown",
   "metadata": {},
   "source": [
    "### delete server profile\n",
    "!!! do not use, if not necessary !!!"
   ]
  },
  {
   "cell_type": "code",
   "execution_count": null,
   "metadata": {},
   "outputs": [],
   "source": [
    "server_power = oneview_client.server_hardware.update_power_state(powerOff, server_hardware_uri) # turn on server\n",
    "oneview_client.server_profiles.delete(profile)"
   ]
  },
  {
   "cell_type": "markdown",
   "metadata": {},
   "source": [
    "### Excel Export\n",
    "\n",
    "xlswriter:\n",
    "https://xlsxwriter.readthedocs.io/\n",
    "\n",
    "example: we extrace some data to excel XLS"
   ]
  },
  {
   "cell_type": "code",
   "execution_count": 16,
   "metadata": {
    "scrolled": false
   },
   "outputs": [
    {
     "name": "stdout",
     "output_type": "stream",
     "text": [
      "Excel File roundtable.xlsx created\n"
     ]
    }
   ],
   "source": [
    "import xlsxwriter\n",
    "workbook = xlsxwriter.Workbook('roundtable.xlsx')\n",
    "worksheet = workbook.add_worksheet()\n",
    "\n",
    "# Add a bold format to use to highlight cells.\n",
    "bold = workbook.add_format({'bold': True})\n",
    "\n",
    "# Text with formatting.\n",
    "worksheet.write(0,0, 'Synergy Roundtable', bold)\n",
    "\n",
    "# Start from the first cell below the headers.\n",
    "row = 4\n",
    "worksheet.write(row, 0, \"Servername\", bold)\n",
    "worksheet.write(row, 1, \"Model\", bold)\n",
    "worksheet.write(row, 2, \"Memory\", bold)\n",
    "worksheet.write(row, 3, \"MAC address\", bold)\n",
    "worksheet.write(row, 4, \"WWN address\", bold)\n",
    "worksheet.write(row, 5, \"Status\", bold)\n",
    "row += 1\n",
    "\n",
    "server_hardware = oneview_client.server_hardware.get_all()\n",
    "#print(server_hardware)\n",
    "\n",
    "for server in server_hardware:\n",
    " col = 0\n",
    " for ports in server['portMap']['deviceSlots']:\n",
    "     for mac in ports['physicalPorts']: \n",
    "         for wwnn in mac['virtualPorts']:\n",
    "             # print(server['name']+ \" model:\" + server['model'] + \" \" + str(server['memoryMb']) + \" MB mac: \" + str(mac['mac']) + \" wwnn: \" + str(wwnn['wwnn']))\n",
    "             worksheet.write(row,col, server['name'])\n",
    "             worksheet.write(row,col+1, server['model'])\n",
    "             worksheet.write(row,col+2, server['memoryMb'])\n",
    "             worksheet.write(row,col+3, mac['mac'])\n",
    "             worksheet.write(row,col+4, wwnn['wwnn'])\n",
    "             worksheet.write(row,col+5, server['status'])\n",
    "             row += 1\n",
    "workbook.close()\n",
    "print ('Excel File roundtable.xlsx created')"
   ]
  },
  {
   "cell_type": "markdown",
   "metadata": {},
   "source": [
    "### example: how to get the values from json"
   ]
  },
  {
   "cell_type": "code",
   "execution_count": null,
   "metadata": {},
   "outputs": [],
   "source": [
    "    server_hardware = oneview_client.server_hardware.get_all()\n",
    "   # print(server_hardware)\n",
    "    \n",
    "    for server in server_hardware:\n",
    "        for ports in server['portMap']['deviceSlots']:\n",
    "            for mac in ports['physicalPorts']: \n",
    "                for wwnn in mac['virtualPorts']:\n",
    "                    print(server['name']+ \" model:\" + server['model'] + \" \" + str(server['memoryMb']) + \" MB mac: \" + str(mac['mac']) + \" wwnn: \" + str(wwnn['wwnn'])) "
   ]
  },
  {
   "cell_type": "markdown",
   "metadata": {},
   "source": [
    "### application deployment\n",
    "\n",
    "\n",
    "Webserver NGINX running on docker.\n",
    "\n",
    "##### What we need:\n",
    "\n",
    "IP address of deployed system.\n",
    "\n",
    "<br>\n",
    "<img src=\"Pictures/NGINX.png\" height=\"500\" width=\"500\" align=\"left\">\n"
   ]
  },
  {
   "cell_type": "code",
   "execution_count": null,
   "metadata": {},
   "outputs": [],
   "source": [
    "import os\n",
    "import paramiko\n",
    "import time\n",
    "\n",
    "ssh = paramiko.SSHClient()\n",
    "\n",
    "server_name = \"Roundtable - API Demo Server (DirkD)\"\n",
    "username = 'root'\n",
    "password = 'Compaq1!'\n",
    "\n",
    "deployed_server = oneview_client.server_profiles.get_by_name(server_name)\n",
    "\n",
    "for name in deployed_server[\"osDeploymentSettings\"][\"osCustomAttributes\"]:\n",
    "    if (name['name'] == \"Team0NIC1.ipaddress\"):\n",
    "        ip_address = name['value']\n",
    "\n",
    "        \n",
    "print(\"Login with user: \" + username + \" Server:\" + ip_address)        \n",
    "ssh.set_missing_host_key_policy(paramiko.AutoAddPolicy())         # add unknown Host-Keys\n",
    "ssh.connect(ip_address, username=username, password=password)     # login\n",
    "ssh.exec_command('docker run -d --name nginx -p 80:80 nginx')\n",
    "time.sleep(1)\n",
    "stdin, stdout, stderr = ssh.exec_command(\"docker exec -it nginx sed -i '\\''s/nginx/the Synergy Roundtable/g'\\'' /usr/share/nginx/html/index.html\", get_pty=True)\n",
    "# print(stdout.read())\n",
    "# print(stderr.read())\n"
   ]
  },
  {
   "cell_type": "code",
   "execution_count": null,
   "metadata": {},
   "outputs": [],
   "source": []
  }
 ],
 "metadata": {
  "kernelspec": {
   "display_name": "Python 3",
   "language": "python",
   "name": "python3"
  },
  "language_info": {
   "codemirror_mode": {
    "name": "ipython",
    "version": 3
   },
   "file_extension": ".py",
   "mimetype": "text/x-python",
   "name": "python",
   "nbconvert_exporter": "python",
   "pygments_lexer": "ipython3",
   "version": "3.7.0"
  }
 },
 "nbformat": 4,
 "nbformat_minor": 2
}
