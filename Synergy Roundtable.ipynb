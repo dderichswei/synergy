{
 "cells": [
  {
   "cell_type": "markdown",
   "metadata": {},
   "source": [
    "# Welcome to the Synergy Roundtable\n",
    "created by Dirk Derichsweiler - 05/10/2018<br>\n",
    "do not hesitate to contact me: derdirk@hpe.com\n",
    "\n",
    "jupyter Notebook can be found: https://github.com/dderichswei/synergy/blob/master/Synergy%20Roundtable.ipynb\n",
    "\n",
    "\n",
    "#### requirements\n",
    "Python + hpOneView Python Library (see: https://github.com/HewlettPackard/python-hpOneView/wiki/HPE-OneView-Python-Windows-Setup-Guide)\n",
    "\n",
    "\n",
    "#### additional information\n",
    "\n",
    "On your HPE OneView appliance, or online<br>\n",
    "https://10.0.20.50/help/cic-rest/en/content/index.html#home.html<br>\n",
    "https://10.0.20.50/api-docs/current/ <br>\n",
    "http://www.hpe.com/info/oneview/docs <br>\n",
    "https://developer.hpe.com/\n",
    "\n",
    "#### python specific\n",
    "https://hewlettpackard.github.io/python-hpOneView/index.html<br>\n",
    "https://github.com/HewlettPackard/python-hpOneView<br>\n",
    "\n",
    "\n",
    "### Login\n",
    "\n",
    "<img src=\"Pictures/Login.gif\" height=\"500\" width=\"500\" align=\"left\">"
   ]
  },
  {
   "cell_type": "markdown",
   "metadata": {},
   "source": [
    "##### import the python OneView library"
   ]
  },
  {
   "cell_type": "code",
   "execution_count": 3,
   "metadata": {},
   "outputs": [],
   "source": [
    "from hpOneView.oneview_client import OneViewClient"
   ]
  },
  {
   "cell_type": "markdown",
   "metadata": {},
   "source": [
    "##### configure your environment:"
   ]
  },
  {
   "cell_type": "code",
   "execution_count": 4,
   "metadata": {},
   "outputs": [],
   "source": [
    "config = {\n",
    "    \"api_version\": \"500\",\n",
    "    \"ip\": \"10.0.20.50\",\n",
    "    \"credentials\": {\n",
    "        \"userName\": \"python\",\n",
    "        \"authLoginDomain\": \"local\",\n",
    "        \"password\": \"python123!\"\n",
    "    }\n",
    "}"
   ]
  },
  {
   "cell_type": "markdown",
   "metadata": {},
   "source": [
    "##### login:\n",
    "create new object oneview_client with the config (see above)"
   ]
  },
  {
   "cell_type": "code",
   "execution_count": 5,
   "metadata": {
    "scrolled": true
   },
   "outputs": [],
   "source": [
    "oneview_client = OneViewClient(config)"
   ]
  },
  {
   "cell_type": "markdown",
   "metadata": {},
   "source": [
    "\n",
    "#### ADVANCED: which functions are available?"
   ]
  },
  {
   "cell_type": "code",
   "execution_count": 6,
   "metadata": {
    "scrolled": false
   },
   "outputs": [
    {
     "data": {
      "text/plain": [
       "['DEFAULT_API_VERSION',\n",
       " '_OneViewClient__alerts',\n",
       " '_OneViewClient__appliance_node_information',\n",
       " '_OneViewClient__appliance_time_and_locale_configuration',\n",
       " '_OneViewClient__backups',\n",
       " '_OneViewClient__certificate_authority',\n",
       " '_OneViewClient__certificate_rabbitmq',\n",
       " '_OneViewClient__connection',\n",
       " '_OneViewClient__connection_templates',\n",
       " '_OneViewClient__connections',\n",
       " '_OneViewClient__datacenters',\n",
       " '_OneViewClient__drive_enclures',\n",
       " '_OneViewClient__enclosure_groups',\n",
       " '_OneViewClient__enclosures',\n",
       " '_OneViewClient__endpoints',\n",
       " '_OneViewClient__ethernet_networks',\n",
       " '_OneViewClient__events',\n",
       " '_OneViewClient__fabrics',\n",
       " '_OneViewClient__fc_networks',\n",
       " '_OneViewClient__fcoe_networks',\n",
       " '_OneViewClient__firmware_bundles',\n",
       " '_OneViewClient__firmware_drivers',\n",
       " '_OneViewClient__id_pools',\n",
       " '_OneViewClient__id_pools_ipv4_ranges',\n",
       " '_OneViewClient__id_pools_ipv4_subnets',\n",
       " '_OneViewClient__id_pools_vmac_ranges',\n",
       " '_OneViewClient__id_pools_vsn_ranges',\n",
       " '_OneViewClient__id_pools_vwwn_ranges',\n",
       " '_OneViewClient__image_streamer_ip',\n",
       " '_OneViewClient__index_resources',\n",
       " '_OneViewClient__interconnect_link_topologies',\n",
       " '_OneViewClient__interconnect_types',\n",
       " '_OneViewClient__interconnects',\n",
       " '_OneViewClient__internal_link_sets',\n",
       " '_OneViewClient__labels',\n",
       " '_OneViewClient__licenses',\n",
       " '_OneViewClient__logical_downlinks',\n",
       " '_OneViewClient__logical_enclosures',\n",
       " '_OneViewClient__logical_interconnect_groups',\n",
       " '_OneViewClient__logical_interconnects',\n",
       " '_OneViewClient__logical_switch_groups',\n",
       " '_OneViewClient__logical_switches',\n",
       " '_OneViewClient__login_details',\n",
       " '_OneViewClient__managed_sans',\n",
       " '_OneViewClient__metric_streaming',\n",
       " '_OneViewClient__migratable_vc_domains',\n",
       " '_OneViewClient__network_sets',\n",
       " '_OneViewClient__os_deployment_plans',\n",
       " '_OneViewClient__os_deployment_servers',\n",
       " '_OneViewClient__power_devices',\n",
       " '_OneViewClient__racks',\n",
       " '_OneViewClient__restores',\n",
       " '_OneViewClient__roles',\n",
       " '_OneViewClient__san_managers',\n",
       " '_OneViewClient__sas_interconnect_types',\n",
       " '_OneViewClient__sas_interconnects',\n",
       " '_OneViewClient__sas_logical_interconnect_groups',\n",
       " '_OneViewClient__sas_logical_interconnects',\n",
       " '_OneViewClient__sas_logical_jbod_attachments',\n",
       " '_OneViewClient__sas_logical_jbods',\n",
       " '_OneViewClient__scopes',\n",
       " '_OneViewClient__server_hardware',\n",
       " '_OneViewClient__server_hardware_types',\n",
       " '_OneViewClient__server_profile_templates',\n",
       " '_OneViewClient__server_profiles',\n",
       " '_OneViewClient__set_proxy',\n",
       " '_OneViewClient__storage_pools',\n",
       " '_OneViewClient__storage_systems',\n",
       " '_OneViewClient__storage_volume_attachments',\n",
       " '_OneViewClient__storage_volume_templates',\n",
       " '_OneViewClient__switch_types',\n",
       " '_OneViewClient__switches',\n",
       " '_OneViewClient__tasks',\n",
       " '_OneViewClient__unmanaged_devices',\n",
       " '_OneViewClient__uplink_sets',\n",
       " '_OneViewClient__users',\n",
       " '_OneViewClient__versions',\n",
       " '_OneViewClient__volumes',\n",
       " '__class__',\n",
       " '__delattr__',\n",
       " '__dict__',\n",
       " '__dir__',\n",
       " '__doc__',\n",
       " '__eq__',\n",
       " '__format__',\n",
       " '__ge__',\n",
       " '__getattribute__',\n",
       " '__gt__',\n",
       " '__hash__',\n",
       " '__init__',\n",
       " '__init_subclass__',\n",
       " '__le__',\n",
       " '__lt__',\n",
       " '__module__',\n",
       " '__ne__',\n",
       " '__new__',\n",
       " '__reduce__',\n",
       " '__reduce_ex__',\n",
       " '__repr__',\n",
       " '__setattr__',\n",
       " '__sizeof__',\n",
       " '__str__',\n",
       " '__subclasshook__',\n",
       " '__weakref__',\n",
       " 'alerts',\n",
       " 'api_version',\n",
       " 'appliance_node_information',\n",
       " 'appliance_time_and_locale_configuration',\n",
       " 'backups',\n",
       " 'certificate_authority',\n",
       " 'certificate_rabbitmq',\n",
       " 'connection',\n",
       " 'connection_templates',\n",
       " 'connections',\n",
       " 'create_image_streamer_client',\n",
       " 'datacenters',\n",
       " 'drive_enclosures',\n",
       " 'enclosure_groups',\n",
       " 'enclosures',\n",
       " 'endpoints',\n",
       " 'ethernet_networks',\n",
       " 'events',\n",
       " 'fabrics',\n",
       " 'fc_networks',\n",
       " 'fcoe_networks',\n",
       " 'firmware_bundles',\n",
       " 'firmware_drivers',\n",
       " 'from_environment_variables',\n",
       " 'from_json_file',\n",
       " 'id_pools',\n",
       " 'id_pools_ipv4_ranges',\n",
       " 'id_pools_ipv4_subnets',\n",
       " 'id_pools_vmac_ranges',\n",
       " 'id_pools_vsn_ranges',\n",
       " 'id_pools_vwwn_ranges',\n",
       " 'index_resources',\n",
       " 'interconnect_link_topologies',\n",
       " 'interconnect_types',\n",
       " 'interconnects',\n",
       " 'internal_link_sets',\n",
       " 'labels',\n",
       " 'licenses',\n",
       " 'logical_downlinks',\n",
       " 'logical_enclosures',\n",
       " 'logical_interconnect_groups',\n",
       " 'logical_interconnects',\n",
       " 'logical_switch_groups',\n",
       " 'logical_switches',\n",
       " 'login_details',\n",
       " 'managed_sans',\n",
       " 'metric_streaming',\n",
       " 'migratable_vc_domains',\n",
       " 'network_sets',\n",
       " 'os_deployment_plans',\n",
       " 'os_deployment_servers',\n",
       " 'power_devices',\n",
       " 'racks',\n",
       " 'restores',\n",
       " 'roles',\n",
       " 'san_managers',\n",
       " 'sas_interconnect_types',\n",
       " 'sas_interconnects',\n",
       " 'sas_logical_interconnect_groups',\n",
       " 'sas_logical_interconnects',\n",
       " 'sas_logical_jbod_attachments',\n",
       " 'sas_logical_jbods',\n",
       " 'scopes',\n",
       " 'server_hardware',\n",
       " 'server_hardware_types',\n",
       " 'server_profile_templates',\n",
       " 'server_profiles',\n",
       " 'storage_pools',\n",
       " 'storage_systems',\n",
       " 'storage_volume_attachments',\n",
       " 'storage_volume_templates',\n",
       " 'switch_types',\n",
       " 'switches',\n",
       " 'tasks',\n",
       " 'unmanaged_devices',\n",
       " 'uplink_sets',\n",
       " 'users',\n",
       " 'versions',\n",
       " 'volumes']"
      ]
     },
     "execution_count": 6,
     "metadata": {},
     "output_type": "execute_result"
    }
   ],
   "source": [
    "dir(oneview_client)\n",
    "# dir(oneview_client.storage_volume_templates) # drill down "
   ]
  },
  {
   "cell_type": "markdown",
   "metadata": {},
   "source": [
    "### show existing networks\n",
    "\n",
    "<img src=\"Pictures/show_network.gif\" height=\"500\" width=\"500\" align=\"left\">\n",
    "<br>"
   ]
  },
  {
   "cell_type": "code",
   "execution_count": 7,
   "metadata": {},
   "outputs": [
    {
     "name": "stdout",
     "output_type": "stream",
     "text": [
      "The following networks exists:\n",
      "Production 0102    URI: /rest/ethernet-networks/03b833da-2712-4980-b523-37d9959d3d7d\n",
      "CTC-Demo 030    URI: /rest/ethernet-networks/1b490756-d937-4d59-ae0d-c8451a53df4c\n",
      "Management 0020    URI: /rest/ethernet-networks/1e3ccaf4-7b9b-403f-90f0-62d91d9ead32\n",
      "SDS    URI: /rest/ethernet-networks/28303594-297a-442e-8c97-12bba8cc8305\n",
      "Storage Replication 0041    URI: /rest/ethernet-networks/28a345da-f64f-4c4b-b3b0-a0f053bbdd0b\n",
      "Storage Management 0040    URI: /rest/ethernet-networks/2d5c0ae8-9a8b-4ba3-9589-95aaf754a5b7\n",
      "Production 0100    URI: /rest/ethernet-networks/2f58f85f-951b-4f04-8292-a1fdabc82d59\n",
      "Production 0103    URI: /rest/ethernet-networks/348cd70b-3650-46d6-8be1-5f2484d47075\n",
      "Stratoscal Control 0053    URI: /rest/ethernet-networks/4934af2e-5735-4afa-a4f1-7bea9f7fdf99\n",
      "DevOps FrontEnd 0047    URI: /rest/ethernet-networks/4c8cb99b-7327-4ff4-ad5e-401b2c90418d\n",
      "Production 0107    URI: /rest/ethernet-networks/4f0882a5-d336-4631-8836-ace36de50bbb\n",
      "Production 0108    URI: /rest/ethernet-networks/526b7796-0348-409b-b5af-90fa1dc08daf\n",
      "vMotion 0800    URI: /rest/ethernet-networks/5966c3de-1079-489e-878f-a24f5ca88b11\n",
      "Stratoscale Guest 0054    URI: /rest/ethernet-networks/61f9e51d-cbf1-4ed8-9b91-6104077c3f5b\n",
      "Stratoscale_4 0059    URI: /rest/ethernet-networks/68c0acf4-5f7d-46e5-9e9f-0c898002cba2\n",
      "Production 0104    URI: /rest/ethernet-networks/77862683-ca18-47cc-ae68-12133cb8b0b3\n",
      "Stratoscale Data 0052    URI: /rest/ethernet-networks/7be683d0-50a9-44a1-aca4-0b412d45bfd3\n",
      "Production 0105    URI: /rest/ethernet-networks/82975161-7dfb-4009-9bbb-9cbaa8194cc8\n",
      "Stratoscale_1 0056    URI: /rest/ethernet-networks/849177b0-1125-4ad6-97b6-4d8d506b5bf7\n",
      "Stratoscale_2 0057    URI: /rest/ethernet-networks/8981f34b-3e9e-4554-8b1b-ecf828067047\n",
      "Stratoscale_3 0058    URI: /rest/ethernet-networks/9a8de19e-9b7c-428b-b615-129882f89a72\n",
      "Hypervisor Tunnel    URI: /rest/ethernet-networks/b2f0c3b1-d54a-4f19-b470-1073887cb962\n",
      "Image Streamer 0019    URI: /rest/ethernet-networks/bbdd8f3d-3a04-4ca6-8d21-9b66a37759d6\n",
      "Production 0101    URI: /rest/ethernet-networks/bdc5555e-886f-41d6-9ee9-7147c9effc99\n",
      "Stratoscale Edge 0055    URI: /rest/ethernet-networks/c9de395b-56bf-408c-a818-0c3221442d97\n",
      "Production 0109    URI: /rest/ethernet-networks/cf4031f3-ca1f-4167-b1d9-8e88f307aa81\n",
      "Storage iSCSI 0042    URI: /rest/ethernet-networks/d40ccf5a-17df-4764-91b1-0389a313b819\n",
      "Production 0106    URI: /rest/ethernet-networks/e3c99c0f-f65b-4197-9a2c-de8af134ea0e\n",
      "Stratoscale Access 0051    URI: /rest/ethernet-networks/eb16198a-e4f1-4080-a3c5-d13a86b19bad\n",
      "DevOps BackEnd 0048    URI: /rest/ethernet-networks/edefa293-b402-4038-b722-d75d0c3861f6\n"
     ]
    }
   ],
   "source": [
    "roundtable_networks=oneview_client.ethernet_networks.get_all()\n",
    "# print(roundtable_networks)\n",
    "\n",
    "print(\"The following networks exists:\")\n",
    "for net in roundtable_networks:\n",
    "    # print(net['name'] + \" VLAN ID:\" + str(net['vlanId']))\n",
    "    print(net['name'] + \"    URI: \"  + net['uri'] )\n"
   ]
  },
  {
   "cell_type": "markdown",
   "metadata": {},
   "source": [
    "### create network\n",
    "\n",
    "<img src=\"Pictures/create_network.gif\" height=\"500\" width=\"500\" align=\"left\">"
   ]
  },
  {
   "cell_type": "code",
   "execution_count": 9,
   "metadata": {},
   "outputs": [
    {
     "name": "stdout",
     "output_type": "stream",
     "text": [
      "Created ethernet-network Roundtable - Test Ethernet Network   URI: /rest/ethernet-networks/2c8f15c8-0b72-492b-ad76-b58064cd5d6a successfully.\n"
     ]
    }
   ],
   "source": [
    "options = {\n",
    "    \"name\": \"Roundtable - Test Ethernet Network\",\n",
    "    \"vlanId\": 200,\n",
    "    \"ethernetNetworkType\": \"Tagged\",\n",
    "    \"purpose\": \"General\",\n",
    "    \"smartLink\": False,\n",
    "    \"privateNetwork\": False,\n",
    "    \"connectionTemplateUri\": None\n",
    "}\n",
    "\n",
    "ethernet_network = oneview_client.ethernet_networks.create(options)\n",
    "print(\"Created ethernet-network \" + ethernet_network['name'] + \"   URI: \" + ethernet_network['uri'] + \" successfully.\")\n"
   ]
  },
  {
   "cell_type": "markdown",
   "metadata": {},
   "source": [
    "### create bulk network\n",
    "How to set up multiple networks at once."
   ]
  },
  {
   "cell_type": "code",
   "execution_count": 10,
   "metadata": {
    "scrolled": false
   },
   "outputs": [
    {
     "name": "stdout",
     "output_type": "stream",
     "text": [
      "created network: Roundtable-Ethernet_1 URI: /rest/ethernet-networks/bf95d165-aceb-42a2-9bee-219b33d6a815\n",
      "created network: Roundtable-Ethernet_2 URI: /rest/ethernet-networks/b8d9b8a9-8064-4098-b5c4-a5333914028e\n",
      "created network: Roundtable-Ethernet_3 URI: /rest/ethernet-networks/4d5d89e3-0e71-4373-8cc6-4e3be34ff6bd\n",
      "created network: Roundtable-Ethernet_4 URI: /rest/ethernet-networks/b331541f-3247-4fc6-8f1c-df5ed0d22fa0\n",
      "created network: Roundtable-Ethernet_5 URI: /rest/ethernet-networks/ba53b46b-85a1-44a0-be8c-98f732fe8f27\n",
      "created network: Roundtable-Ethernet_7 URI: /rest/ethernet-networks/f712cea0-c2f7-48c8-8dd2-f0dcc8d3cdd3\n",
      "created network: Roundtable-Ethernet_100 URI: /rest/ethernet-networks/96d04b8d-0488-4b19-8ff7-0e16f08abc10\n",
      "created network: Roundtable-Ethernet_101 URI: /rest/ethernet-networks/a4e9a9f0-d964-4a1a-8a16-54e40aa4f51e\n",
      "created network: Roundtable-Ethernet_102 URI: /rest/ethernet-networks/d8fc8eec-1a3f-4f89-b7c7-a9d77a1c6dad\n",
      "created network: Roundtable-Ethernet_103 URI: /rest/ethernet-networks/fb93144b-e9c9-4622-9021-04cd3d538764\n",
      "created network: Roundtable-Ethernet_104 URI: /rest/ethernet-networks/b16a42db-46ae-4de9-a1da-685ef4de8712\n",
      "created network: Roundtable-Ethernet_105 URI: /rest/ethernet-networks/575c2f48-f893-4d0b-95d4-a6f22433386d\n",
      "created network: Roundtable-Ethernet_106 URI: /rest/ethernet-networks/0d474d4c-95bb-41e3-aed8-6f919d59862d\n",
      "created network: Roundtable-Ethernet_107 URI: /rest/ethernet-networks/a63848c2-dba5-4acc-b486-b2ecc016fbbc\n",
      "created network: Roundtable-Ethernet_108 URI: /rest/ethernet-networks/16b163de-a76c-4ba2-a183-7958e610b767\n",
      "created network: Roundtable-Ethernet_109 URI: /rest/ethernet-networks/0ad62f6e-2f97-4182-b4b3-d7c6331b6d59\n",
      "created network: Roundtable-Ethernet_200 URI: /rest/ethernet-networks/a1538b59-f29f-41d2-8719-c66fdad20e22\n"
     ]
    }
   ],
   "source": [
    "options_bulk = {\n",
    "    \"vlanIdRange\": \"1-5,7,100-109,200\",\n",
    "    \"purpose\": \"General\",\n",
    "    \"namePrefix\": \"Roundtable-Ethernet\",\n",
    "    \"smartLink\": False,\n",
    "    \"privateNetwork\": False,\n",
    "    \"bandwidth\": {\n",
    "        \"maximumBandwidth\": 10000,\n",
    "        \"typicalBandwidth\": 2000\n",
    "    }\n",
    "}\n",
    "\n",
    "\n",
    "ethernet_nets_bulk = oneview_client.ethernet_networks.create_bulk(options_bulk)\n",
    "for net in ethernet_nets_bulk: \n",
    "  print(\"created network: \" + net['name'] + \" URI: \" + net['uri'])"
   ]
  },
  {
   "cell_type": "markdown",
   "metadata": {},
   "source": [
    "### delete bulk network\n",
    "as it´s not needed for the demo"
   ]
  },
  {
   "cell_type": "code",
   "execution_count": 11,
   "metadata": {},
   "outputs": [
    {
     "name": "stdout",
     "output_type": "stream",
     "text": [
      "delete network: Roundtable-Ethernet_1\n",
      "delete network: Roundtable-Ethernet_2\n",
      "delete network: Roundtable-Ethernet_3\n",
      "delete network: Roundtable-Ethernet_4\n",
      "delete network: Roundtable-Ethernet_5\n",
      "delete network: Roundtable-Ethernet_7\n",
      "delete network: Roundtable-Ethernet_100\n",
      "delete network: Roundtable-Ethernet_101\n",
      "delete network: Roundtable-Ethernet_102\n",
      "delete network: Roundtable-Ethernet_103\n",
      "delete network: Roundtable-Ethernet_104\n",
      "delete network: Roundtable-Ethernet_105\n",
      "delete network: Roundtable-Ethernet_106\n",
      "delete network: Roundtable-Ethernet_107\n",
      "delete network: Roundtable-Ethernet_108\n",
      "delete network: Roundtable-Ethernet_109\n",
      "delete network: Roundtable-Ethernet_200\n"
     ]
    }
   ],
   "source": [
    "for net in ethernet_nets_bulk:\n",
    "    oneview_client.ethernet_networks.delete(net)\n",
    "    print(\"delete network: \" + net['name'])"
   ]
  },
  {
   "cell_type": "markdown",
   "metadata": {},
   "source": [
    "### show configured/existing storage (systems and pools)\n",
    "\n",
    "<img src=\"Pictures/show_storage.gif\" height=\"500\" width=\"500\" align=\"left\">"
   ]
  },
  {
   "cell_type": "code",
   "execution_count": 12,
   "metadata": {
    "scrolled": true
   },
   "outputs": [
    {
     "name": "stdout",
     "output_type": "stream",
     "text": [
      "Storage Systems:\n",
      "3PAR8200    URI: /rest/storage-systems/CZ38277F39\n",
      "3par20k    URI: /rest/storage-systems/CZ3706DWBB\n",
      "\n",
      "Storage Pools:\n",
      "FC_r1    URI: /rest/storage-systems/CZ3706DWBB\n",
      "FC_r5    URI: /rest/storage-systems/CZ3706DWBB\n",
      "FC_r6    URI: /rest/storage-systems/CZ3706DWBB\n",
      "fs_cpg    URI: /rest/storage-systems/CZ3706DWBB\n",
      "FC_r1    URI: /rest/storage-systems/CZ3706DWBB\n",
      "FC_r5    URI: /rest/storage-systems/CZ3706DWBB\n",
      "FC_r6    URI: /rest/storage-systems/CZ3706DWBB\n",
      "SSD_r1    URI: /rest/storage-systems/CZ3706DWBB\n",
      "SSD_r5    URI: /rest/storage-systems/CZ3706DWBB\n",
      "SSD_r6    URI: /rest/storage-systems/CZ3706DWBB\n",
      "SSD_r66_2    URI: /rest/storage-systems/CZ3706DWBB\n"
     ]
    }
   ],
   "source": [
    "storage_system = oneview_client.storage_systems.get_all()\n",
    "storage_pools = oneview_client.storage_pools.get_all()\n",
    "\n",
    "# storage_pool_name = 'FC_r1'\n",
    "# storage_pools = oneview_client.storage_pools.get_by('name', storage_pool_name)[0]\n",
    "\n",
    "print(\"Storage Systems:\")\n",
    "for stor in storage_system: \n",
    "  print(stor['displayName'] + \"    URI: \" + stor['uri'])\n",
    "\n",
    "print(\"\\nStorage Pools:\")\n",
    "for storpool in storage_pools:\n",
    "  print(storpool['name'] + \"    URI: \" + stor['uri'])"
   ]
  },
  {
   "cell_type": "code",
   "execution_count": 13,
   "metadata": {},
   "outputs": [
    {
     "name": "stdout",
     "output_type": "stream",
     "text": [
      "{'storageSystemUri': '/rest/storage-systems/CZ3706DWBB', 'totalCapacity': '34280281473024', 'freeCapacity': '34280281473024', 'requestingRefresh': None, 'allocatedCapacity': '0', 'deviceSpecificAttributes': {'uuid': '5a9dc5a5-46ea-4489-8956-70e2d9739d10', 'domain': 'NO DOMAIN', 'deviceType': 'SSD', 'deviceSpeed': 'Default', 'capacityLimit': None, 'allocatedCapacity': {'totalAllocatedCapacity': '0', 'volumeAllocatedCapacity': '0', 'snapshotAllocatedCapacity': '0'}, 'supportedRAIDLevel': 'RAID6', 'capacityWarningLimit': None}, 'isManaged': True, 'name': 'SSD_r66_2', 'description': '', 'category': 'storage-pools', 'status': 'OK', 'state': 'Managed', 'type': 'StoragePoolV3', 'uri': '/rest/storage-pools/FFF8BEA5-C509-4AAD-9F95-AA72009C979D', 'eTag': '2/1462', 'created': '2019-06-20T09:30:08.000Z', 'modified': '2019-07-10T15:23:59.000Z', 'lastRefreshTime': '2019-07-10T15:23:59.000Z'}\n"
     ]
    }
   ],
   "source": [
    "print (storpool)"
   ]
  },
  {
   "cell_type": "markdown",
   "metadata": {},
   "source": [
    "### show volume templates"
   ]
  },
  {
   "cell_type": "code",
   "execution_count": 18,
   "metadata": {},
   "outputs": [],
   "source": [
    "storage_volume = oneview_client.storage_volume_templates.get_all(filter=\"\\\"isRoot='False'\\\"\")\n",
    "for storvol in storage_volume:\n",
    "    print(storvol['name'])\n"
   ]
  },
  {
   "cell_type": "markdown",
   "metadata": {},
   "source": [
    "### create volume template\n",
    "\n",
    "<img src=\"Pictures/create_volume_template.gif\" height=\"500\" width=\"500\" align=\"left\">"
   ]
  },
  {
   "cell_type": "code",
   "execution_count": 15,
   "metadata": {},
   "outputs": [
    {
     "name": "stdout",
     "output_type": "stream",
     "text": [
      "/rest/storage-volume-templates/bdab22fe-3d1d-4f8e-963f-aa72009c0d4d\n",
      "Storage volume created...\n"
     ]
    }
   ],
   "source": [
    "storage_pool_name = 'FC_r5'\n",
    "\n",
    "# Get the storage pool by name to use in options\n",
    "storage_pool = oneview_client.storage_pools.get_by('name', storage_pool_name)[0]\n",
    "\n",
    "# Gets the first Root Storage Volume Template available to use in options\n",
    "root_template = oneview_client.storage_volume_templates.get_all(filter=\"\\\"isRoot='True'\\\"\")[0]\n",
    "print(root_template['uri'])\n",
    "\n",
    "options = {\n",
    "    \"name\": \"Roundtable Volume Template\",\n",
    "    \"description\": \"\",\n",
    "    \"rootTemplateUri\": root_template['uri'],\n",
    "    \"properties\": {\n",
    "        \"name\": {\n",
    "            \"meta\": {\n",
    "                \"locked\": False\n",
    "            },\n",
    "            \"type\": \"string\",\n",
    "            \"title\": \"Volume name\",\n",
    "            \"required\": True,\n",
    "            \"maxLength\": 100,\n",
    "            \"minLength\": 1,\n",
    "            \"description\": \"A volume name between 1 and 100 characters\"\n",
    "        },\n",
    "        \"size\": {\n",
    "            \"meta\": {\n",
    "                \"locked\": False,\n",
    "                \"semanticType\": \"capacity\"\n",
    "            },\n",
    "            \"type\": \"integer\",\n",
    "            \"title\": \"Capacity\",\n",
    "            \"default\": 1073741824,\n",
    "            \"maximum\": 17592186044416,\n",
    "            \"minimum\": 268435456,\n",
    "            \"required\": True,\n",
    "            \"description\": \"The capacity of the volume in bytes\"\n",
    "        },\n",
    "        \"description\": {\n",
    "            \"meta\": {\n",
    "                \"locked\": False\n",
    "            },\n",
    "            \"type\": \"string\",\n",
    "            \"title\": \"Description\",\n",
    "            \"default\": \"\",\n",
    "            \"maxLength\": 2000,\n",
    "            \"minLength\": 0,\n",
    "            \"description\": \"A description for the volume\"\n",
    "        },\n",
    "        \"isShareable\": {\n",
    "            \"meta\": {\n",
    "                \"locked\": False\n",
    "            },\n",
    "            \"type\": \"boolean\",\n",
    "            \"title\": \"Is Shareable\",\n",
    "            \"default\": False,\n",
    "            \"description\": \"The shareability of the volume\"\n",
    "        },\n",
    "        \"storagePool\": {\n",
    "            \"meta\": {\n",
    "                \"locked\": False,\n",
    "                \"createOnly\": True,\n",
    "                \"semanticType\": \"device-storage-pool\"\n",
    "            },\n",
    "            \"type\": \"string\",\n",
    "            \"title\": \"Storage Pool\",\n",
    "            \"format\": \"x-uri-reference\",\n",
    "            \"required\": True,\n",
    "            \"description\": \"A common provisioning group URI reference\",\n",
    "            \"default\": storage_pool['uri']\n",
    "        },\n",
    "        \"snapshotPool\": {\n",
    "            \"meta\": {\n",
    "                \"locked\": True,\n",
    "                \"semanticType\": \"device-snapshot-storage-pool\"\n",
    "            },\n",
    "            \"type\": \"string\",\n",
    "            \"title\": \"Snapshot Pool\",\n",
    "            \"format\": \"x-uri-reference\",\n",
    "            \"default\": storage_pool['uri'],\n",
    "            \"description\": \"A URI reference to the common provisioning group used to create snapshots\"\n",
    "        },\n",
    "        \"provisioningType\": {\n",
    "            \"enum\": [\n",
    "                \"Thin\",\n",
    "                \"Full\",\n",
    "                \"Thin Deduplication\"\n",
    "            ],\n",
    "            \"meta\": {\n",
    "                \"locked\": True,\n",
    "                \"createOnly\": True\n",
    "            },\n",
    "            \"type\": \"string\",\n",
    "            \"title\": \"Provisioning Type\",\n",
    "            \"default\": \"Thin\",\n",
    "            \"description\": \"The provisioning type for the volume\"\n",
    "        }\n",
    "    }\n",
    "}\n",
    "\n",
    "volume_template = oneview_client.storage_volume_templates.create(options)\n",
    "print(\"Storage volume created...\")"
   ]
  },
  {
   "cell_type": "markdown",
   "metadata": {},
   "source": [
    "### delete storage template\n",
    "\"\"\" don´t use it, for the demo.. \"\"\""
   ]
  },
  {
   "cell_type": "code",
   "execution_count": 17,
   "metadata": {},
   "outputs": [],
   "source": [
    "storage_volume = oneview_client.storage_volume_templates.get_all(filter=\"\\\"name='Roundtable Volume Template'\\\"\")\n",
    "for storvol in storage_volume:\n",
    "    oneview_client.storage_volume_templates.delete(storvol)\n",
    "    "
   ]
  },
  {
   "cell_type": "markdown",
   "metadata": {},
   "source": [
    "### show Enclosure / Server Hardware / Bay\n",
    "<img src=\"Pictures/show_server_hw.gif\" height=\"500\" width=\"500\" align=\"left\">"
   ]
  },
  {
   "cell_type": "code",
   "execution_count": 19,
   "metadata": {},
   "outputs": [
    {
     "name": "stdout",
     "output_type": "stream",
     "text": [
      "show enclosure group (enclosure_group_uri)\n",
      "3F IC1:SAS IC3:VC40F8 /rest/enclosure-groups/3f20ed18-c157-44da-97d6-d8b4bb069a2b\n",
      "\n",
      "show server hardware (server_hardware_type_uri)\n",
      "Synergy 660 Gen9 URI: /rest/server-hardware-types/3FBC15D7-E895-4446-8FF2-1768C38543C7\n",
      "Synergy 660 Gen10 URI: /rest/server-hardware-types/AD94C5F9-6804-4EE0-B3B7-75C0F6E29B43\n",
      "Synergy 480 Gen9 URI: /rest/server-hardware-types/D95853DC-0FBD-4BD2-A72B-6D11AD34DE0B\n",
      "Synergy 480 Gen9 URI: /rest/server-hardware-types/0E3C9C8A-8C7A-492E-AD99-0C7549D5538C\n",
      "Synergy 480 Gen10 URI: /rest/server-hardware-types/32DE0740-1480-4278-8238-F2EE0C95D82B\n",
      "Synergy 480 Gen10 URI: /rest/server-hardware-types/B8C59335-D347-4B23-A946-42FD27D4E427\n",
      "\n",
      "Enclosure/Bay (server_hardware_uri)\n",
      "CTC Synergy HE21, bay 10 Synergy 480 Gen9 /rest/server-hardware/33323337-3235-5A43-3337-303948545238\n",
      "CTC Synergy HE21, bay 1 Synergy 480 Gen9 /rest/server-hardware/36343537-3338-4E43-3736-303230383144\n",
      "CTC Synergy HE21, bay 4 Synergy 480 Gen10 /rest/server-hardware/39313738-3234-5A43-4A37-343030373558\n",
      "CTC Synergy HE21, bay 5 Synergy 660 Gen10 /rest/server-hardware/39313738-3133-5A43-4A37-343030373931\n",
      "CTC Synergy HE01, bay 1 Synergy 480 Gen10 /rest/server-hardware/39313738-3134-5A43-4A37-343030373531\n",
      "CTC Synergy HE01, bay 2 Synergy 480 Gen10 /rest/server-hardware/39313738-3134-5A43-4A37-343030373535\n",
      "CTC Synergy HE01, bay 9 Synergy 480 Gen10 /rest/server-hardware/39313738-3134-5A43-4A37-343030373533\n",
      "CTC Synergy HE01, bay 8 Synergy 480 Gen10 /rest/server-hardware/39313738-3134-5A43-4A37-343030373532\n",
      "CTC Synergy HE01, bay 3 Synergy 480 Gen10 /rest/server-hardware/39313738-3134-5A43-4A37-343030373536\n",
      "CTC Synergy HE01, bay 7 Synergy 480 Gen10 /rest/server-hardware/39313738-3134-5A43-4A37-343030373534\n",
      "CTC Synergy HE11, bay 4 Synergy 480 Gen9 /rest/server-hardware/33323337-3235-5A43-3337-303948545345\n",
      "CTC Synergy HE11, bay 2 Synergy 480 Gen9 /rest/server-hardware/33323337-3235-5A43-3337-30394854524D\n",
      "CTC Synergy HE11, bay 5 Synergy 480 Gen9 /rest/server-hardware/33323337-3235-5A43-3337-303948545438\n",
      "CTC Synergy HE11, bay 6 Synergy 480 Gen9 /rest/server-hardware/33323337-3235-5A43-3337-303948545356\n",
      "CTC Synergy HE11, bay 9 Synergy 480 Gen9 /rest/server-hardware/33323337-3235-5A43-3337-303948545645\n",
      "CTC Synergy HE11, bay 3 Synergy 480 Gen9 /rest/server-hardware/33323337-3235-5A43-3337-303948545332\n",
      "CTC Synergy HE11, bay 7 Synergy 480 Gen9 /rest/server-hardware/33323337-3235-5A43-3337-30394854544D\n",
      "CTC Synergy HE11, bay 8 Synergy 480 Gen9 /rest/server-hardware/33323337-3235-5A43-3337-303948545632\n",
      "CTC Synergy HE11, bay 10 Synergy 480 Gen9 /rest/server-hardware/33323337-3235-5A43-3337-303948545656\n",
      "CTC Synergy HE21, bay 6 Synergy 660 Gen9 /rest/server-hardware/30373737-3237-4E43-3735-353030335447\n",
      "CTC Synergy HE21, bay 2 Synergy 480 Gen9 /rest/server-hardware/36343537-3338-4E43-3736-303230355931\n",
      "CTC Synergy HE21, bay 3 Synergy 480 Gen10 /rest/server-hardware/39313738-3234-5A43-4A37-343030373559\n"
     ]
    }
   ],
   "source": [
    "print (\"show enclosure group (enclosure_group_uri)\")\n",
    "enclosure = oneview_client.enclosure_groups.get_all()\n",
    "for enc in enclosure:\n",
    "    print(enc['name'] + \" \" + enc['uri'])\n",
    "\n",
    "print(\"\\nshow server hardware (server_hardware_type_uri)\")\n",
    "server_hardware_types = oneview_client.server_hardware_types.get_all(sort='name:descending')\n",
    "# print(server_hardware_types)\n",
    "for serverhw in server_hardware_types:\n",
    "    # print(' %s ' % serverhw['model'])\n",
    "    print(serverhw['model'] + \" URI: \" + serverhw['uri'] )\n",
    "\n",
    "print(\"\\nEnclosure/Bay (server_hardware_uri)\")   \n",
    "server_hardware = oneview_client.server_hardware.get_all()\n",
    "for server in server_hardware:\n",
    "    print(server['name'] + \" \" + server['model'] + \" \" + server['uri'])"
   ]
  },
  {
   "cell_type": "markdown",
   "metadata": {},
   "source": [
    "### show Serverprofile\n"
   ]
  },
  {
   "cell_type": "code",
   "execution_count": 61,
   "metadata": {},
   "outputs": [
    {
     "name": "stdout",
     "output_type": "stream",
     "text": [
      "show server profile templates:\n",
      "Andreas iSUT 6.7 Oct18   URI:   /rest/server-profile-templates/414359b3-dc25-443c-92df-0ff828aecfa8\n",
      "CTC ESXi 6.5 U2 SPT   URI:   /rest/server-profile-templates/6ccd04e3-fcc7-4ba9-8595-d2dbe7530d6a\n",
      "CTC RHEL 7.6 SPT   URI:   /rest/server-profile-templates/730234a7-41b4-432f-bcc3-668bc1162a1f\n",
      "CTC RHEL 7.6 AD+Docker SPT   URI:   /rest/server-profile-templates/75724d7e-00da-4d61-8081-299cfce1ac1d\n",
      "CTC ESXi 6.7 U2 SPT   URI:   /rest/server-profile-templates/88c55cc0-4d00-4235-b26b-648218caf8d1\n",
      "DemoSPT   URI:   /rest/server-profile-templates/992dc033-632d-4921-a93b-12dddb0cbbde\n",
      "please delete   URI:   /rest/server-profile-templates/9ff644af-1af3-4357-9af8-6fe1087ac000\n",
      "CTC Stratoscale SPT   URI:   /rest/server-profile-templates/d0a23013-24a7-4b11-8f90-886cdfe87d51\n",
      "CTC RHEL7.3 SPT   URI:   /rest/server-profile-templates/e9be49c8-ef02-49f2-b366-5743a9e95f62\n",
      "\n",
      "show server profiles:\n",
      "SUO04CTCESXGC0100   URI:  /rest/server-profile-templates/e9be49c8-ef02-49f2-b366-5743a9e95f62\n",
      "CTC Synegy Grow Cluster 6.72   URI:  /rest/server-profile-templates/e9be49c8-ef02-49f2-b366-5743a9e95f62\n",
      "SUO04CTCSTRA2 Stratoscale   URI:  /rest/server-profile-templates/e9be49c8-ef02-49f2-b366-5743a9e95f62\n",
      "SUO04CTCSTRA1 Stratoscale   URI:  /rest/server-profile-templates/e9be49c8-ef02-49f2-b366-5743a9e95f62\n",
      "SRT-SUO04SY2101   URI:  /rest/server-profile-templates/e9be49c8-ef02-49f2-b366-5743a9e95f62\n",
      "SUO04CTCSTRA4 Stratoscale   URI:  /rest/server-profile-templates/e9be49c8-ef02-49f2-b366-5743a9e95f62\n",
      "CTC ESXi 6.5U2 Reference SRV GoldImage   URI:  /rest/server-profile-templates/e9be49c8-ef02-49f2-b366-5743a9e95f62\n",
      "SRT-SUO04SY2101-Hedvig   URI:  /rest/server-profile-templates/e9be49c8-ef02-49f2-b366-5743a9e95f62\n",
      "CTC Synegy Grow Cluster 6.71   URI:  /rest/server-profile-templates/e9be49c8-ef02-49f2-b366-5743a9e95f62\n",
      "SRT-SUO04SY2102   URI:  /rest/server-profile-templates/e9be49c8-ef02-49f2-b366-5743a9e95f62\n",
      "CTC RHEL7.6 Reference SRV GoldImage   URI:  /rest/server-profile-templates/e9be49c8-ef02-49f2-b366-5743a9e95f62\n",
      "SRT-SUO04SY2110   URI:  /rest/server-profile-templates/e9be49c8-ef02-49f2-b366-5743a9e95f62\n",
      "SRT-SUO04SY2110-Hedvig   URI:  /rest/server-profile-templates/e9be49c8-ef02-49f2-b366-5743a9e95f62\n",
      "CTC ESXi 6.7 U2 Reference SRC GoldImage   URI:  /rest/server-profile-templates/e9be49c8-ef02-49f2-b366-5743a9e95f62\n",
      "Andreas iSUT 4   URI:  /rest/server-profile-templates/e9be49c8-ef02-49f2-b366-5743a9e95f62\n",
      "SRT-SUO04SY2102-Hedvig   URI:  /rest/server-profile-templates/e9be49c8-ef02-49f2-b366-5743a9e95f62\n",
      "SUO04CTCSTRA3 Stratoscale   URI:  /rest/server-profile-templates/e9be49c8-ef02-49f2-b366-5743a9e95f62\n",
      "SP-created by Ansible   URI:  /rest/server-profile-templates/e9be49c8-ef02-49f2-b366-5743a9e95f62\n"
     ]
    }
   ],
   "source": [
    "print(\"show server profile templates:\")\n",
    "all_srv_templates = oneview_client.server_profile_templates.get_all()\n",
    "for srv_tmp in all_srv_templates:\n",
    "    print(srv_tmp['name'] + \"   URI:   \" + srv_tmp['uri'])\n",
    "\n",
    "print(\"\\nshow server profiles:\")\n",
    "all_profiles = oneview_client.server_profiles.get_all()\n",
    "for profile in all_profiles:\n",
    "    print(profile['name']+ \"   URI:  \" + srv_tmp['uri'])\n",
    "\n",
    "# my_profile = oneview_client.server_profiles.get_by_name(\"Roundtable - API Demo Template (DirkD)\")"
   ]
  },
  {
   "cell_type": "markdown",
   "metadata": {},
   "source": [
    "### create server profile (takes 2-3 minutes)\n",
    "<br>\n",
    "<img src=\"Pictures/boot_synergy.gif\" height=\"500\" width=\"500\" align=\"left\">"
   ]
  },
  {
   "cell_type": "code",
   "execution_count": 66,
   "metadata": {},
   "outputs": [
    {
     "name": "stdout",
     "output_type": "stream",
     "text": [
      "#/rest/server-hardware/33323337-3235-5A43-3337-303948545645#\n",
      "create server profile\n"
     ]
    },
    {
     "ename": "HPOneViewTaskError",
     "evalue": "Invalid value for custom attribute HostName in the OS deployment settings.",
     "output_type": "error",
     "traceback": [
      "\u001b[1;31m---------------------------------------------------------------------------\u001b[0m",
      "\u001b[1;31mHPOneViewTaskError\u001b[0m                        Traceback (most recent call last)",
      "\u001b[1;32m<ipython-input-66-af8474e7c7f1>\u001b[0m in \u001b[0;36m<module>\u001b[1;34m()\u001b[0m\n\u001b[0;32m     31\u001b[0m     \u001b[1;32mif\u001b[0m \u001b[1;33m(\u001b[0m\u001b[0mname\u001b[0m\u001b[1;33m[\u001b[0m\u001b[1;34m'name'\u001b[0m\u001b[1;33m]\u001b[0m \u001b[1;33m==\u001b[0m \u001b[1;34m\"NewUserPassword\"\u001b[0m\u001b[1;33m)\u001b[0m\u001b[1;33m:\u001b[0m\u001b[1;33m\u001b[0m\u001b[0m\n\u001b[0;32m     32\u001b[0m         \u001b[0mname\u001b[0m\u001b[1;33m[\u001b[0m\u001b[1;34m'value'\u001b[0m\u001b[1;33m]\u001b[0m\u001b[1;33m=\u001b[0m \u001b[1;34m\"HalloRoundtable!\"\u001b[0m\u001b[1;33m\u001b[0m\u001b[0m\n\u001b[1;32m---> 33\u001b[1;33m \u001b[0mprofile\u001b[0m \u001b[1;33m=\u001b[0m \u001b[0moneview_client\u001b[0m\u001b[1;33m.\u001b[0m\u001b[0mserver_profiles\u001b[0m\u001b[1;33m.\u001b[0m\u001b[0mcreate\u001b[0m\u001b[1;33m(\u001b[0m\u001b[0mroundtable_server\u001b[0m\u001b[1;33m)\u001b[0m\u001b[1;33m\u001b[0m\u001b[0m\n\u001b[0m",
      "\u001b[1;32m~\\AppData\\Local\\Continuum\\anaconda3\\envs\\roundtable\\lib\\site-packages\\hpOneView\\resources\\servers\\server_profiles.py\u001b[0m in \u001b[0;36mcreate\u001b[1;34m(self, resource, timeout, force)\u001b[0m\n\u001b[0;32m     68\u001b[0m         \"\"\"\n\u001b[0;32m     69\u001b[0m         \u001b[0muri\u001b[0m \u001b[1;33m=\u001b[0m \u001b[0mself\u001b[0m\u001b[1;33m.\u001b[0m\u001b[0m__build_uri_with_query_string\u001b[0m\u001b[1;33m(\u001b[0m\u001b[1;33m{\u001b[0m\u001b[1;34m\"force\"\u001b[0m\u001b[1;33m:\u001b[0m \u001b[0mforce\u001b[0m\u001b[1;33m}\u001b[0m\u001b[1;33m)\u001b[0m\u001b[1;33m\u001b[0m\u001b[0m\n\u001b[1;32m---> 70\u001b[1;33m         \u001b[1;32mreturn\u001b[0m \u001b[0mself\u001b[0m\u001b[1;33m.\u001b[0m\u001b[0m_client\u001b[0m\u001b[1;33m.\u001b[0m\u001b[0mcreate\u001b[0m\u001b[1;33m(\u001b[0m\u001b[0mresource\u001b[0m\u001b[1;33m=\u001b[0m\u001b[0mresource\u001b[0m\u001b[1;33m,\u001b[0m \u001b[0muri\u001b[0m\u001b[1;33m=\u001b[0m\u001b[0muri\u001b[0m\u001b[1;33m,\u001b[0m \u001b[0mtimeout\u001b[0m\u001b[1;33m=\u001b[0m\u001b[0mtimeout\u001b[0m\u001b[1;33m,\u001b[0m \u001b[0mdefault_values\u001b[0m\u001b[1;33m=\u001b[0m\u001b[0mself\u001b[0m\u001b[1;33m.\u001b[0m\u001b[0mDEFAULT_VALUES\u001b[0m\u001b[1;33m)\u001b[0m\u001b[1;33m\u001b[0m\u001b[0m\n\u001b[0m\u001b[0;32m     71\u001b[0m \u001b[1;33m\u001b[0m\u001b[0m\n\u001b[0;32m     72\u001b[0m     \u001b[1;32mdef\u001b[0m \u001b[0mupdate\u001b[0m\u001b[1;33m(\u001b[0m\u001b[0mself\u001b[0m\u001b[1;33m,\u001b[0m \u001b[0mresource\u001b[0m\u001b[1;33m,\u001b[0m \u001b[0mid_or_uri\u001b[0m\u001b[1;33m,\u001b[0m \u001b[0mforce\u001b[0m\u001b[1;33m=\u001b[0m\u001b[1;34m''\u001b[0m\u001b[1;33m)\u001b[0m\u001b[1;33m:\u001b[0m\u001b[1;33m\u001b[0m\u001b[0m\n",
      "\u001b[1;32m~\\AppData\\Local\\Continuum\\anaconda3\\envs\\roundtable\\lib\\site-packages\\hpOneView\\resources\\resource.py\u001b[0m in \u001b[0;36mcreate\u001b[1;34m(self, resource, uri, timeout, custom_headers, default_values)\u001b[0m\n\u001b[0;32m    448\u001b[0m         \u001b[0mresource\u001b[0m \u001b[1;33m=\u001b[0m \u001b[0mself\u001b[0m\u001b[1;33m.\u001b[0m\u001b[0mmerge_default_values\u001b[0m\u001b[1;33m(\u001b[0m\u001b[0mresource\u001b[0m\u001b[1;33m,\u001b[0m \u001b[0mdefault_values\u001b[0m\u001b[1;33m)\u001b[0m\u001b[1;33m\u001b[0m\u001b[0m\n\u001b[0;32m    449\u001b[0m \u001b[1;33m\u001b[0m\u001b[0m\n\u001b[1;32m--> 450\u001b[1;33m         \u001b[1;32mreturn\u001b[0m \u001b[0mself\u001b[0m\u001b[1;33m.\u001b[0m\u001b[0m__do_post\u001b[0m\u001b[1;33m(\u001b[0m\u001b[0muri\u001b[0m\u001b[1;33m,\u001b[0m \u001b[0mresource\u001b[0m\u001b[1;33m,\u001b[0m \u001b[0mtimeout\u001b[0m\u001b[1;33m,\u001b[0m \u001b[0mcustom_headers\u001b[0m\u001b[1;33m)\u001b[0m\u001b[1;33m\u001b[0m\u001b[0m\n\u001b[0m\u001b[0;32m    451\u001b[0m \u001b[1;33m\u001b[0m\u001b[0m\n\u001b[0;32m    452\u001b[0m     \u001b[1;32mdef\u001b[0m \u001b[0mupload\u001b[0m\u001b[1;33m(\u001b[0m\u001b[0mself\u001b[0m\u001b[1;33m,\u001b[0m \u001b[0mfile_path\u001b[0m\u001b[1;33m,\u001b[0m \u001b[0muri\u001b[0m\u001b[1;33m=\u001b[0m\u001b[1;32mNone\u001b[0m\u001b[1;33m,\u001b[0m \u001b[0mtimeout\u001b[0m\u001b[1;33m=\u001b[0m\u001b[1;33m-\u001b[0m\u001b[1;36m1\u001b[0m\u001b[1;33m)\u001b[0m\u001b[1;33m:\u001b[0m\u001b[1;33m\u001b[0m\u001b[0m\n",
      "\u001b[1;32m~\\AppData\\Local\\Continuum\\anaconda3\\envs\\roundtable\\lib\\site-packages\\hpOneView\\resources\\resource.py\u001b[0m in \u001b[0;36m__do_post\u001b[1;34m(self, uri, resource, timeout, custom_headers)\u001b[0m\n\u001b[0;32m    762\u001b[0m             \u001b[1;32mreturn\u001b[0m \u001b[0mentity\u001b[0m\u001b[1;33m\u001b[0m\u001b[0m\n\u001b[0;32m    763\u001b[0m \u001b[1;33m\u001b[0m\u001b[0m\n\u001b[1;32m--> 764\u001b[1;33m         \u001b[1;32mreturn\u001b[0m \u001b[0mself\u001b[0m\u001b[1;33m.\u001b[0m\u001b[0m_task_monitor\u001b[0m\u001b[1;33m.\u001b[0m\u001b[0mwait_for_task\u001b[0m\u001b[1;33m(\u001b[0m\u001b[0mtask\u001b[0m\u001b[1;33m,\u001b[0m \u001b[0mtimeout\u001b[0m\u001b[1;33m)\u001b[0m\u001b[1;33m\u001b[0m\u001b[0m\n\u001b[0m\u001b[0;32m    765\u001b[0m \u001b[1;33m\u001b[0m\u001b[0m\n\u001b[0;32m    766\u001b[0m     \u001b[1;32mdef\u001b[0m \u001b[0m__do_put\u001b[0m\u001b[1;33m(\u001b[0m\u001b[0mself\u001b[0m\u001b[1;33m,\u001b[0m \u001b[0muri\u001b[0m\u001b[1;33m,\u001b[0m \u001b[0mresource\u001b[0m\u001b[1;33m,\u001b[0m \u001b[0mtimeout\u001b[0m\u001b[1;33m,\u001b[0m \u001b[0mcustom_headers\u001b[0m\u001b[1;33m)\u001b[0m\u001b[1;33m:\u001b[0m\u001b[1;33m\u001b[0m\u001b[0m\n",
      "\u001b[1;32m~\\AppData\\Local\\Continuum\\anaconda3\\envs\\roundtable\\lib\\site-packages\\hpOneView\\resources\\task_monitor.py\u001b[0m in \u001b[0;36mwait_for_task\u001b[1;34m(self, task, timeout)\u001b[0m\n\u001b[0;32m     86\u001b[0m         \u001b[0mlogger\u001b[0m\u001b[1;33m.\u001b[0m\u001b[0mdebug\u001b[0m\u001b[1;33m(\u001b[0m\u001b[1;34m\"Waiting for task. Task state: \"\u001b[0m \u001b[1;33m+\u001b[0m \u001b[0mstr\u001b[0m\u001b[1;33m(\u001b[0m\u001b[0mtask\u001b[0m\u001b[1;33m.\u001b[0m\u001b[0mget\u001b[0m\u001b[1;33m(\u001b[0m\u001b[1;34m'taskState'\u001b[0m\u001b[1;33m)\u001b[0m\u001b[1;33m)\u001b[0m\u001b[1;33m)\u001b[0m\u001b[1;33m\u001b[0m\u001b[0m\n\u001b[0;32m     87\u001b[0m \u001b[1;33m\u001b[0m\u001b[0m\n\u001b[1;32m---> 88\u001b[1;33m         \u001b[0mtask_response\u001b[0m \u001b[1;33m=\u001b[0m \u001b[0mself\u001b[0m\u001b[1;33m.\u001b[0m\u001b[0m__get_task_response\u001b[0m\u001b[1;33m(\u001b[0m\u001b[0mtask\u001b[0m\u001b[1;33m)\u001b[0m\u001b[1;33m\u001b[0m\u001b[0m\n\u001b[0m\u001b[0;32m     89\u001b[0m         \u001b[0mlogger\u001b[0m\u001b[1;33m.\u001b[0m\u001b[0mdebug\u001b[0m\u001b[1;33m(\u001b[0m\u001b[1;34m'Task completed'\u001b[0m\u001b[1;33m)\u001b[0m\u001b[1;33m\u001b[0m\u001b[0m\n\u001b[0;32m     90\u001b[0m         \u001b[1;32mreturn\u001b[0m \u001b[0mtask_response\u001b[0m\u001b[1;33m\u001b[0m\u001b[0m\n",
      "\u001b[1;32m~\\AppData\\Local\\Continuum\\anaconda3\\envs\\roundtable\\lib\\site-packages\\hpOneView\\resources\\task_monitor.py\u001b[0m in \u001b[0;36m__get_task_response\u001b[1;34m(self, task)\u001b[0m\n\u001b[0;32m    145\u001b[0m \u001b[1;33m\u001b[0m\u001b[0m\n\u001b[0;32m    146\u001b[0m             \u001b[1;32mif\u001b[0m \u001b[0mmsg\u001b[0m\u001b[1;33m:\u001b[0m\u001b[1;33m\u001b[0m\u001b[0m\n\u001b[1;32m--> 147\u001b[1;33m                 \u001b[1;32mraise\u001b[0m \u001b[0mHPOneViewTaskError\u001b[0m\u001b[1;33m(\u001b[0m\u001b[0mmsg\u001b[0m\u001b[1;33m,\u001b[0m \u001b[0merror_code\u001b[0m\u001b[1;33m)\u001b[0m\u001b[1;33m\u001b[0m\u001b[0m\n\u001b[0m\u001b[0;32m    148\u001b[0m             \u001b[1;32melif\u001b[0m \u001b[1;34m'taskStatus'\u001b[0m \u001b[1;32min\u001b[0m \u001b[0mtask\u001b[0m \u001b[1;32mand\u001b[0m \u001b[0mtask\u001b[0m\u001b[1;33m[\u001b[0m\u001b[1;34m'taskStatus'\u001b[0m\u001b[1;33m]\u001b[0m\u001b[1;33m:\u001b[0m\u001b[1;33m\u001b[0m\u001b[0m\n\u001b[0;32m    149\u001b[0m                 \u001b[1;32mraise\u001b[0m \u001b[0mHPOneViewTaskError\u001b[0m\u001b[1;33m(\u001b[0m\u001b[0mtask\u001b[0m\u001b[1;33m[\u001b[0m\u001b[1;34m'taskStatus'\u001b[0m\u001b[1;33m]\u001b[0m\u001b[1;33m,\u001b[0m \u001b[0merror_code\u001b[0m\u001b[1;33m)\u001b[0m\u001b[1;33m\u001b[0m\u001b[0m\n",
      "\u001b[1;31mHPOneViewTaskError\u001b[0m: Invalid value for custom attribute HostName in the OS deployment settings."
     ]
    }
   ],
   "source": [
    "server_hardware = oneview_client.server_hardware.get_by( \"name\", \"CTC Synergy HE11, bay 9\")[0]\n",
    "server_hardware_uri=server_hardware['uri'] \n",
    "print(\"#\"+server_hardware_uri+\"#\")\n",
    "\n",
    "powerOff = {\n",
    "    \"powerState\": \"Off\",\n",
    "    \"powerControl\": \"PressAndHold\"\n",
    "}\n",
    "\n",
    "# server_power = oneview_client.server_hardware.update_power_state(powerOff, server_hardware_uri)\n",
    "\n",
    "\n",
    "\n",
    "\n",
    "#template_name = \"Roundtable - API Demo Template (DirkD)\"\n",
    "template_name = \"CTC RHEL 7.6 AD+Docker SPT\"\n",
    "server_name = \"Roundtable - API Demo Server (DirkD)\"\n",
    "\n",
    "server_template_uri = oneview_client.server_profile_templates.get_by_name(template_name)\n",
    "#print(server_template_uri)\n",
    "\n",
    "\n",
    "print (\"create server profile\")\n",
    "roundtable_server = oneview_client.server_profile_templates.get_new_profile(server_template_uri['uri'])\n",
    "roundtable_server[\"name\"] = server_name\n",
    "roundtable_server[\"serverHardwareUri\"] = server_hardware_uri\n",
    "\n",
    "for name in roundtable_server[\"osDeploymentSettings\"][\"osCustomAttributes\"]:\n",
    "    if (name['name'] == \"NewUser\"):\n",
    "        name['value']= \"dirk\"\n",
    "    if (name['name'] == \"NewUserPassword\"):\n",
    "        name['value']= \"HalloRoundtable!\"   \n",
    "profile = oneview_client.server_profiles.create(roundtable_server)\n"
   ]
  },
  {
   "cell_type": "code",
   "execution_count": 71,
   "metadata": {
    "scrolled": false
   },
   "outputs": [
    {
     "name": "stdout",
     "output_type": "stream",
     "text": [
      "create server profile\n"
     ]
    }
   ],
   "source": [
    "powerOn = {\n",
    "    \"powerState\": \"On\",\n",
    "    \"powerControl\": \"MomentaryPress\"\n",
    "}\n",
    "\n",
    "powerOff = {\n",
    "    \"powerState\": \"Off\",\n",
    "    \"powerControl\": \"PressAndHold\"\n",
    "}\n",
    "\n",
    "#template_name = \"Roundtable - API Demo Template (DirkD)\"\n",
    "template_name = \"CTC RHEL 7.6 AD+Docker SPT\"\n",
    "server_name = \"Roundtable - API Demo Server (DirkD)2\"\n",
    "\n",
    "\n",
    "\n",
    "server_hardware = oneview_client.server_hardware.get_by( \"name\", \"CTC Synergy HE11, bay 10\")[0]\n",
    "server_hardware_uri=server_hardware['uri'] \n",
    "# server_hardware_uri = '/rest/server-hardware/39313738-3133-5A43-4A37-343030373931' # SY660 G10\n",
    "# server_hardware_uri = '/rest/server-hardware/39313738-3134-5A43-4A37-343030373536' # SY480\n",
    "#server_hardware_uri = '/rest/server-hardware/39313738-3134-5A43-4A37-343030373533' # SY480 HE01, bay 9\n",
    "\n",
    "server_template_uri = oneview_client.server_profile_templates.get_by_name(template_name)\n",
    "server_power = oneview_client.server_hardware.update_power_state(powerOff, server_hardware_uri) # turn off server\n",
    "\n",
    "try:\n",
    "    print (\"create server profile\")\n",
    "    roundtable_server = oneview_client.server_profile_templates.get_new_profile(server_template_uri['uri'])\n",
    "    roundtable_server[\"name\"] = server_name\n",
    "    roundtable_server[\"serverHardwareUri\"] = server_hardware_uri\n",
    "\n",
    "    for name in roundtable_server[\"osDeploymentSettings\"][\"osCustomAttributes\"]:\n",
    "        if (name['name'] == \"NewUser\"):\n",
    "            name['value']= \"dirk\"\n",
    "        if (name['name'] == \"NewUserPassword\"):\n",
    "            name['value']= \"HalloRoundtable!\"  \n",
    "        if (name['name'] == \"HostName\"):\n",
    "            name['value']= \"roundtable\" \n",
    "    profile = oneview_client.server_profiles.create(roundtable_server)\n",
    "\n",
    "    \n",
    "except:\n",
    "    print(server_name + \" Server already exists\")\n",
    "\n",
    "server_power = oneview_client.server_hardware.update_power_state(powerOn, server_hardware_uri) # turn on server\n"
   ]
  },
  {
   "cell_type": "markdown",
   "metadata": {},
   "source": [
    "### Show individual parameters from Image (Imagestreamer)"
   ]
  },
  {
   "cell_type": "code",
   "execution_count": 67,
   "metadata": {},
   "outputs": [
    {
     "name": "stdout",
     "output_type": "stream",
     "text": [
      "Team0NIC1.vlanid: 0\n",
      "Team0NIC1.connectionid: 3\n",
      "DomainName: demo.local\n",
      "NewUserPassword: None\n",
      "Team1NIC1.connectionid: none\n",
      "Team0NIC2.vlanid: 0\n",
      "NewUser: demouser\n",
      "Team1NIC1.mac: none\n",
      "Team0NIC1.constraint: auto\n",
      "Team0NIC2.constraint: auto\n",
      "TotalNICTeamings: 1\n",
      "Team0NIC2.connectionid: 4\n",
      "NewRootPassword: \n",
      "Team0NIC2.networkuri: /rest/ethernet-networks/1e3ccaf4-7b9b-403f-90f0-62d91d9ead32\n",
      "Team1NIC2.mac: none\n",
      "Team0NIC1.networkuri: /rest/ethernet-networks/1e3ccaf4-7b9b-403f-90f0-62d91d9ead32\n",
      "Team1NIC2.connectionid: none\n",
      "SSH: Enabled\n",
      "SecondPartitionSize: 10\n",
      "HostName: \n",
      "LogicalVolumeSize: 15\n",
      "DiskName: /dev/sda\n"
     ]
    }
   ],
   "source": [
    "    #print (\"create server profile\")\n",
    "    roundtable_server = oneview_client.server_profile_templates.get_new_profile(server_template_uri['uri'])\n",
    "    roundtable_server[\"name\"] = server_name\n",
    "    roundtable_server[\"serverHardwareUri\"] = server_hardware_uri\n",
    "\n",
    "    for name in roundtable_server[\"osDeploymentSettings\"][\"osCustomAttributes\"]:\n",
    "        print(name['name'] + \": \" + str(name['value']))\n",
    "   \n"
   ]
  },
  {
   "cell_type": "markdown",
   "metadata": {},
   "source": [
    "### delete server profile\n",
    "!!! do not use, if not necessary !!!"
   ]
  },
  {
   "cell_type": "code",
   "execution_count": null,
   "metadata": {},
   "outputs": [],
   "source": [
    "server_power = oneview_client.server_hardware.update_power_state(powerOff, server_hardware_uri) # turn on server\n",
    "oneview_client.server_profiles.delete(profile)"
   ]
  },
  {
   "cell_type": "markdown",
   "metadata": {},
   "source": [
    "### example: how to get the values from json"
   ]
  },
  {
   "cell_type": "code",
   "execution_count": null,
   "metadata": {},
   "outputs": [],
   "source": [
    "    server_hardware = oneview_client.server_hardware.get_all()\n",
    "   # print(server_hardware)\n",
    "    \n",
    "    for server in server_hardware:\n",
    "        for ports in server['portMap']['deviceSlots']:\n",
    "            for mac in ports['physicalPorts']: \n",
    "                for wwnn in mac['virtualPorts']:\n",
    "                    print(server['name']+ \" model:\" + server['model'] + \" \" + str(server['memoryMb']) + \" MB mac: \" + str(mac['mac']) + \" wwnn: \" + str(wwnn['wwnn'])) "
   ]
  },
  {
   "cell_type": "markdown",
   "metadata": {},
   "source": [
    "### application deployment\n",
    "\n",
    "\n",
    "Webserver NGINX running on docker.\n",
    "\n",
    "##### What we need:\n",
    "\n",
    "IP address of deployed system.\n",
    "\n",
    "<br>\n",
    "<img src=\"Pictures/NGINX.png\" height=\"500\" width=\"500\" align=\"left\">\n"
   ]
  },
  {
   "cell_type": "code",
   "execution_count": null,
   "metadata": {},
   "outputs": [],
   "source": [
    "# wait until Server is up .....\n",
    "\n",
    "waiting=True\n",
    "while waiting:\n",
    "    counter=0\n",
    "    t = os.system('ping '+ip_address)\n",
    "    if not t:\n",
    "        time.sleep(10)\n",
    "        waiting=False\n",
    "    else:\n",
    "        counter +=1\n",
    "        if counter == 100:\n",
    "            waiting = False \n",
    "        print(\"waiting to finish boot\") "
   ]
  },
  {
   "cell_type": "code",
   "execution_count": 73,
   "metadata": {},
   "outputs": [
    {
     "name": "stdout",
     "output_type": "stream",
     "text": [
      "Login with user: root Server:10.0.20.83\n",
      "http://10.0.20.83\n"
     ]
    }
   ],
   "source": [
    "import os\n",
    "import paramiko\n",
    "import time\n",
    "\n",
    "ssh = paramiko.SSHClient()\n",
    "\n",
    "#server_name = \"Roundtable - API Demo Server (DirkD)\"\n",
    "username = 'root'\n",
    "password = 'Compaq1!'\n",
    "\n",
    "deployed_server = oneview_client.server_profiles.get_by_name(server_name)\n",
    "\n",
    "for name in deployed_server[\"osDeploymentSettings\"][\"osCustomAttributes\"]:\n",
    "    if (name['name'] == \"Team0NIC1.ipaddress\"):\n",
    "        ip_address = name['value']\n",
    "\n",
    "# wait until Server is up .....\n",
    "\n",
    "waiting=True\n",
    "while waiting:\n",
    "    counter=0\n",
    "    t = os.system('ping '+ip_address)\n",
    "    if not t:\n",
    "        time.sleep(10)\n",
    "        waiting=False\n",
    "    else:\n",
    "        counter +=1\n",
    "        if counter == 100:\n",
    "            waiting = False \n",
    "        print(\"waiting to finish boot \")       \n",
    "        \n",
    "time.sleep(20)        \n",
    "\n",
    "print(\"Login with user: \" + username + \" Server:\" + ip_address)        \n",
    "ssh.set_missing_host_key_policy(paramiko.AutoAddPolicy())         # add unknown Host-Keys\n",
    "ssh.connect(ip_address, username=username, password=password)     # login\n",
    "ssh.exec_command('docker run -d --name nginx -p 80:80 nginx')\n",
    "#time.sleep(10)\n",
    "stdin, stdout, stderr = ssh.exec_command(\"docker exec -it nginx sed -i '\\''s/nginx/the Synergy Roundtable/g'\\'' /usr/share/nginx/html/index.html\", get_pty=True)\n",
    "print(\"http://\" + ip_address)\n",
    "# print(stdout.read())\n",
    "# print(stderr.read())\n"
   ]
  },
  {
   "cell_type": "markdown",
   "metadata": {},
   "source": [
    "### Excel Export\n",
    "\n",
    "xlswriter:\n",
    "https://xlsxwriter.readthedocs.io/\n",
    "\n",
    "example: we extrace some data to excel XLS"
   ]
  },
  {
   "cell_type": "code",
   "execution_count": null,
   "metadata": {
    "scrolled": false
   },
   "outputs": [],
   "source": [
    "import xlsxwriter\n",
    "workbook = xlsxwriter.Workbook('roundtable.xlsx')\n",
    "worksheet = workbook.add_worksheet()\n",
    "\n",
    "# Add a bold format to use to highlight cells.\n",
    "bold = workbook.add_format({'bold': True})\n",
    "\n",
    "# Text with formatting.\n",
    "worksheet.write(0,0, 'Synergy Roundtable', bold)\n",
    "\n",
    "# Start from the first cell below the headers.\n",
    "row = 4\n",
    "worksheet.write(row, 0, \"Servername\", bold)\n",
    "worksheet.write(row, 1, \"Model\", bold)\n",
    "worksheet.write(row, 2, \"Memory\", bold)\n",
    "worksheet.write(row, 3, \"MAC address\", bold)\n",
    "worksheet.write(row, 4, \"WWN address\", bold)\n",
    "worksheet.write(row, 5, \"Status\", bold)\n",
    "row += 1\n",
    "\n",
    "server_hardware = oneview_client.server_hardware.get_all()\n",
    "#print(server_hardware)\n",
    "\n",
    "for server in server_hardware:\n",
    " col = 0\n",
    " for ports in server['portMap']['deviceSlots']:\n",
    "     for mac in ports['physicalPorts']: \n",
    "         for wwnn in mac['virtualPorts']:\n",
    "             # print(server['name']+ \" model:\" + server['model'] + \" \" + str(server['memoryMb']) + \" MB mac: \" + str(mac['mac']) + \" wwnn: \" + str(wwnn['wwnn']))\n",
    "             worksheet.write(row,col, server['name'])\n",
    "             worksheet.write(row,col+1, server['model'])\n",
    "             worksheet.write(row,col+2, server['memoryMb'])\n",
    "             worksheet.write(row,col+3, mac['mac'])\n",
    "             worksheet.write(row,col+4, wwnn['wwnn'])\n",
    "             worksheet.write(row,col+5, server['status'])\n",
    "             row += 1\n",
    "workbook.close()\n",
    "print ('Excel File roundtable.xlsx created')"
   ]
  }
 ],
 "metadata": {
  "kernelspec": {
   "display_name": "Python 3",
   "language": "python",
   "name": "python3"
  },
  "language_info": {
   "codemirror_mode": {
    "name": "ipython",
    "version": 3
   },
   "file_extension": ".py",
   "mimetype": "text/x-python",
   "name": "python",
   "nbconvert_exporter": "python",
   "pygments_lexer": "ipython3",
   "version": "3.7.0"
  }
 },
 "nbformat": 4,
 "nbformat_minor": 2
}
