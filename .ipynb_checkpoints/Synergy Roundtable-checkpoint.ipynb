{
 "cells": [
  {
   "cell_type": "markdown",
   "metadata": {},
   "source": [
    "# Welcome to the Synergy Roundtable\n",
    "created by Dirk Derichsweiler - 05/10/2018<br>\n",
    "do not hesitate to contact me: dirk.derichsweiler@hpe.com\n",
    "\n",
    "jupyter Notebook can be found: https://github.com <- exchange url!\n",
    "\n",
    "\n",
    "#### requirements\n",
    "Python + hpOneView Python Library (see: https://github.com/HewlettPackard/python-hpOneView/wiki/HPE-OneView-Python-Windows-Setup-Guide)\n",
    "\n",
    "\n",
    "#### additional information\n",
    "\n",
    "On your HPE OneView appliance, or online<br>\n",
    "https://192.168.146.34/help/cic-rest/en/content/index.html#home.html<br>\n",
    "https://192.168.146.34/api-docs/current/ <br>\n",
    "http://www.hpe.com/info/oneview/docs \n",
    "\n",
    "#### python specific\n",
    "https://hewlettpackard.github.io/python-hpOneView/index.html<br>\n",
    "https://github.com/HewlettPackard/python-hpOneView<br>\n",
    "\n",
    "\n",
    "\n",
    "\n",
    "# INTERNAL INFORMATION -> DELETEIT\n",
    "\n",
    "##### aim:\n",
    "- so einfach wie möglich, kein advanced Hacking!\n",
    "- weniger ist mehr!\n",
    "\n",
    "\n",
    "##### open task: // delete it\n",
    "- RestFUL API erklären und Umfang darstellen\n",
    "- welche Plug Ins gibt es\n",
    "- welche UseCases gibt es? - einfacher UseCase machen wir jetzt!\n",
    "\n",
    "\n",
    "###### show and demonstrate the following Workbooks: // delete it\n",
    "- python\n",
    "- powershell\n",
    "- terraform - ansible\n",
    "\n",
    "###### Input:\n",
    "Trennung zwischen code und was jetzt passiert. (ggf. Powerpoint auf dem Beamer)\n",
    "\n",
    "\n",
    "# ENDOF INTERNAL INFORMATION\n",
    "\n",
    "\n",
    "\n",
    "### Login\n",
    "\n",
    "<img src=\"Pictures/Login.png\" height=\"500\" width=\"500\" align=\"left\">"
   ]
  },
  {
   "cell_type": "markdown",
   "metadata": {},
   "source": [
    "##### import the python OneView library"
   ]
  },
  {
   "cell_type": "code",
   "execution_count": 3,
   "metadata": {},
   "outputs": [],
   "source": [
    "from hpOneView.oneview_client import OneViewClient"
   ]
  },
  {
   "cell_type": "markdown",
   "metadata": {},
   "source": [
    "##### configure your environment:"
   ]
  },
  {
   "cell_type": "code",
   "execution_count": 4,
   "metadata": {},
   "outputs": [],
   "source": [
    "config = {\n",
    "    \"ip\": \"192.168.146.34\",\n",
    "    \"image_streamer_ip\": \"\",\n",
    "    \"credentials\": {\n",
    "        \"userName\": \"python\",\n",
    "        \"password\": \"python123\"\n",
    "    }\n",
    "}"
   ]
  },
  {
   "cell_type": "markdown",
   "metadata": {},
   "source": [
    "##### login:\n",
    "create new object oneview_client with the config (see above)"
   ]
  },
  {
   "cell_type": "code",
   "execution_count": 5,
   "metadata": {
    "scrolled": true
   },
   "outputs": [],
   "source": [
    "oneview_client = OneViewClient(config)"
   ]
  },
  {
   "cell_type": "markdown",
   "metadata": {},
   "source": [
    "\n",
    "#### ADVANCED: which functions are available?"
   ]
  },
  {
   "cell_type": "code",
   "execution_count": 21,
   "metadata": {},
   "outputs": [
    {
     "data": {
      "text/plain": [
       "['__call__',\n",
       " '__class__',\n",
       " '__delattr__',\n",
       " '__dir__',\n",
       " '__doc__',\n",
       " '__eq__',\n",
       " '__format__',\n",
       " '__func__',\n",
       " '__ge__',\n",
       " '__get__',\n",
       " '__getattribute__',\n",
       " '__gt__',\n",
       " '__hash__',\n",
       " '__init__',\n",
       " '__init_subclass__',\n",
       " '__le__',\n",
       " '__lt__',\n",
       " '__ne__',\n",
       " '__new__',\n",
       " '__reduce__',\n",
       " '__reduce_ex__',\n",
       " '__repr__',\n",
       " '__self__',\n",
       " '__setattr__',\n",
       " '__sizeof__',\n",
       " '__str__',\n",
       " '__subclasshook__']"
      ]
     },
     "execution_count": 21,
     "metadata": {},
     "output_type": "execute_result"
    }
   ],
   "source": [
    "dir(oneview_client)\n",
    "dir(oneview_client.storage_volume_templates) # drill down "
   ]
  },
  {
   "cell_type": "markdown",
   "metadata": {},
   "source": [
    "### show existing networks\n",
    "\n",
    "<img src=\"Pictures/Network.png\" height=\"500\" width=\"500\" align=\"left\">\n",
    "<br>"
   ]
  },
  {
   "cell_type": "code",
   "execution_count": 48,
   "metadata": {},
   "outputs": [
    {
     "name": "stdout",
     "output_type": "stream",
     "text": [
      "The following networks exists:\n",
      "   'Roundtable - Test Ethernet Network' \n"
     ]
    }
   ],
   "source": [
    "roundtable_networks=oneview_client.ethernet_networks.get_all()\n",
    "print(\"The following networks exists:\")\n",
    "for net in roundtable_networks:\n",
    "  print(\"   '{name}' \".format(**net))   #at uri: '{uri}'   # \n",
    "  # oneview_client.ethernet_networks.delete(net) # this is only for preparation -> Delete´s all networks "
   ]
  },
  {
   "cell_type": "markdown",
   "metadata": {},
   "source": [
    "### create network\n",
    "\n",
    "<img src=\"Pictures/Network_create.png\" height=\"500\" width=\"500\" align=\"left\">"
   ]
  },
  {
   "cell_type": "code",
   "execution_count": 43,
   "metadata": {},
   "outputs": [
    {
     "name": "stdout",
     "output_type": "stream",
     "text": [
      "Created ethernet-network 'Roundtable - Test Ethernet Network' successfully.\n",
      "   uri = '/rest/ethernet-networks/c3c08587-9f69-41c7-9bdc-21148481e8a2'\n"
     ]
    }
   ],
   "source": [
    "options = {\n",
    "    \"name\": \"Roundtable - Test Ethernet Network\",\n",
    "    \"vlanId\": 200,\n",
    "    \"ethernetNetworkType\": \"Tagged\",\n",
    "    \"purpose\": \"General\",\n",
    "    \"smartLink\": False,\n",
    "    \"privateNetwork\": False,\n",
    "    \"connectionTemplateUri\": None\n",
    "}\n",
    "\n",
    "ethernet_network = oneview_client.ethernet_networks.create(options)\n",
    "print(\"Created ethernet-network '{name}' successfully.\\n   uri = '{uri}'\" .format(**ethernet_network))\n"
   ]
  },
  {
   "cell_type": "markdown",
   "metadata": {},
   "source": [
    "### create bulk network\n",
    "How to set up multiple networks at Once."
   ]
  },
  {
   "cell_type": "code",
   "execution_count": 44,
   "metadata": {
    "scrolled": false
   },
   "outputs": [
    {
     "name": "stdout",
     "output_type": "stream",
     "text": [
      "   'Roundtable-Ethernet_1' \n",
      "   'Roundtable-Ethernet_2' \n",
      "   'Roundtable-Ethernet_3' \n",
      "   'Roundtable-Ethernet_4' \n",
      "   'Roundtable-Ethernet_5' \n",
      "   'Roundtable-Ethernet_7' \n",
      "   'Roundtable-Ethernet_100' \n",
      "   'Roundtable-Ethernet_101' \n",
      "   'Roundtable-Ethernet_102' \n",
      "   'Roundtable-Ethernet_103' \n",
      "   'Roundtable-Ethernet_104' \n",
      "   'Roundtable-Ethernet_105' \n",
      "   'Roundtable-Ethernet_106' \n",
      "   'Roundtable-Ethernet_107' \n",
      "   'Roundtable-Ethernet_108' \n",
      "   'Roundtable-Ethernet_109' \n",
      "   'Roundtable-Ethernet_200' \n"
     ]
    }
   ],
   "source": [
    "options_bulk = {\n",
    "    \"vlanIdRange\": \"1-5,7,100-109,200\",\n",
    "    \"purpose\": \"General\",\n",
    "    \"namePrefix\": \"Roundtable-Ethernet\",\n",
    "    \"smartLink\": False,\n",
    "    \"privateNetwork\": False,\n",
    "    \"bandwidth\": {\n",
    "        \"maximumBandwidth\": 10000,\n",
    "        \"typicalBandwidth\": 2000\n",
    "    }\n",
    "}\n",
    "\n",
    "\n",
    "ethernet_nets_bulk = oneview_client.ethernet_networks.create_bulk(options_bulk)\n",
    "for net in ethernet_nets_bulk:\n",
    "  print(\"   '{name}' \".format(**net))   #at uri: '{uri}'\n",
    "\n"
   ]
  },
  {
   "cell_type": "markdown",
   "metadata": {},
   "source": [
    "### delete bulk network\n",
    "as it´s not needed for the demo"
   ]
  },
  {
   "cell_type": "code",
   "execution_count": 47,
   "metadata": {},
   "outputs": [
    {
     "ename": "HPOneViewException",
     "evalue": "('Invalid network ID: 8fe05311-7b6d-4cfb-b69c-36903772dec5', {'errorCode': 'CRM_NETWORK_ID_INVALID', 'message': 'Invalid network ID: 8fe05311-7b6d-4cfb-b69c-36903772dec5', 'details': '', 'recommendedActions': [''], 'errorSource': 'ethernet-networks', 'nestedErrors': [], 'data': {}})",
     "output_type": "error",
     "traceback": [
      "\u001b[1;31m---------------------------------------------------------------------------\u001b[0m",
      "\u001b[1;31mHPOneViewException\u001b[0m                        Traceback (most recent call last)",
      "\u001b[1;32m<ipython-input-47-e1052cd25ef1>\u001b[0m in \u001b[0;36m<module>\u001b[1;34m()\u001b[0m\n\u001b[0;32m      1\u001b[0m \u001b[1;32mfor\u001b[0m \u001b[0mnet\u001b[0m \u001b[1;32min\u001b[0m \u001b[0methernet_nets_bulk\u001b[0m\u001b[1;33m:\u001b[0m\u001b[1;33m\u001b[0m\u001b[0m\n\u001b[1;32m----> 2\u001b[1;33m     \u001b[0moneview_client\u001b[0m\u001b[1;33m.\u001b[0m\u001b[0methernet_networks\u001b[0m\u001b[1;33m.\u001b[0m\u001b[0mdelete\u001b[0m\u001b[1;33m(\u001b[0m\u001b[0mnet\u001b[0m\u001b[1;33m)\u001b[0m\u001b[1;33m\u001b[0m\u001b[0m\n\u001b[0m",
      "\u001b[1;32m~\\AppData\\Local\\Continuum\\anaconda2\\envs\\roundtable\\lib\\site-packages\\hpOneView\\resources\\networking\\ethernet_networks.py\u001b[0m in \u001b[0;36mdelete\u001b[1;34m(self, resource, force, timeout)\u001b[0m\n\u001b[0;32m    103\u001b[0m \u001b[1;33m\u001b[0m\u001b[0m\n\u001b[0;32m    104\u001b[0m         \"\"\"\n\u001b[1;32m--> 105\u001b[1;33m         \u001b[1;32mreturn\u001b[0m \u001b[0mself\u001b[0m\u001b[1;33m.\u001b[0m\u001b[0m_client\u001b[0m\u001b[1;33m.\u001b[0m\u001b[0mdelete\u001b[0m\u001b[1;33m(\u001b[0m\u001b[0mresource\u001b[0m\u001b[1;33m,\u001b[0m \u001b[0mforce\u001b[0m\u001b[1;33m=\u001b[0m\u001b[0mforce\u001b[0m\u001b[1;33m,\u001b[0m \u001b[0mtimeout\u001b[0m\u001b[1;33m=\u001b[0m\u001b[0mtimeout\u001b[0m\u001b[1;33m)\u001b[0m\u001b[1;33m\u001b[0m\u001b[0m\n\u001b[0m\u001b[0;32m    106\u001b[0m \u001b[1;33m\u001b[0m\u001b[0m\n\u001b[0;32m    107\u001b[0m     \u001b[1;32mdef\u001b[0m \u001b[0mget\u001b[0m\u001b[1;33m(\u001b[0m\u001b[0mself\u001b[0m\u001b[1;33m,\u001b[0m \u001b[0mid_or_uri\u001b[0m\u001b[1;33m)\u001b[0m\u001b[1;33m:\u001b[0m\u001b[1;33m\u001b[0m\u001b[0m\n",
      "\u001b[1;32m~\\AppData\\Local\\Continuum\\anaconda2\\envs\\roundtable\\lib\\site-packages\\hpOneView\\resources\\resource.py\u001b[0m in \u001b[0;36mdelete\u001b[1;34m(self, resource, force, timeout, custom_headers)\u001b[0m\n\u001b[0;32m    265\u001b[0m                      (self._uri, str(resource)))\n\u001b[0;32m    266\u001b[0m \u001b[1;33m\u001b[0m\u001b[0m\n\u001b[1;32m--> 267\u001b[1;33m         \u001b[0mtask\u001b[0m\u001b[1;33m,\u001b[0m \u001b[0mbody\u001b[0m \u001b[1;33m=\u001b[0m \u001b[0mself\u001b[0m\u001b[1;33m.\u001b[0m\u001b[0m_connection\u001b[0m\u001b[1;33m.\u001b[0m\u001b[0mdelete\u001b[0m\u001b[1;33m(\u001b[0m\u001b[0muri\u001b[0m\u001b[1;33m,\u001b[0m \u001b[0mcustom_headers\u001b[0m\u001b[1;33m=\u001b[0m\u001b[0mcustom_headers\u001b[0m\u001b[1;33m)\u001b[0m\u001b[1;33m\u001b[0m\u001b[0m\n\u001b[0m\u001b[0;32m    268\u001b[0m \u001b[1;33m\u001b[0m\u001b[0m\n\u001b[0;32m    269\u001b[0m         \u001b[1;32mif\u001b[0m \u001b[1;32mnot\u001b[0m \u001b[0mtask\u001b[0m\u001b[1;33m:\u001b[0m\u001b[1;33m\u001b[0m\u001b[0m\n",
      "\u001b[1;32m~\\AppData\\Local\\Continuum\\anaconda2\\envs\\roundtable\\lib\\site-packages\\hpOneView\\connection.py\u001b[0m in \u001b[0;36mdelete\u001b[1;34m(self, uri, custom_headers)\u001b[0m\n\u001b[0;32m    369\u001b[0m \u001b[1;33m\u001b[0m\u001b[0m\n\u001b[0;32m    370\u001b[0m     \u001b[1;32mdef\u001b[0m \u001b[0mdelete\u001b[0m\u001b[1;33m(\u001b[0m\u001b[0mself\u001b[0m\u001b[1;33m,\u001b[0m \u001b[0muri\u001b[0m\u001b[1;33m,\u001b[0m \u001b[0mcustom_headers\u001b[0m\u001b[1;33m=\u001b[0m\u001b[1;32mNone\u001b[0m\u001b[1;33m)\u001b[0m\u001b[1;33m:\u001b[0m\u001b[1;33m\u001b[0m\u001b[0m\n\u001b[1;32m--> 371\u001b[1;33m         \u001b[1;32mreturn\u001b[0m \u001b[0mself\u001b[0m\u001b[1;33m.\u001b[0m\u001b[0m__do_rest_call\u001b[0m\u001b[1;33m(\u001b[0m\u001b[1;34m'DELETE'\u001b[0m\u001b[1;33m,\u001b[0m \u001b[0muri\u001b[0m\u001b[1;33m,\u001b[0m \u001b[1;33m{\u001b[0m\u001b[1;33m}\u001b[0m\u001b[1;33m,\u001b[0m \u001b[0mcustom_headers\u001b[0m\u001b[1;33m=\u001b[0m\u001b[0mcustom_headers\u001b[0m\u001b[1;33m)\u001b[0m\u001b[1;33m\u001b[0m\u001b[0m\n\u001b[0m\u001b[0;32m    372\u001b[0m \u001b[1;33m\u001b[0m\u001b[0m\n\u001b[0;32m    373\u001b[0m     \u001b[1;32mdef\u001b[0m \u001b[0mput\u001b[0m\u001b[1;33m(\u001b[0m\u001b[0mself\u001b[0m\u001b[1;33m,\u001b[0m \u001b[0muri\u001b[0m\u001b[1;33m,\u001b[0m \u001b[0mbody\u001b[0m\u001b[1;33m,\u001b[0m \u001b[0mcustom_headers\u001b[0m\u001b[1;33m=\u001b[0m\u001b[1;32mNone\u001b[0m\u001b[1;33m)\u001b[0m\u001b[1;33m:\u001b[0m\u001b[1;33m\u001b[0m\u001b[0m\n",
      "\u001b[1;32m~\\AppData\\Local\\Continuum\\anaconda2\\envs\\roundtable\\lib\\site-packages\\hpOneView\\connection.py\u001b[0m in \u001b[0;36m__do_rest_call\u001b[1;34m(self, http_method, uri, body, custom_headers)\u001b[0m\n\u001b[0;32m    402\u001b[0m                                   custom_headers=custom_headers)\n\u001b[0;32m    403\u001b[0m         \u001b[1;32mif\u001b[0m \u001b[0mresp\u001b[0m\u001b[1;33m.\u001b[0m\u001b[0mstatus\u001b[0m \u001b[1;33m>=\u001b[0m \u001b[1;36m400\u001b[0m\u001b[1;33m:\u001b[0m\u001b[1;33m\u001b[0m\u001b[0m\n\u001b[1;32m--> 404\u001b[1;33m             \u001b[1;32mraise\u001b[0m \u001b[0mHPOneViewException\u001b[0m\u001b[1;33m(\u001b[0m\u001b[0mbody\u001b[0m\u001b[1;33m)\u001b[0m\u001b[1;33m\u001b[0m\u001b[0m\n\u001b[0m\u001b[0;32m    405\u001b[0m \u001b[1;33m\u001b[0m\u001b[0m\n\u001b[0;32m    406\u001b[0m         \u001b[1;32mif\u001b[0m \u001b[0mresp\u001b[0m\u001b[1;33m.\u001b[0m\u001b[0mstatus\u001b[0m \u001b[1;33m==\u001b[0m \u001b[1;36m304\u001b[0m\u001b[1;33m:\u001b[0m\u001b[1;33m\u001b[0m\u001b[0m\n",
      "\u001b[1;31mHPOneViewException\u001b[0m: ('Invalid network ID: 8fe05311-7b6d-4cfb-b69c-36903772dec5', {'errorCode': 'CRM_NETWORK_ID_INVALID', 'message': 'Invalid network ID: 8fe05311-7b6d-4cfb-b69c-36903772dec5', 'details': '', 'recommendedActions': [''], 'errorSource': 'ethernet-networks', 'nestedErrors': [], 'data': {}})"
     ]
    }
   ],
   "source": [
    "for net in ethernet_nets_bulk:\n",
    "    oneview_client.ethernet_networks.delete(net)"
   ]
  },
  {
   "cell_type": "markdown",
   "metadata": {},
   "source": [
    "### show configured/existing storage (systems and pools)"
   ]
  },
  {
   "cell_type": "code",
   "execution_count": 18,
   "metadata": {},
   "outputs": [
    {
     "name": "stdout",
     "output_type": "stream",
     "text": [
      "Storage System:\n",
      "[]\n",
      "Storage Pools:\n",
      "[]\n"
     ]
    }
   ],
   "source": [
    "storage_system = oneview_client.storage_systems.get_all()\n",
    "storage_pools = oneview_client.storage_pools.get_all()\n",
    "print(\"Storage System:\")\n",
    "print (storage_system)\n",
    "print(\"Storage Pools:\")\n",
    "print(storage_pools)"
   ]
  },
  {
   "cell_type": "markdown",
   "metadata": {},
   "source": [
    "### create storage"
   ]
  },
  {
   "cell_type": "code",
   "execution_count": null,
   "metadata": {},
   "outputs": [],
   "source": []
  },
  {
   "cell_type": "markdown",
   "metadata": {},
   "source": [
    "### create Serverprofile\n"
   ]
  },
  {
   "cell_type": "code",
   "execution_count": null,
   "metadata": {},
   "outputs": [],
   "source": []
  },
  {
   "cell_type": "markdown",
   "metadata": {},
   "source": [
    "### ImageStreamer"
   ]
  },
  {
   "cell_type": "code",
   "execution_count": null,
   "metadata": {},
   "outputs": [],
   "source": []
  },
  {
   "cell_type": "markdown",
   "metadata": {},
   "source": [
    "### Excel Export:\n",
    "\n",
    "\n",
    "Alle Serverprofile exportieren...\n",
    "\n",
    "MAC Adresse \n",
    "\n",
    "Servername / Seriennummer / MAC Address "
   ]
  },
  {
   "cell_type": "code",
   "execution_count": null,
   "metadata": {},
   "outputs": [],
   "source": []
  },
  {
   "cell_type": "markdown",
   "metadata": {},
   "source": [
    "### 2 Tier application\n",
    "\n",
    "\n",
    "create network\n",
    "create storage\n",
    "create serverprofile (cpu/bios settings)\n",
    "\n",
    "as we have limited time, we are starting them as container!\n",
    "\n",
    "1-Tier - Deploy Webserver\n",
    "2-Tier - Database\n"
   ]
  },
  {
   "cell_type": "code",
   "execution_count": null,
   "metadata": {},
   "outputs": [],
   "source": []
  }
 ],
 "metadata": {
  "kernelspec": {
   "display_name": "Python 3",
   "language": "python",
   "name": "python3"
  },
  "language_info": {
   "codemirror_mode": {
    "name": "ipython",
    "version": 3
   },
   "file_extension": ".py",
   "mimetype": "text/x-python",
   "name": "python",
   "nbconvert_exporter": "python",
   "pygments_lexer": "ipython3",
   "version": "3.7.0"
  }
 },
 "nbformat": 4,
 "nbformat_minor": 2
}
