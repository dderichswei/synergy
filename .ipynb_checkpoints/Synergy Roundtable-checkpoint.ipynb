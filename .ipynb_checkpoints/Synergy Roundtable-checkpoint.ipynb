{
 "cells": [
  {
   "cell_type": "markdown",
   "metadata": {},
   "source": [
    "# Welcome to the Synergy Roundtable\n",
    "created by Dirk Derichsweiler<br>\n",
    "do not hesitate to contact me: derdirk@hpe.com\n",
    "\n",
    "jupyter Notebook can be found: https://github.com/dderichswei/synergy/blob/master/Synergy%20Roundtable.ipynb\n",
    "\n",
    "\n",
    "#### requirements\n",
    "Python + hpOneView Python Library (see: https://github.com/HewlettPackard/python-hpOneView/wiki/HPE-OneView-Python-Windows-Setup-Guide)\n",
    "\n",
    "\n",
    "#### additional information\n",
    "\n",
    "On your HPE OneView appliance, or online<br>\n",
    "https://10.0.20.50/api-docs/current/ <br>\n",
    "http://www.hpe.com/info/oneview/docs <br>\n",
    "https://developer.hpe.com/\n",
    "\n",
    "#### python specific\n",
    "https://hewlettpackard.github.io/python-hpOneView/index.html<br>\n",
    "https://github.com/HewlettPackard/python-hpOneView<br>\n",
    "\n",
    "\n",
    "#### quick installation\n",
    "- install docker:\n",
    "```curl https://get.docker.com | bash ```\n",
    "\n",
    "- start jupyter, within a container: ```ddcreate.sh```\n",
    "\n",
    "\n",
    "\n",
    "### Login\n",
    "\n",
    "<img src=\"Pictures/Login.gif\" height=\"500\" width=\"500\" align=\"left\">"
   ]
  },
  {
   "cell_type": "markdown",
   "metadata": {},
   "source": [
    "##### import the python OneView library"
   ]
  },
  {
   "cell_type": "code",
   "execution_count": 38,
   "metadata": {},
   "outputs": [],
   "source": [
    "from hpOneView.oneview_client import OneViewClient"
   ]
  },
  {
   "cell_type": "markdown",
   "metadata": {},
   "source": [
    "##### configure your environment:"
   ]
  },
  {
   "cell_type": "code",
   "execution_count": 39,
   "metadata": {},
   "outputs": [],
   "source": [
    "config = {\n",
    "    \"api_version\": \"500\",\n",
    "    \"ip\": \"10.0.20.50\",\n",
    "    \"credentials\": {\n",
    "        \"userName\": \"python\",\n",
    "        \"authLoginDomain\": \"local\",\n",
    "        \"password\": \"python123!\"\n",
    "    }\n",
    "}"
   ]
  },
  {
   "cell_type": "markdown",
   "metadata": {},
   "source": [
    "##### login:\n",
    "create new object oneview_client with the config (see above)"
   ]
  },
  {
   "cell_type": "code",
   "execution_count": 40,
   "metadata": {
    "scrolled": true
   },
   "outputs": [],
   "source": [
    "oneview_client = OneViewClient(config)"
   ]
  },
  {
   "cell_type": "markdown",
   "metadata": {},
   "source": [
    "\n",
    "#### ADVANCED: which functions are available?"
   ]
  },
  {
   "cell_type": "code",
   "execution_count": 41,
   "metadata": {
    "scrolled": false
   },
   "outputs": [
    {
     "data": {
      "text/plain": [
       "['__class__',\n",
       " '__delattr__',\n",
       " '__dict__',\n",
       " '__dir__',\n",
       " '__doc__',\n",
       " '__eq__',\n",
       " '__format__',\n",
       " '__ge__',\n",
       " '__getattribute__',\n",
       " '__gt__',\n",
       " '__hash__',\n",
       " '__init__',\n",
       " '__init_subclass__',\n",
       " '__le__',\n",
       " '__lt__',\n",
       " '__module__',\n",
       " '__ne__',\n",
       " '__new__',\n",
       " '__reduce__',\n",
       " '__reduce_ex__',\n",
       " '__repr__',\n",
       " '__setattr__',\n",
       " '__sizeof__',\n",
       " '__str__',\n",
       " '__subclasshook__',\n",
       " '__weakref__',\n",
       " '_apiVersion',\n",
       " '_connection__body_content_is_task',\n",
       " '_connection__do_rest_call',\n",
       " '_connection__get_task_from_response',\n",
       " '_connection__handle_download_error',\n",
       " '_cred',\n",
       " '_doProxy',\n",
       " '_headers',\n",
       " '_host',\n",
       " '_nextPage',\n",
       " '_numDisplayedRecords',\n",
       " '_numTotalRecords',\n",
       " '_open',\n",
       " '_prevPage',\n",
       " '_proxyHost',\n",
       " '_proxyPort',\n",
       " '_session',\n",
       " '_sslBundle',\n",
       " '_sslTrustAll',\n",
       " '_sslTrustedBundle',\n",
       " '_timeout',\n",
       " '_validateVersion',\n",
       " 'change_initial_password',\n",
       " 'delete',\n",
       " 'disable_etag_validation',\n",
       " 'do_http',\n",
       " 'download_to_stream',\n",
       " 'enable_etag_validation',\n",
       " 'encode_multipart_formdata',\n",
       " 'get',\n",
       " 'getFirstPage',\n",
       " 'getLastPage',\n",
       " 'getNextPage',\n",
       " 'getPrevPage',\n",
       " 'get_by_uri',\n",
       " 'get_connection',\n",
       " 'get_eula_status',\n",
       " 'get_host',\n",
       " 'get_session',\n",
       " 'get_session_id',\n",
       " 'login',\n",
       " 'logout',\n",
       " 'make_url',\n",
       " 'patch',\n",
       " 'post',\n",
       " 'post_multipart',\n",
       " 'post_multipart_with_response_handling',\n",
       " 'put',\n",
       " 'set_eula',\n",
       " 'set_proxy',\n",
       " 'set_session_id',\n",
       " 'set_trusted_ssl_bundle',\n",
       " 'validateVersion']"
      ]
     },
     "execution_count": 41,
     "metadata": {},
     "output_type": "execute_result"
    }
   ],
   "source": [
    "dir(oneview_client)\n",
    "#dir(oneview_client.storage_volume_templates) # drill down \n",
    "dir(oneview_client.connection)"
   ]
  },
  {
   "cell_type": "markdown",
   "metadata": {},
   "source": [
    "### show existing networks\n",
    "\n",
    "<img src=\"Pictures/show_network.gif\" height=\"500\" width=\"500\" align=\"left\">\n",
    "<br>"
   ]
  },
  {
   "cell_type": "code",
   "execution_count": 42,
   "metadata": {},
   "outputs": [
    {
     "name": "stdout",
     "output_type": "stream",
     "text": [
      "The following networks exists:\n",
      "Production 0102    URI: /rest/ethernet-networks/03b833da-2712-4980-b523-37d9959d3d7d\n",
      "CTC VCF 0066    URI: /rest/ethernet-networks/06bb43d2-5371-44bb-9c34-a507ea1c943c\n",
      "CTC VCF 0062    URI: /rest/ethernet-networks/07f0fb0d-a4fb-4407-a110-e53658ccee1f\n",
      "CTC-Demo 030    URI: /rest/ethernet-networks/1b490756-d937-4d59-ae0d-c8451a53df4c\n",
      "Management 0020    URI: /rest/ethernet-networks/1e3ccaf4-7b9b-403f-90f0-62d91d9ead32\n",
      "SDS    URI: /rest/ethernet-networks/28303594-297a-442e-8c97-12bba8cc8305\n",
      "Storage Replication 0041    URI: /rest/ethernet-networks/28a345da-f64f-4c4b-b3b0-a0f053bbdd0b\n",
      "Storage Management 0040    URI: /rest/ethernet-networks/2d5c0ae8-9a8b-4ba3-9589-95aaf754a5b7\n",
      "Production 0100    URI: /rest/ethernet-networks/2f58f85f-951b-4f04-8292-a1fdabc82d59\n",
      "Production 0103    URI: /rest/ethernet-networks/348cd70b-3650-46d6-8be1-5f2484d47075\n",
      "Stratoscal Control 0053    URI: /rest/ethernet-networks/4934af2e-5735-4afa-a4f1-7bea9f7fdf99\n",
      "DevOps FrontEnd 0047    URI: /rest/ethernet-networks/4c8cb99b-7327-4ff4-ad5e-401b2c90418d\n",
      "Production 0107    URI: /rest/ethernet-networks/4f0882a5-d336-4631-8836-ace36de50bbb\n",
      "Production 0108    URI: /rest/ethernet-networks/526b7796-0348-409b-b5af-90fa1dc08daf\n",
      "vMotion 0800    URI: /rest/ethernet-networks/5966c3de-1079-489e-878f-a24f5ca88b11\n",
      "Stratoscale Guest 0054    URI: /rest/ethernet-networks/61f9e51d-cbf1-4ed8-9b91-6104077c3f5b\n",
      "Stratoscale_4 0059    URI: /rest/ethernet-networks/68c0acf4-5f7d-46e5-9e9f-0c898002cba2\n",
      "CTC NSX 03 0804    URI: /rest/ethernet-networks/735015f3-296c-4971-bdd1-974de2696cdf\n",
      "Production 0104    URI: /rest/ethernet-networks/77862683-ca18-47cc-ae68-12133cb8b0b3\n",
      "CTC VCF vSAN 0801    URI: /rest/ethernet-networks/7a83a3ca-68c7-45bc-95ea-7995896e31de\n",
      "Stratoscale Data 0052    URI: /rest/ethernet-networks/7be683d0-50a9-44a1-aca4-0b412d45bfd3\n",
      "Production 0105    URI: /rest/ethernet-networks/82975161-7dfb-4009-9bbb-9cbaa8194cc8\n",
      "Stratoscale_1 0056    URI: /rest/ethernet-networks/849177b0-1125-4ad6-97b6-4d8d506b5bf7\n",
      "CTC VCF 0063    URI: /rest/ethernet-networks/85ff3ab7-0ced-48a6-a506-b02fba595eac\n",
      "CTC VCF 0067    URI: /rest/ethernet-networks/88cbd5ec-04a0-423c-b8d0-3389b6e99496\n",
      "Stratoscale_2 0057    URI: /rest/ethernet-networks/8981f34b-3e9e-4554-8b1b-ecf828067047\n",
      "Stratoscale_3 0058    URI: /rest/ethernet-networks/9a8de19e-9b7c-428b-b615-129882f89a72\n",
      "CTC VCF 0065    URI: /rest/ethernet-networks/a3989ebb-84cd-4d48-98ab-ca80c5775ca7\n",
      "CTC VCF 0064    URI: /rest/ethernet-networks/a50ba5da-d95e-4b57-b8ac-99a61797d0a1\n",
      "Hypervisor Tunnel    URI: /rest/ethernet-networks/b2f0c3b1-d54a-4f19-b470-1073887cb962\n",
      "Image Streamer 0019    URI: /rest/ethernet-networks/bbdd8f3d-3a04-4ca6-8d21-9b66a37759d6\n",
      "Production 0101    URI: /rest/ethernet-networks/bdc5555e-886f-41d6-9ee9-7147c9effc99\n",
      "CTC NSX 01 0802    URI: /rest/ethernet-networks/c8174a14-719c-4d06-87ce-7ada31c15b2d\n",
      "Stratoscale Edge 0055    URI: /rest/ethernet-networks/c9de395b-56bf-408c-a818-0c3221442d97\n",
      "Production 0109    URI: /rest/ethernet-networks/cf4031f3-ca1f-4167-b1d9-8e88f307aa81\n",
      "Storage iSCSI 0042    URI: /rest/ethernet-networks/d40ccf5a-17df-4764-91b1-0389a313b819\n",
      "CTC VCF 0061    URI: /rest/ethernet-networks/d7ad1e54-f882-499a-b6f9-b8faee70ec52\n",
      "CTC VCF Management 0070    URI: /rest/ethernet-networks/dbc07feb-b002-4a32-8876-f15d1e599a19\n",
      "Production 0106    URI: /rest/ethernet-networks/e3c99c0f-f65b-4197-9a2c-de8af134ea0e\n",
      "CTC VCF 0069    URI: /rest/ethernet-networks/e731983f-8b2e-4ca7-9651-0aa0d17e0f8c\n",
      "Stratoscale Access 0051    URI: /rest/ethernet-networks/eb16198a-e4f1-4080-a3c5-d13a86b19bad\n",
      "CTC NSX 04 0805    URI: /rest/ethernet-networks/ed88d8b9-6024-4847-8ca0-9c2517c08747\n",
      "DevOps BackEnd 0048    URI: /rest/ethernet-networks/edefa293-b402-4038-b722-d75d0c3861f6\n",
      "CTC NSX 02 0803    URI: /rest/ethernet-networks/f932d4e0-5820-4932-8a25-7fbe972c45b2\n",
      "CTC VCF 0068    URI: /rest/ethernet-networks/f9ce2b14-bdcd-4399-a6b7-490ca2b3fc81\n"
     ]
    }
   ],
   "source": [
    "roundtable_networks=oneview_client.ethernet_networks.get_all()\n",
    "# print(roundtable_networks)\n",
    "\n",
    "print(\"The following networks exists:\")\n",
    "for net in roundtable_networks:\n",
    "    # print(net['name'] + \" VLAN ID:\" + str(net['vlanId']))\n",
    "    print(net['name'] + \"    URI: \"  + net['uri'] )\n"
   ]
  },
  {
   "cell_type": "code",
   "execution_count": null,
   "metadata": {},
   "outputs": [],
   "source": []
  },
  {
   "cell_type": "markdown",
   "metadata": {},
   "source": [
    "### create network\n",
    "\n",
    "<img src=\"Pictures/create_network.gif\" height=\"500\" width=\"500\" align=\"left\">"
   ]
  },
  {
   "cell_type": "code",
   "execution_count": 19,
   "metadata": {
    "scrolled": true
   },
   "outputs": [
    {
     "name": "stdout",
     "output_type": "stream",
     "text": [
      "Created ethernet-network Roundtable - Test Ethernet Network   URI: /rest/ethernet-networks/7891fcb7-64a9-4f3c-aa76-950b06460327 successfully.\n"
     ]
    }
   ],
   "source": [
    "options = {\n",
    "    \"name\": \"Roundtable - Test Ethernet Network\",\n",
    "    \"vlanId\": 200,\n",
    "    \"ethernetNetworkType\": \"Tagged\",\n",
    "    \"purpose\": \"General\",\n",
    "    \"smartLink\": False,\n",
    "    \"privateNetwork\": False,\n",
    "    \"connectionTemplateUri\": None\n",
    "}\n",
    "\n",
    "ethernet_network = oneview_client.ethernet_networks.create(options)\n",
    "print(\"Created ethernet-network \" + ethernet_network['name'] + \"   URI: \" + ethernet_network['uri'] + \" successfully.\")\n"
   ]
  },
  {
   "cell_type": "markdown",
   "metadata": {},
   "source": [
    "## delete network"
   ]
  },
  {
   "cell_type": "code",
   "execution_count": 20,
   "metadata": {},
   "outputs": [
    {
     "data": {
      "text/plain": [
       "True"
      ]
     },
     "execution_count": 20,
     "metadata": {},
     "output_type": "execute_result"
    }
   ],
   "source": [
    "oneview_client.ethernet_networks.delete(ethernet_network)"
   ]
  },
  {
   "cell_type": "markdown",
   "metadata": {},
   "source": [
    "### create bulk network\n",
    "How to set up multiple networks at once."
   ]
  },
  {
   "cell_type": "code",
   "execution_count": 21,
   "metadata": {
    "scrolled": false
   },
   "outputs": [
    {
     "name": "stdout",
     "output_type": "stream",
     "text": [
      "created network: Roundtable-Ethernet_1 URI: /rest/ethernet-networks/d6d48727-1a5b-4d43-aab9-dcda0580b863\n",
      "created network: Roundtable-Ethernet_2 URI: /rest/ethernet-networks/151a5673-fba5-4a84-ab4b-93c1e4411e41\n",
      "created network: Roundtable-Ethernet_3 URI: /rest/ethernet-networks/07b94698-bd65-444e-9709-23e865a89d4c\n",
      "created network: Roundtable-Ethernet_4 URI: /rest/ethernet-networks/c88c269a-2a24-4438-a15c-bf8879b65ea0\n",
      "created network: Roundtable-Ethernet_5 URI: /rest/ethernet-networks/4d3c17d1-c411-4463-85a5-3a54e706f5e4\n",
      "created network: Roundtable-Ethernet_7 URI: /rest/ethernet-networks/d41edfce-4166-49bd-aaf1-5f3811716ac5\n",
      "created network: Roundtable-Ethernet_100 URI: /rest/ethernet-networks/e217472e-a3c2-4714-ade2-9f260538e95c\n",
      "created network: Roundtable-Ethernet_101 URI: /rest/ethernet-networks/55a65c22-ca69-46d5-afd6-29525ab80f29\n",
      "created network: Roundtable-Ethernet_102 URI: /rest/ethernet-networks/5069abe8-ab79-4c7a-a812-a6afeecc2c69\n",
      "created network: Roundtable-Ethernet_103 URI: /rest/ethernet-networks/6748d019-6eab-4c5e-97da-17ba6d44e1d0\n",
      "created network: Roundtable-Ethernet_104 URI: /rest/ethernet-networks/fc64da9b-8ee2-4103-87cd-ffa72f9d7ea3\n",
      "created network: Roundtable-Ethernet_105 URI: /rest/ethernet-networks/a39bd3af-6005-4424-adde-59797ee9d5a8\n",
      "created network: Roundtable-Ethernet_106 URI: /rest/ethernet-networks/99cc96e4-8d23-4e08-af00-b979baa236d9\n",
      "created network: Roundtable-Ethernet_107 URI: /rest/ethernet-networks/130a3929-f0cd-4461-bb30-1bf3c72f912e\n",
      "created network: Roundtable-Ethernet_108 URI: /rest/ethernet-networks/5eba14a0-f784-4796-96bc-c1e7a38f9258\n",
      "created network: Roundtable-Ethernet_109 URI: /rest/ethernet-networks/9cdbb713-f53d-4fa8-8acc-5bb5d14b538a\n",
      "created network: Roundtable-Ethernet_200 URI: /rest/ethernet-networks/13299aa5-1425-4e91-a96c-46f7e1b6c3fc\n"
     ]
    }
   ],
   "source": [
    "options_bulk = {\n",
    "    \"vlanIdRange\": \"1-5,7,100-109,200\",\n",
    "    \"purpose\": \"General\",\n",
    "    \"namePrefix\": \"Roundtable-Ethernet\",\n",
    "    \"smartLink\": False,\n",
    "    \"privateNetwork\": False,\n",
    "    \"bandwidth\": {\n",
    "        \"maximumBandwidth\": 10000,\n",
    "        \"typicalBandwidth\": 2000\n",
    "    }\n",
    "}\n",
    "\n",
    "\n",
    "ethernet_nets_bulk = oneview_client.ethernet_networks.create_bulk(options_bulk)\n",
    "for net in ethernet_nets_bulk: \n",
    "  print(\"created network: \" + net['name'] + \" URI: \" + net['uri'])"
   ]
  },
  {
   "cell_type": "markdown",
   "metadata": {},
   "source": [
    "### delete bulk network\n",
    "as it´s not needed for the demo"
   ]
  },
  {
   "cell_type": "code",
   "execution_count": 22,
   "metadata": {},
   "outputs": [
    {
     "name": "stdout",
     "output_type": "stream",
     "text": [
      "delete network: Roundtable-Ethernet_1\n",
      "delete network: Roundtable-Ethernet_2\n",
      "delete network: Roundtable-Ethernet_3\n",
      "delete network: Roundtable-Ethernet_4\n",
      "delete network: Roundtable-Ethernet_5\n",
      "delete network: Roundtable-Ethernet_7\n",
      "delete network: Roundtable-Ethernet_100\n",
      "delete network: Roundtable-Ethernet_101\n",
      "delete network: Roundtable-Ethernet_102\n",
      "delete network: Roundtable-Ethernet_103\n",
      "delete network: Roundtable-Ethernet_104\n",
      "delete network: Roundtable-Ethernet_105\n",
      "delete network: Roundtable-Ethernet_106\n",
      "delete network: Roundtable-Ethernet_107\n",
      "delete network: Roundtable-Ethernet_108\n",
      "delete network: Roundtable-Ethernet_109\n",
      "delete network: Roundtable-Ethernet_200\n"
     ]
    }
   ],
   "source": [
    "for net in ethernet_nets_bulk:\n",
    "    oneview_client.ethernet_networks.delete(net)\n",
    "    print(\"delete network: \" + net['name'])"
   ]
  },
  {
   "cell_type": "markdown",
   "metadata": {},
   "source": [
    "### show configured/existing storage (systems and pools)\n",
    "\n",
    "<img src=\"Pictures/show_storage.gif\" height=\"500\" width=\"500\" align=\"left\">"
   ]
  },
  {
   "cell_type": "code",
   "execution_count": 23,
   "metadata": {
    "scrolled": true
   },
   "outputs": [
    {
     "name": "stdout",
     "output_type": "stream",
     "text": [
      "Storage Systems:\n",
      "3PAR8200    URI: /rest/storage-systems/CZ38277F39\n",
      "3par20k    URI: /rest/storage-systems/CZ3706DWBB\n",
      "CTC-nimble    URI: /rest/storage-systems/891c532c-f43a-4d9c-9836-aa9300ff7afc\n",
      "\n",
      "Storage Pools:\n",
      "FC_r1    URI: /rest/storage-systems/891c532c-f43a-4d9c-9836-aa9300ff7afc\n",
      "FC_r5    URI: /rest/storage-systems/891c532c-f43a-4d9c-9836-aa9300ff7afc\n",
      "FC_r6    URI: /rest/storage-systems/891c532c-f43a-4d9c-9836-aa9300ff7afc\n",
      "fs_cpg    URI: /rest/storage-systems/891c532c-f43a-4d9c-9836-aa9300ff7afc\n",
      "FC_r1    URI: /rest/storage-systems/891c532c-f43a-4d9c-9836-aa9300ff7afc\n",
      "FC_r5    URI: /rest/storage-systems/891c532c-f43a-4d9c-9836-aa9300ff7afc\n",
      "FC_r6    URI: /rest/storage-systems/891c532c-f43a-4d9c-9836-aa9300ff7afc\n",
      "SSD_r1    URI: /rest/storage-systems/891c532c-f43a-4d9c-9836-aa9300ff7afc\n",
      "SSD_r5    URI: /rest/storage-systems/891c532c-f43a-4d9c-9836-aa9300ff7afc\n",
      "SSD_r6    URI: /rest/storage-systems/891c532c-f43a-4d9c-9836-aa9300ff7afc\n",
      "SSD_r66_2    URI: /rest/storage-systems/891c532c-f43a-4d9c-9836-aa9300ff7afc\n",
      "nimble1-pool    URI: /rest/storage-systems/891c532c-f43a-4d9c-9836-aa9300ff7afc\n",
      "nimble2-pool    URI: /rest/storage-systems/891c532c-f43a-4d9c-9836-aa9300ff7afc\n"
     ]
    }
   ],
   "source": [
    "storage_system = oneview_client.storage_systems.get_all()\n",
    "storage_pools = oneview_client.storage_pools.get_all()\n",
    "\n",
    "# storage_pool_name = 'FC_r1'\n",
    "# storage_pools = oneview_client.storage_pools.get_by('name', storage_pool_name)[0]\n",
    "\n",
    "print(\"Storage Systems:\")\n",
    "for stor in storage_system: \n",
    "  print(stor['displayName'] + \"    URI: \" + stor['uri'])\n",
    "\n",
    "print(\"\\nStorage Pools:\")\n",
    "for storpool in storage_pools:\n",
    "  print(storpool['name'] + \"    URI: \" + stor['uri'])"
   ]
  },
  {
   "cell_type": "code",
   "execution_count": 24,
   "metadata": {},
   "outputs": [
    {
     "name": "stdout",
     "output_type": "stream",
     "text": [
      "{'storageSystemUri': '/rest/storage-systems/891c532c-f43a-4d9c-9836-aa9300ff7afc', 'totalCapacity': '16308612218880', 'freeCapacity': '16297612381049', 'requestingRefresh': None, 'allocatedCapacity': '10999837831', 'deviceSpecificAttributes': {'folders': [], 'deviceId': '0a34bbf2d3796aeb82000000000000000000000001', 'isDeduplicationCapable': False, 'freePinnableCacheCapacity': 1470636017123}, 'isManaged': True, 'name': 'nimble2-pool', 'description': '', 'category': 'storage-pools', 'status': 'OK', 'state': 'Managed', 'type': 'StoragePoolV3', 'uri': '/rest/storage-pools/49AD1A4E-4638-4590-ADEB-AA9300FF7B05', 'eTag': '2/2140', 'created': '2019-07-23T15:30:10.000Z', 'modified': '2019-08-22T07:31:45.000Z', 'lastRefreshTime': '2019-08-22T07:31:45.000Z'}\n"
     ]
    }
   ],
   "source": [
    "print (storpool)"
   ]
  },
  {
   "cell_type": "markdown",
   "metadata": {},
   "source": [
    "### show volume templates"
   ]
  },
  {
   "cell_type": "code",
   "execution_count": 25,
   "metadata": {},
   "outputs": [
    {
     "name": "stdout",
     "output_type": "stream",
     "text": [
      "Cluster Storage Template 500GB\n"
     ]
    }
   ],
   "source": [
    "storage_volume = oneview_client.storage_volume_templates.get_all(filter=\"\\\"isRoot='False'\\\"\")\n",
    "for storvol in storage_volume:\n",
    "    print(storvol['name'])\n"
   ]
  },
  {
   "cell_type": "markdown",
   "metadata": {},
   "source": [
    "### create volume template\n",
    "\n",
    "<img src=\"Pictures/create_volume_template.gif\" height=\"500\" width=\"500\" align=\"left\">"
   ]
  },
  {
   "cell_type": "code",
   "execution_count": 26,
   "metadata": {},
   "outputs": [
    {
     "name": "stdout",
     "output_type": "stream",
     "text": [
      "/rest/storage-volume-templates/bdab22fe-3d1d-4f8e-963f-aa72009c0d4d\n",
      "Storage volume created...\n"
     ]
    }
   ],
   "source": [
    "storage_pool_name = 'FC_r5'\n",
    "\n",
    "# Get the storage pool by name to use in options\n",
    "storage_pool = oneview_client.storage_pools.get_by('name', storage_pool_name)[0]\n",
    "\n",
    "# Gets the first Root Storage Volume Template available to use in options\n",
    "root_template = oneview_client.storage_volume_templates.get_all(filter=\"\\\"isRoot='True'\\\"\")[0]\n",
    "print(root_template['uri'])\n",
    "\n",
    "options = {\n",
    "    \"name\": \"Roundtable Volume Template\",\n",
    "    \"description\": \"\",\n",
    "    \"rootTemplateUri\": root_template['uri'],\n",
    "    \"properties\": {\n",
    "        \"name\": {\n",
    "            \"meta\": {\n",
    "                \"locked\": False\n",
    "            },\n",
    "            \"type\": \"string\",\n",
    "            \"title\": \"Volume name\",\n",
    "            \"required\": True,\n",
    "            \"maxLength\": 100,\n",
    "            \"minLength\": 1,\n",
    "            \"description\": \"A volume name between 1 and 100 characters\"\n",
    "        },\n",
    "        \"size\": {\n",
    "            \"meta\": {\n",
    "                \"locked\": False,\n",
    "                \"semanticType\": \"capacity\"\n",
    "            },\n",
    "            \"type\": \"integer\",\n",
    "            \"title\": \"Capacity\",\n",
    "            \"default\": 1073741824,\n",
    "            \"maximum\": 17592186044416,\n",
    "            \"minimum\": 268435456,\n",
    "            \"required\": True,\n",
    "            \"description\": \"The capacity of the volume in bytes\"\n",
    "        },\n",
    "        \"description\": {\n",
    "            \"meta\": {\n",
    "                \"locked\": False\n",
    "            },\n",
    "            \"type\": \"string\",\n",
    "            \"title\": \"Description\",\n",
    "            \"default\": \"\",\n",
    "            \"maxLength\": 2000,\n",
    "            \"minLength\": 0,\n",
    "            \"description\": \"A description for the volume\"\n",
    "        },\n",
    "        \"isShareable\": {\n",
    "            \"meta\": {\n",
    "                \"locked\": False\n",
    "            },\n",
    "            \"type\": \"boolean\",\n",
    "            \"title\": \"Is Shareable\",\n",
    "            \"default\": False,\n",
    "            \"description\": \"The shareability of the volume\"\n",
    "        },\n",
    "        \"storagePool\": {\n",
    "            \"meta\": {\n",
    "                \"locked\": False,\n",
    "                \"createOnly\": True,\n",
    "                \"semanticType\": \"device-storage-pool\"\n",
    "            },\n",
    "            \"type\": \"string\",\n",
    "            \"title\": \"Storage Pool\",\n",
    "            \"format\": \"x-uri-reference\",\n",
    "            \"required\": True,\n",
    "            \"description\": \"A common provisioning group URI reference\",\n",
    "            \"default\": storage_pool['uri']\n",
    "        },\n",
    "        \"snapshotPool\": {\n",
    "            \"meta\": {\n",
    "                \"locked\": True,\n",
    "                \"semanticType\": \"device-snapshot-storage-pool\"\n",
    "            },\n",
    "            \"type\": \"string\",\n",
    "            \"title\": \"Snapshot Pool\",\n",
    "            \"format\": \"x-uri-reference\",\n",
    "            \"default\": storage_pool['uri'],\n",
    "            \"description\": \"A URI reference to the common provisioning group used to create snapshots\"\n",
    "        },\n",
    "        \"provisioningType\": {\n",
    "            \"enum\": [\n",
    "                \"Thin\",\n",
    "                \"Full\",\n",
    "                \"Thin Deduplication\"\n",
    "            ],\n",
    "            \"meta\": {\n",
    "                \"locked\": True,\n",
    "                \"createOnly\": True\n",
    "            },\n",
    "            \"type\": \"string\",\n",
    "            \"title\": \"Provisioning Type\",\n",
    "            \"default\": \"Thin\",\n",
    "            \"description\": \"The provisioning type for the volume\"\n",
    "        }\n",
    "    }\n",
    "}\n",
    "\n",
    "volume_template = oneview_client.storage_volume_templates.create(options)\n",
    "print(\"Storage volume created...\")"
   ]
  },
  {
   "cell_type": "markdown",
   "metadata": {},
   "source": [
    "### delete storage template\n",
    "\"\"\" don´t use it, for the demo.. \"\"\""
   ]
  },
  {
   "cell_type": "code",
   "execution_count": 27,
   "metadata": {},
   "outputs": [],
   "source": [
    "storage_volume = oneview_client.storage_volume_templates.get_all(filter=\"\\\"name='Roundtable Volume Template'\\\"\")\n",
    "for storvol in storage_volume:\n",
    "    oneview_client.storage_volume_templates.delete(storvol)\n",
    "    "
   ]
  },
  {
   "cell_type": "markdown",
   "metadata": {},
   "source": [
    "### show Enclosure / Server Hardware / Bay\n",
    "<img src=\"Pictures/show_server_hw.gif\" height=\"500\" width=\"500\" align=\"left\">"
   ]
  },
  {
   "cell_type": "code",
   "execution_count": 28,
   "metadata": {},
   "outputs": [
    {
     "name": "stdout",
     "output_type": "stream",
     "text": [
      "show enclosure group (enclosure_group_uri)\n",
      "3F IC1:SAS IC3:VC40F8 /rest/enclosure-groups/3f20ed18-c157-44da-97d6-d8b4bb069a2b\n",
      "\n",
      "show server hardware (server_hardware_type_uri)\n",
      "Synergy 660 Gen9 URI: /rest/server-hardware-types/3FBC15D7-E895-4446-8FF2-1768C38543C7\n",
      "Synergy 660 Gen10 URI: /rest/server-hardware-types/AD94C5F9-6804-4EE0-B3B7-75C0F6E29B43\n",
      "Synergy 480 Gen9 URI: /rest/server-hardware-types/D95853DC-0FBD-4BD2-A72B-6D11AD34DE0B\n",
      "Synergy 480 Gen9 URI: /rest/server-hardware-types/0E3C9C8A-8C7A-492E-AD99-0C7549D5538C\n",
      "Synergy 480 Gen10 URI: /rest/server-hardware-types/32DE0740-1480-4278-8238-F2EE0C95D82B\n",
      "Synergy 480 Gen10 URI: /rest/server-hardware-types/B8C59335-D347-4B23-A946-42FD27D4E427\n",
      "\n",
      "Enclosure/Bay (server_hardware_uri)\n",
      "CTC Synergy HE21, bay 10 Synergy 480 Gen9 /rest/server-hardware/33323337-3235-5A43-3337-303948545238\n",
      "CTC Synergy HE21, bay 1 Synergy 480 Gen9 /rest/server-hardware/36343537-3338-4E43-3736-303230383144\n",
      "CTC Synergy HE21, bay 4 Synergy 480 Gen10 /rest/server-hardware/39313738-3234-5A43-4A37-343030373558\n",
      "CTC Synergy HE21, bay 5 Synergy 660 Gen10 /rest/server-hardware/39313738-3133-5A43-4A37-343030373931\n",
      "CTC Synergy HE01, bay 1 Synergy 480 Gen10 /rest/server-hardware/39313738-3134-5A43-4A37-343030373531\n",
      "CTC Synergy HE01, bay 2 Synergy 480 Gen10 /rest/server-hardware/39313738-3134-5A43-4A37-343030373535\n",
      "CTC Synergy HE01, bay 9 Synergy 480 Gen10 /rest/server-hardware/39313738-3134-5A43-4A37-343030373533\n",
      "CTC Synergy HE01, bay 8 Synergy 480 Gen10 /rest/server-hardware/39313738-3134-5A43-4A37-343030373532\n",
      "CTC Synergy HE01, bay 3 Synergy 480 Gen10 /rest/server-hardware/39313738-3134-5A43-4A37-343030373536\n",
      "CTC Synergy HE01, bay 7 Synergy 480 Gen10 /rest/server-hardware/39313738-3134-5A43-4A37-343030373534\n",
      "CTC Synergy HE11, bay 4 Synergy 480 Gen9 /rest/server-hardware/33323337-3235-5A43-3337-303948545345\n",
      "CTC Synergy HE11, bay 2 Synergy 480 Gen9 /rest/server-hardware/33323337-3235-5A43-3337-30394854524D\n",
      "CTC Synergy HE11, bay 5 Synergy 480 Gen9 /rest/server-hardware/33323337-3235-5A43-3337-303948545438\n",
      "CTC Synergy HE11, bay 6 Synergy 480 Gen9 /rest/server-hardware/33323337-3235-5A43-3337-303948545356\n",
      "CTC Synergy HE11, bay 9 Synergy 480 Gen9 /rest/server-hardware/33323337-3235-5A43-3337-303948545645\n",
      "CTC Synergy HE11, bay 3 Synergy 480 Gen9 /rest/server-hardware/33323337-3235-5A43-3337-303948545332\n",
      "CTC Synergy HE11, bay 7 Synergy 480 Gen9 /rest/server-hardware/33323337-3235-5A43-3337-30394854544D\n",
      "CTC Synergy HE11, bay 8 Synergy 480 Gen9 /rest/server-hardware/33323337-3235-5A43-3337-303948545632\n",
      "CTC Synergy HE11, bay 10 Synergy 480 Gen9 /rest/server-hardware/33323337-3235-5A43-3337-303948545656\n",
      "CTC Synergy HE21, bay 6 Synergy 660 Gen9 /rest/server-hardware/30373737-3237-4E43-3735-353030335447\n",
      "CTC Synergy HE21, bay 2 Synergy 480 Gen9 /rest/server-hardware/36343537-3338-4E43-3736-303230355931\n",
      "CTC Synergy HE21, bay 3 Synergy 480 Gen10 /rest/server-hardware/39313738-3234-5A43-4A37-343030373559\n"
     ]
    }
   ],
   "source": [
    "print (\"show enclosure group (enclosure_group_uri)\")\n",
    "enclosure = oneview_client.enclosure_groups.get_all()\n",
    "for enc in enclosure:\n",
    "    print(enc['name'] + \" \" + enc['uri'])\n",
    "\n",
    "print(\"\\nshow server hardware (server_hardware_type_uri)\")\n",
    "server_hardware_types = oneview_client.server_hardware_types.get_all(sort='name:descending')\n",
    "# print(server_hardware_types)\n",
    "for serverhw in server_hardware_types:\n",
    "    # print(' %s ' % serverhw['model'])\n",
    "    print(serverhw['model'] + \" URI: \" + serverhw['uri'] )\n",
    "\n",
    "print(\"\\nEnclosure/Bay (server_hardware_uri)\")   \n",
    "server_hardware = oneview_client.server_hardware.get_all()\n",
    "for server in server_hardware:\n",
    "    print(server['name'] + \" \" + server['model'] + \" \" + server['uri'])"
   ]
  },
  {
   "cell_type": "markdown",
   "metadata": {},
   "source": [
    "### show Serverprofile\n"
   ]
  },
  {
   "cell_type": "code",
   "execution_count": 29,
   "metadata": {},
   "outputs": [
    {
     "name": "stdout",
     "output_type": "stream",
     "text": [
      "show server profile templates:\n",
      "CTC RHEL 7.6 AD+Docker SPT   URI:   /rest/server-profile-templates/01c81182-2c03-44c3-bd24-a9a15f456faa\n",
      "Andreas iSUT 6.7 Oct18   URI:   /rest/server-profile-templates/414359b3-dc25-443c-92df-0ff828aecfa8\n",
      "CTC ESXi 6.5 U2 SPT   URI:   /rest/server-profile-templates/6ccd04e3-fcc7-4ba9-8595-d2dbe7530d6a\n",
      "CTC RHEL 7.6 SPT   URI:   /rest/server-profile-templates/730234a7-41b4-432f-bcc3-668bc1162a1f\n",
      "CTC ESXi 6.7 U2 SPT   URI:   /rest/server-profile-templates/88c55cc0-4d00-4235-b26b-648218caf8d1\n",
      "DemoSPT   URI:   /rest/server-profile-templates/992dc033-632d-4921-a93b-12dddb0cbbde\n",
      "please delete   URI:   /rest/server-profile-templates/9ff644af-1af3-4357-9af8-6fe1087ac000\n",
      "CTC Stratoscale SPT   URI:   /rest/server-profile-templates/d0a23013-24a7-4b11-8f90-886cdfe87d51\n",
      "CTC RHEL7.3 SPT   URI:   /rest/server-profile-templates/e9be49c8-ef02-49f2-b366-5743a9e95f62\n",
      "\n",
      "show server profiles:\n",
      "SUO04CTCSTRA2 Stratoscale   URI:  /rest/server-profile-templates/e9be49c8-ef02-49f2-b366-5743a9e95f62\n",
      "SUO04CTCVCFESX01   URI:  /rest/server-profile-templates/e9be49c8-ef02-49f2-b366-5743a9e95f62\n",
      "SUO04CTCSTRA1 Stratoscale   URI:  /rest/server-profile-templates/e9be49c8-ef02-49f2-b366-5743a9e95f62\n",
      "SRT-SUO04SY2101   URI:  /rest/server-profile-templates/e9be49c8-ef02-49f2-b366-5743a9e95f62\n",
      "SUO04CTCSTRA4 Stratoscale   URI:  /rest/server-profile-templates/e9be49c8-ef02-49f2-b366-5743a9e95f62\n",
      "CTC ESXi 6.5U2 Reference SRV GoldImage   URI:  /rest/server-profile-templates/e9be49c8-ef02-49f2-b366-5743a9e95f62\n",
      "SRT-SUO04SY2101-Hedvig   URI:  /rest/server-profile-templates/e9be49c8-ef02-49f2-b366-5743a9e95f62\n",
      "Andreas iSUT 12 long waiting, force , autodeploy, maintenance   URI:  /rest/server-profile-templates/e9be49c8-ef02-49f2-b366-5743a9e95f62\n",
      "DemoSP   URI:  /rest/server-profile-templates/e9be49c8-ef02-49f2-b366-5743a9e95f62\n",
      "SUO04CTCWIN01-FW   URI:  /rest/server-profile-templates/e9be49c8-ef02-49f2-b366-5743a9e95f62\n",
      "SRT-SUO04SY2102   URI:  /rest/server-profile-templates/e9be49c8-ef02-49f2-b366-5743a9e95f62\n",
      "CTC RHEL7.6 Reference SRV GoldImage   URI:  /rest/server-profile-templates/e9be49c8-ef02-49f2-b366-5743a9e95f62\n",
      "SRT-SUO04SY2110   URI:  /rest/server-profile-templates/e9be49c8-ef02-49f2-b366-5743a9e95f62\n",
      "SRT-SUO04SY2110-Hedvig   URI:  /rest/server-profile-templates/e9be49c8-ef02-49f2-b366-5743a9e95f62\n",
      "CTC ESXi 6.7 U2 Reference SRC GoldImage   URI:  /rest/server-profile-templates/e9be49c8-ef02-49f2-b366-5743a9e95f62\n",
      "SRT-SUO04SY2102-Hedvig   URI:  /rest/server-profile-templates/e9be49c8-ef02-49f2-b366-5743a9e95f62\n",
      "SUO04CTCSTRA3 Stratoscale   URI:  /rest/server-profile-templates/e9be49c8-ef02-49f2-b366-5743a9e95f62\n"
     ]
    }
   ],
   "source": [
    "print(\"show server profile templates:\")\n",
    "all_srv_templates = oneview_client.server_profile_templates.get_all()\n",
    "for srv_tmp in all_srv_templates:\n",
    "    print(srv_tmp['name'] + \"   URI:   \" + srv_tmp['uri'])\n",
    "\n",
    "print(\"\\nshow server profiles:\")\n",
    "all_profiles = oneview_client.server_profiles.get_all()\n",
    "for profile in all_profiles:\n",
    "    print(profile['name']+ \"   URI:  \" + srv_tmp['uri'])\n",
    "\n",
    "# my_profile = oneview_client.server_profiles.get_by_name(\"Roundtable - API Demo Template (DirkD)\")"
   ]
  },
  {
   "cell_type": "markdown",
   "metadata": {},
   "source": [
    "### create server profile (takes 2-3 minutes)\n",
    "<br>\n",
    "<img src=\"Pictures/boot_synergy.gif\" height=\"500\" width=\"500\" align=\"left\">"
   ]
  },
  {
   "cell_type": "code",
   "execution_count": 30,
   "metadata": {
    "scrolled": false
   },
   "outputs": [
    {
     "name": "stdout",
     "output_type": "stream",
     "text": [
      "create server profile\n"
     ]
    }
   ],
   "source": [
    "powerOn = {\n",
    "    \"powerState\": \"On\",\n",
    "    \"powerControl\": \"MomentaryPress\"\n",
    "}\n",
    "\n",
    "powerOff = {\n",
    "    \"powerState\": \"Off\",\n",
    "    \"powerControl\": \"PressAndHold\"\n",
    "}\n",
    "\n",
    "template_name = \"CTC RHEL 7.6 AD+Docker SPT\"\n",
    "server_name = \"Roundtable - API Demo Server (DirkD)\"\n",
    "\n",
    "server_hardware = oneview_client.server_hardware.get_by( \"name\", \"CTC Synergy HE11, bay 8\")[0]\n",
    "server_hardware_uri=server_hardware['uri'] \n",
    "\n",
    "server_template_uri = oneview_client.server_profile_templates.get_by_name(template_name)\n",
    "server_power = oneview_client.server_hardware.update_power_state(powerOff, server_hardware_uri) # turn off server\n",
    "\n",
    "try:\n",
    "    print (\"create server profile\")\n",
    "    roundtable_server = oneview_client.server_profile_templates.get_new_profile(server_template_uri['uri'])\n",
    "    roundtable_server[\"name\"] = server_name\n",
    "    roundtable_server[\"serverHardwareUri\"] = server_hardware_uri\n",
    "\n",
    "    for name in roundtable_server[\"osDeploymentSettings\"][\"osCustomAttributes\"]:\n",
    "        if (name['name'] == \"NewUser\"):\n",
    "            name['value']= \"dirk\"\n",
    "        if (name['name'] == \"NewUserPassword\"):\n",
    "            name['value']= \"HalloRoundtable!\"  \n",
    "        if (name['name'] == \"HostName\"):\n",
    "            name['value']= \"roundtable\" \n",
    "    profile = oneview_client.server_profiles.create(roundtable_server)\n",
    "\n",
    "    \n",
    "except:\n",
    "    print(server_name + \" Server already exists\")\n",
    "\n",
    "server_power = oneview_client.server_hardware.update_power_state(powerOn, server_hardware_uri) # turn on server\n"
   ]
  },
  {
   "cell_type": "markdown",
   "metadata": {},
   "source": [
    "### application deployment\n",
    "\n",
    "\n",
    "Webserver NGINX running on docker.\n",
    "\n",
    "##### What we need:\n",
    "\n",
    "IP address of deployed system.\n",
    "\n",
    "<br>\n",
    "<img src=\"Pictures/NGINX.png\" height=\"500\" width=\"500\" align=\"left\">\n"
   ]
  },
  {
   "cell_type": "code",
   "execution_count": 31,
   "metadata": {
    "scrolled": true
   },
   "outputs": [
    {
     "name": "stdout",
     "output_type": "stream",
     "text": [
      "We are pinging the server: 10.0.20.83 to wait till it´s online...\n",
      "waiting to finish boot ( 1 )\n",
      "waiting to finish boot ( 2 )\n",
      "waiting to finish boot ( 3 )\n",
      "waiting to finish boot ( 4 )\n",
      "waiting to finish boot ( 5 )\n",
      "waiting to finish boot ( 6 )\n",
      "waiting to finish boot ( 7 )\n",
      "waiting to finish boot ( 8 )\n",
      "waiting to finish boot ( 9 )\n",
      "waiting to finish boot ( 10 )\n",
      "waiting to finish boot ( 11 )\n",
      "waiting to finish boot ( 12 )\n",
      "waiting to finish boot ( 13 )\n",
      "waiting to finish boot ( 14 )\n",
      "waiting to finish boot ( 15 )\n",
      "waiting to finish boot ( 16 )\n",
      "waiting to finish boot ( 17 )\n",
      "waiting to finish boot ( 18 )\n",
      "waiting to finish boot ( 19 )\n",
      "waiting to finish boot ( 20 )\n",
      "waiting to finish boot ( 21 )\n",
      "waiting to finish boot ( 22 )\n",
      "waiting to finish boot ( 23 )\n",
      "waiting to finish boot ( 24 )\n",
      "waiting to finish boot ( 25 )\n",
      "waiting to finish boot ( 26 )\n",
      "waiting to finish boot ( 27 )\n",
      "waiting to finish boot ( 28 )\n",
      "waiting to finish boot ( 29 )\n",
      "waiting to finish boot ( 30 )\n",
      "Login with user: root Server:10.0.20.83\n",
      "http://10.0.20.83\n"
     ]
    }
   ],
   "source": [
    "import os\n",
    "import paramiko\n",
    "import time\n",
    "\n",
    "ssh = paramiko.SSHClient()\n",
    "\n",
    "#server_name = \"Roundtable - API Demo Server (DirkD)\"\n",
    "username = 'root'\n",
    "password = 'Compaq1!'\n",
    "\n",
    "deployed_server = oneview_client.server_profiles.get_by_name(server_name)\n",
    "\n",
    "for name in deployed_server[\"osDeploymentSettings\"][\"osCustomAttributes\"]:\n",
    "    if (name['name'] == \"Team0NIC1.ipaddress\"):\n",
    "        ip_address = name['value']\n",
    "\n",
    "print(\"We are pinging the server: \"+ ip_address +\" to wait till it´s online...\"     )\n",
    "        \n",
    "# wait until Server is up .....\n",
    "\n",
    "waiting=True\n",
    "counter=0\n",
    "\n",
    "while waiting:\n",
    "    t = os.system('ping -c 1 '+ip_address)\n",
    "    if not t:\n",
    "        time.sleep(10)\n",
    "        waiting=False\n",
    "    else:\n",
    "        counter +=1\n",
    "        if counter == 150:\n",
    "            waiting = False \n",
    "        print(\"waiting to finish boot (\",counter,\")\")       \n",
    "        \n",
    "time.sleep(20)        \n",
    "\n",
    "print(\"Login with user: \" + username + \" Server:\" + ip_address)        \n",
    "ssh.set_missing_host_key_policy(paramiko.AutoAddPolicy())         # add unknown Host-Keys\n",
    "ssh.connect(ip_address, username=username, password=password)     # login\n",
    "# ssh.exec_command('systemctl restart docker')                      # workaround for our docker environment\n",
    "ssh.exec_command('docker run -d --name nginx -p 80:80 nginx')\n",
    "time.sleep(10)\n",
    "stdin, stdout, stderr = ssh.exec_command(\"docker exec -it nginx sed -i '\\''s/nginx/the Synergy Roundtable/g'\\'' /usr/share/nginx/html/index.html\", get_pty=True)\n",
    "print(\"http://\" + ip_address)\n",
    "# print(stdout.read())\n",
    "# print(stderr.read())\n"
   ]
  },
  {
   "cell_type": "markdown",
   "metadata": {},
   "source": [
    "### Show individual parameters from Image (Imagestreamer)"
   ]
  },
  {
   "cell_type": "code",
   "execution_count": null,
   "metadata": {},
   "outputs": [],
   "source": [
    "    #print (\"create server profile\")\n",
    "    roundtable_server = oneview_client.server_profile_templates.get_new_profile(server_template_uri['uri'])\n",
    "    roundtable_server[\"name\"] = server_name\n",
    "    roundtable_server[\"serverHardwareUri\"] = server_hardware_uri\n",
    "\n",
    "    for name in roundtable_server[\"osDeploymentSettings\"][\"osCustomAttributes\"]:\n",
    "        print(name['name'] + \": \" + str(name['value']))\n",
    "   \n"
   ]
  },
  {
   "cell_type": "markdown",
   "metadata": {},
   "source": [
    "### example: how to get the values from json"
   ]
  },
  {
   "cell_type": "code",
   "execution_count": null,
   "metadata": {},
   "outputs": [],
   "source": [
    "    server_hardware = oneview_client.server_hardware.get_all()\n",
    "   # print(server_hardware)\n",
    "    \n",
    "    for server in server_hardware:\n",
    "        for ports in server['portMap']['deviceSlots']:\n",
    "            for mac in ports['physicalPorts']: \n",
    "                for wwnn in mac['virtualPorts']:\n",
    "                    print(server['name']+ \" model:\" + server['model'] + \" \" + str(server['memoryMb']) + \" MB mac: \" + str(mac['mac']) + \" wwnn: \" + str(wwnn['wwnn'])) "
   ]
  },
  {
   "cell_type": "markdown",
   "metadata": {},
   "source": [
    "### Excel Export\n",
    "\n",
    "xlswriter:\n",
    "https://xlsxwriter.readthedocs.io/\n",
    "\n",
    "example: we extrace some data to excel XLS"
   ]
  },
  {
   "cell_type": "code",
   "execution_count": 32,
   "metadata": {
    "scrolled": false
   },
   "outputs": [
    {
     "name": "stdout",
     "output_type": "stream",
     "text": [
      "Excel File roundtable.xlsx created\n"
     ]
    }
   ],
   "source": [
    "import xlsxwriter\n",
    "workbook = xlsxwriter.Workbook('roundtable.xlsx')\n",
    "worksheet = workbook.add_worksheet()\n",
    "\n",
    "# Add a bold format to use to highlight cells.\n",
    "bold = workbook.add_format({'bold': True})\n",
    "\n",
    "# Text with formatting.\n",
    "worksheet.write(0,0, 'Synergy Roundtable', bold)\n",
    "\n",
    "# Start from the first cell below the headers.\n",
    "row = 4\n",
    "worksheet.write(row, 0, \"Servername\", bold)\n",
    "worksheet.write(row, 1, \"Model\", bold)\n",
    "worksheet.write(row, 2, \"Memory\", bold)\n",
    "worksheet.write(row, 3, \"MAC address\", bold)\n",
    "worksheet.write(row, 4, \"WWN address\", bold)\n",
    "worksheet.write(row, 5, \"Status\", bold)\n",
    "row += 1\n",
    "\n",
    "server_hardware = oneview_client.server_hardware.get_all()\n",
    "#print(server_hardware)\n",
    "\n",
    "for server in server_hardware:\n",
    " col = 0\n",
    " for ports in server['portMap']['deviceSlots']:\n",
    "     for mac in ports['physicalPorts']: \n",
    "         for wwnn in mac['virtualPorts']:\n",
    "             # print(server['name']+ \" model:\" + server['model'] + \" \" + str(server['memoryMb']) + \" MB mac: \" + str(mac['mac']) + \" wwnn: \" + str(wwnn['wwnn']))\n",
    "             worksheet.write(row,col, server['name'])\n",
    "             worksheet.write(row,col+1, server['model'])\n",
    "             worksheet.write(row,col+2, server['memoryMb'])\n",
    "             worksheet.write(row,col+3, mac['mac'])\n",
    "             worksheet.write(row,col+4, wwnn['wwnn'])\n",
    "             worksheet.write(row,col+5, server['status'])\n",
    "             row += 1\n",
    "workbook.close()\n",
    "print ('Excel File roundtable.xlsx created')"
   ]
  },
  {
   "cell_type": "markdown",
   "metadata": {},
   "source": [
    "### Delete Serverprofile\n",
    "!!! do not use, if not necessary !!!"
   ]
  },
  {
   "cell_type": "code",
   "execution_count": 33,
   "metadata": {},
   "outputs": [
    {
     "data": {
      "text/plain": [
       "True"
      ]
     },
     "execution_count": 33,
     "metadata": {},
     "output_type": "execute_result"
    }
   ],
   "source": [
    "server_power = oneview_client.server_hardware.update_power_state(powerOff, server_hardware_uri) # turn on server\n",
    "oneview_client.server_profiles.delete(profile)"
   ]
  }
 ],
 "metadata": {
  "kernelspec": {
   "display_name": "Python 3",
   "language": "python",
   "name": "python3"
  },
  "language_info": {
   "codemirror_mode": {
    "name": "ipython",
    "version": 3
   },
   "file_extension": ".py",
   "mimetype": "text/x-python",
   "name": "python",
   "nbconvert_exporter": "python",
   "pygments_lexer": "ipython3",
   "version": "3.6.8"
  }
 },
 "nbformat": 4,
 "nbformat_minor": 2
}
