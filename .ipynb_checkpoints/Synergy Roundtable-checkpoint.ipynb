{
 "cells": [
  {
   "cell_type": "markdown",
   "metadata": {},
   "source": [
    "# Welcome to the Synergy Roundtable\n",
    "created by Dirk Derichsweiler - 05/10/2018<br>\n",
    "do not hesitate to contact me: derdirk@hpe.com\n",
    "\n",
    "jupyter Notebook can be found: https://github.com/dderichswei/synergy/blob/master/Synergy%20Roundtable.ipynb\n",
    "\n",
    "\n",
    "#### requirements\n",
    "Python + hpOneView Python Library (see: https://github.com/HewlettPackard/python-hpOneView/wiki/HPE-OneView-Python-Windows-Setup-Guide)\n",
    "\n",
    "\n",
    "#### additional information\n",
    "\n",
    "On your HPE OneView appliance, or online<br>\n",
    "https://10.0.20.50/help/cic-rest/en/content/index.html#home.html<br>\n",
    "https://10.0.20.50/api-docs/current/ <br>\n",
    "http://www.hpe.com/info/oneview/docs <br>\n",
    "https://developer.hpe.com/\n",
    "\n",
    "#### python specific\n",
    "https://hewlettpackard.github.io/python-hpOneView/index.html<br>\n",
    "https://github.com/HewlettPackard/python-hpOneView<br>\n",
    "\n",
    "\n",
    "### Login\n",
    "\n",
    "<img src=\"Pictures/Login.gif\" height=\"500\" width=\"500\" align=\"left\">"
   ]
  },
  {
   "cell_type": "markdown",
   "metadata": {},
   "source": [
    "##### import the python OneView library"
   ]
  },
  {
   "cell_type": "code",
   "execution_count": 1,
   "metadata": {},
   "outputs": [],
   "source": [
    "from hpOneView.oneview_client import OneViewClient"
   ]
  },
  {
   "cell_type": "markdown",
   "metadata": {},
   "source": [
    "##### configure your environment:"
   ]
  },
  {
   "cell_type": "code",
   "execution_count": 2,
   "metadata": {},
   "outputs": [],
   "source": [
    "config = {\n",
    "    \"api_version\": \"500\",\n",
    "    \"ip\": \"10.0.20.50\",\n",
    "    \"credentials\": {\n",
    "        \"userName\": \"python\",\n",
    "        \"authLoginDomain\": \"local\",\n",
    "        \"password\": \"python123!\"\n",
    "    }\n",
    "}"
   ]
  },
  {
   "cell_type": "markdown",
   "metadata": {},
   "source": [
    "##### login:\n",
    "create new object oneview_client with the config (see above)"
   ]
  },
  {
   "cell_type": "code",
   "execution_count": 4,
   "metadata": {
    "scrolled": true
   },
   "outputs": [],
   "source": [
    "oneview_client = OneViewClient(config)"
   ]
  },
  {
   "cell_type": "markdown",
   "metadata": {},
   "source": [
    "\n",
    "#### ADVANCED: which functions are available?"
   ]
  },
  {
   "cell_type": "code",
   "execution_count": null,
   "metadata": {
    "scrolled": false
   },
   "outputs": [],
   "source": [
    "dir(oneview_client)\n",
    "# dir(oneview_client.storage_volume_templates) # drill down "
   ]
  },
  {
   "cell_type": "markdown",
   "metadata": {},
   "source": [
    "### show existing networks\n",
    "\n",
    "<img src=\"Pictures/show_network.gif\" height=\"500\" width=\"500\" align=\"left\">\n",
    "<br>"
   ]
  },
  {
   "cell_type": "code",
   "execution_count": null,
   "metadata": {},
   "outputs": [],
   "source": [
    "roundtable_networks=oneview_client.ethernet_networks.get_all()\n",
    "# print(roundtable_networks)\n",
    "\n",
    "print(\"The following networks exists:\")\n",
    "for net in roundtable_networks:\n",
    "    # print(net['name'] + \" VLAN ID:\" + str(net['vlanId']))\n",
    "    print(net['name'] + \"    URI: \"  + net['uri'] )\n"
   ]
  },
  {
   "cell_type": "markdown",
   "metadata": {},
   "source": [
    "### create network\n",
    "\n",
    "<img src=\"Pictures/create_network.gif\" height=\"500\" width=\"500\" align=\"left\">"
   ]
  },
  {
   "cell_type": "code",
   "execution_count": null,
   "metadata": {},
   "outputs": [],
   "source": [
    "options = {\n",
    "    \"name\": \"Roundtable - Test Ethernet Network\",\n",
    "    \"vlanId\": 200,\n",
    "    \"ethernetNetworkType\": \"Tagged\",\n",
    "    \"purpose\": \"General\",\n",
    "    \"smartLink\": False,\n",
    "    \"privateNetwork\": False,\n",
    "    \"connectionTemplateUri\": None\n",
    "}\n",
    "\n",
    "ethernet_network = oneview_client.ethernet_networks.create(options)\n",
    "print(\"Created ethernet-network \" + ethernet_network['name'] + \"   URI: \" + ethernet_network['uri'] + \" successfully.\")\n"
   ]
  },
  {
   "cell_type": "markdown",
   "metadata": {},
   "source": [
    "### create bulk network\n",
    "How to set up multiple networks at once."
   ]
  },
  {
   "cell_type": "code",
   "execution_count": null,
   "metadata": {
    "scrolled": false
   },
   "outputs": [],
   "source": [
    "options_bulk = {\n",
    "    \"vlanIdRange\": \"1-5,7,100-109,200\",\n",
    "    \"purpose\": \"General\",\n",
    "    \"namePrefix\": \"Roundtable-Ethernet\",\n",
    "    \"smartLink\": False,\n",
    "    \"privateNetwork\": False,\n",
    "    \"bandwidth\": {\n",
    "        \"maximumBandwidth\": 10000,\n",
    "        \"typicalBandwidth\": 2000\n",
    "    }\n",
    "}\n",
    "\n",
    "\n",
    "ethernet_nets_bulk = oneview_client.ethernet_networks.create_bulk(options_bulk)\n",
    "for net in ethernet_nets_bulk: \n",
    "  print(\"created network: \" + net['name'] + \" URI: \" + net['uri'])"
   ]
  },
  {
   "cell_type": "markdown",
   "metadata": {},
   "source": [
    "### delete bulk network\n",
    "as it´s not needed for the demo"
   ]
  },
  {
   "cell_type": "code",
   "execution_count": null,
   "metadata": {},
   "outputs": [],
   "source": [
    "for net in ethernet_nets_bulk:\n",
    "    oneview_client.ethernet_networks.delete(net)\n",
    "    print(\"delete network: \" + net['name'])"
   ]
  },
  {
   "cell_type": "markdown",
   "metadata": {},
   "source": [
    "### show configured/existing storage (systems and pools)\n",
    "\n",
    "<img src=\"Pictures/show_storage.gif\" height=\"500\" width=\"500\" align=\"left\">"
   ]
  },
  {
   "cell_type": "code",
   "execution_count": null,
   "metadata": {
    "scrolled": true
   },
   "outputs": [],
   "source": [
    "storage_system = oneview_client.storage_systems.get_all()\n",
    "storage_pools = oneview_client.storage_pools.get_all()\n",
    "\n",
    "# storage_pool_name = 'FC_r1'\n",
    "# storage_pools = oneview_client.storage_pools.get_by('name', storage_pool_name)[0]\n",
    "\n",
    "print(\"Storage Systems:\")\n",
    "for stor in storage_system: \n",
    "  print(stor['displayName'] + \"    URI: \" + stor['uri'])\n",
    "\n",
    "print(\"\\nStorage Pools:\")\n",
    "for storpool in storage_pools:\n",
    "  print(storpool['name'] + \"    URI: \" + stor['uri'])"
   ]
  },
  {
   "cell_type": "code",
   "execution_count": null,
   "metadata": {},
   "outputs": [],
   "source": [
    "print (storpool)"
   ]
  },
  {
   "cell_type": "markdown",
   "metadata": {},
   "source": [
    "### show volume templates"
   ]
  },
  {
   "cell_type": "code",
   "execution_count": null,
   "metadata": {},
   "outputs": [],
   "source": [
    "storage_volume = oneview_client.storage_volume_templates.get_all(filter=\"\\\"isRoot='False'\\\"\")\n",
    "for storvol in storage_volume:\n",
    "    print(storvol['name'])\n"
   ]
  },
  {
   "cell_type": "markdown",
   "metadata": {},
   "source": [
    "### create volume template\n",
    "\n",
    "<img src=\"Pictures/create_volume_template.gif\" height=\"500\" width=\"500\" align=\"left\">"
   ]
  },
  {
   "cell_type": "code",
   "execution_count": null,
   "metadata": {},
   "outputs": [],
   "source": [
    "storage_pool_name = 'FC_r5'\n",
    "\n",
    "# Get the storage pool by name to use in options\n",
    "storage_pool = oneview_client.storage_pools.get_by('name', storage_pool_name)[0]\n",
    "\n",
    "# Gets the first Root Storage Volume Template available to use in options\n",
    "root_template = oneview_client.storage_volume_templates.get_all(filter=\"\\\"isRoot='True'\\\"\")[0]\n",
    "print(root_template['uri'])\n",
    "\n",
    "options = {\n",
    "    \"name\": \"Roundtable Volume Template\",\n",
    "    \"description\": \"\",\n",
    "    \"rootTemplateUri\": root_template['uri'],\n",
    "    \"properties\": {\n",
    "        \"name\": {\n",
    "            \"meta\": {\n",
    "                \"locked\": False\n",
    "            },\n",
    "            \"type\": \"string\",\n",
    "            \"title\": \"Volume name\",\n",
    "            \"required\": True,\n",
    "            \"maxLength\": 100,\n",
    "            \"minLength\": 1,\n",
    "            \"description\": \"A volume name between 1 and 100 characters\"\n",
    "        },\n",
    "        \"size\": {\n",
    "            \"meta\": {\n",
    "                \"locked\": False,\n",
    "                \"semanticType\": \"capacity\"\n",
    "            },\n",
    "            \"type\": \"integer\",\n",
    "            \"title\": \"Capacity\",\n",
    "            \"default\": 1073741824,\n",
    "            \"maximum\": 17592186044416,\n",
    "            \"minimum\": 268435456,\n",
    "            \"required\": True,\n",
    "            \"description\": \"The capacity of the volume in bytes\"\n",
    "        },\n",
    "        \"description\": {\n",
    "            \"meta\": {\n",
    "                \"locked\": False\n",
    "            },\n",
    "            \"type\": \"string\",\n",
    "            \"title\": \"Description\",\n",
    "            \"default\": \"\",\n",
    "            \"maxLength\": 2000,\n",
    "            \"minLength\": 0,\n",
    "            \"description\": \"A description for the volume\"\n",
    "        },\n",
    "        \"isShareable\": {\n",
    "            \"meta\": {\n",
    "                \"locked\": False\n",
    "            },\n",
    "            \"type\": \"boolean\",\n",
    "            \"title\": \"Is Shareable\",\n",
    "            \"default\": False,\n",
    "            \"description\": \"The shareability of the volume\"\n",
    "        },\n",
    "        \"storagePool\": {\n",
    "            \"meta\": {\n",
    "                \"locked\": False,\n",
    "                \"createOnly\": True,\n",
    "                \"semanticType\": \"device-storage-pool\"\n",
    "            },\n",
    "            \"type\": \"string\",\n",
    "            \"title\": \"Storage Pool\",\n",
    "            \"format\": \"x-uri-reference\",\n",
    "            \"required\": True,\n",
    "            \"description\": \"A common provisioning group URI reference\",\n",
    "            \"default\": storage_pool['uri']\n",
    "        },\n",
    "        \"snapshotPool\": {\n",
    "            \"meta\": {\n",
    "                \"locked\": True,\n",
    "                \"semanticType\": \"device-snapshot-storage-pool\"\n",
    "            },\n",
    "            \"type\": \"string\",\n",
    "            \"title\": \"Snapshot Pool\",\n",
    "            \"format\": \"x-uri-reference\",\n",
    "            \"default\": storage_pool['uri'],\n",
    "            \"description\": \"A URI reference to the common provisioning group used to create snapshots\"\n",
    "        },\n",
    "        \"provisioningType\": {\n",
    "            \"enum\": [\n",
    "                \"Thin\",\n",
    "                \"Full\",\n",
    "                \"Thin Deduplication\"\n",
    "            ],\n",
    "            \"meta\": {\n",
    "                \"locked\": True,\n",
    "                \"createOnly\": True\n",
    "            },\n",
    "            \"type\": \"string\",\n",
    "            \"title\": \"Provisioning Type\",\n",
    "            \"default\": \"Thin\",\n",
    "            \"description\": \"The provisioning type for the volume\"\n",
    "        }\n",
    "    }\n",
    "}\n",
    "\n",
    "volume_template = oneview_client.storage_volume_templates.create(options)\n",
    "print(\"Storage volume created...\")"
   ]
  },
  {
   "cell_type": "markdown",
   "metadata": {},
   "source": [
    "### delete storage template\n",
    "\"\"\" don´t use it, for the demo.. \"\"\""
   ]
  },
  {
   "cell_type": "code",
   "execution_count": null,
   "metadata": {},
   "outputs": [],
   "source": [
    "storage_volume = oneview_client.storage_volume_templates.get_all(filter=\"\\\"name='Roundtable Volume Template'\\\"\")\n",
    "for storvol in storage_volume:\n",
    "    oneview_client.storage_volume_templates.delete(storvol)\n",
    "    "
   ]
  },
  {
   "cell_type": "markdown",
   "metadata": {},
   "source": [
    "### show Enclosure / Server Hardware / Bay\n",
    "<img src=\"Pictures/show_server_hw.gif\" height=\"500\" width=\"500\" align=\"left\">"
   ]
  },
  {
   "cell_type": "code",
   "execution_count": null,
   "metadata": {},
   "outputs": [],
   "source": [
    "print (\"show enclosure group (enclosure_group_uri)\")\n",
    "enclosure = oneview_client.enclosure_groups.get_all()\n",
    "for enc in enclosure:\n",
    "    print(enc['name'] + \" \" + enc['uri'])\n",
    "\n",
    "print(\"\\nshow server hardware (server_hardware_type_uri)\")\n",
    "server_hardware_types = oneview_client.server_hardware_types.get_all(sort='name:descending')\n",
    "# print(server_hardware_types)\n",
    "for serverhw in server_hardware_types:\n",
    "    # print(' %s ' % serverhw['model'])\n",
    "    print(serverhw['model'] + \" URI: \" + serverhw['uri'] )\n",
    "\n",
    "print(\"\\nEnclosure/Bay (server_hardware_uri)\")   \n",
    "server_hardware = oneview_client.server_hardware.get_all()\n",
    "for server in server_hardware:\n",
    "    print(server['name'] + \" \" + server['model'] + \" \" + server['uri'])"
   ]
  },
  {
   "cell_type": "markdown",
   "metadata": {},
   "source": [
    "### show Serverprofile\n"
   ]
  },
  {
   "cell_type": "code",
   "execution_count": null,
   "metadata": {},
   "outputs": [],
   "source": [
    "print(\"show server profile templates:\")\n",
    "all_srv_templates = oneview_client.server_profile_templates.get_all()\n",
    "for srv_tmp in all_srv_templates:\n",
    "    print(srv_tmp['name'] + \"   URI:   \" + srv_tmp['uri'])\n",
    "\n",
    "print(\"\\nshow server profiles:\")\n",
    "all_profiles = oneview_client.server_profiles.get_all()\n",
    "for profile in all_profiles:\n",
    "    print(profile['name']+ \"   URI:  \" + srv_tmp['uri'])\n",
    "\n",
    "# my_profile = oneview_client.server_profiles.get_by_name(\"Roundtable - API Demo Template (DirkD)\")"
   ]
  },
  {
   "cell_type": "markdown",
   "metadata": {},
   "source": [
    "### create server profile (takes 2-3 minutes)\n",
    "<br>\n",
    "<img src=\"Pictures/boot_synergy.gif\" height=\"500\" width=\"500\" align=\"left\">"
   ]
  },
  {
   "cell_type": "code",
   "execution_count": null,
   "metadata": {
    "scrolled": false
   },
   "outputs": [
    {
     "name": "stdout",
     "output_type": "stream",
     "text": [
      "create server profile\n"
     ]
    }
   ],
   "source": [
    "powerOn = {\n",
    "    \"powerState\": \"On\",\n",
    "    \"powerControl\": \"MomentaryPress\"\n",
    "}\n",
    "\n",
    "powerOff = {\n",
    "    \"powerState\": \"Off\",\n",
    "    \"powerControl\": \"PressAndHold\"\n",
    "}\n",
    "\n",
    "#template_name = \"Roundtable - API Demo Template (DirkD)\"\n",
    "template_name = \"CTC RHEL 7.6 AD+Docker SPT\"\n",
    "server_name = \"Roundtable - API Demo Server (DirkD)\"\n",
    "\n",
    "server_hardware = oneview_client.server_hardware.get_by( \"name\", \"CTC Synergy HE11, bay 9\")[0]\n",
    "server_hardware_uri=server_hardware['uri'] \n",
    "# server_hardware_uri = '/rest/server-hardware/39313738-3133-5A43-4A37-343030373931' # SY660 G10\n",
    "# server_hardware_uri = '/rest/server-hardware/39313738-3134-5A43-4A37-343030373536' # SY480\n",
    "#server_hardware_uri = '/rest/server-hardware/39313738-3134-5A43-4A37-343030373533' # SY480 HE01, bay 9\n",
    "\n",
    "server_template_uri = oneview_client.server_profile_templates.get_by_name(template_name)\n",
    "server_power = oneview_client.server_hardware.update_power_state(powerOff, server_hardware_uri) # turn off server\n",
    "\n",
    "try:\n",
    "    print (\"create server profile\")\n",
    "    roundtable_server = oneview_client.server_profile_templates.get_new_profile(server_template_uri['uri'])\n",
    "    roundtable_server[\"name\"] = server_name\n",
    "    roundtable_server[\"serverHardwareUri\"] = server_hardware_uri\n",
    "\n",
    "    for name in roundtable_server[\"osDeploymentSettings\"][\"osCustomAttributes\"]:\n",
    "        if (name['name'] == \"NewUser\"):\n",
    "            name['value']= \"dirk\"\n",
    "        if (name['name'] == \"NewUserPassword\"):\n",
    "            name['value']= \"HalloRoundtable!\"  \n",
    "        if (name['name'] == \"HostName\"):\n",
    "            name['value']= \"roundtable\" \n",
    "    profile = oneview_client.server_profiles.create(roundtable_server)\n",
    "\n",
    "    \n",
    "except:\n",
    "    print(server_name + \" Server already exists\")\n",
    "\n",
    "server_power = oneview_client.server_hardware.update_power_state(powerOn, server_hardware_uri) # turn on server\n"
   ]
  },
  {
   "cell_type": "markdown",
   "metadata": {},
   "source": [
    "### Show individual parameters from Image (Imagestreamer)"
   ]
  },
  {
   "cell_type": "code",
   "execution_count": null,
   "metadata": {},
   "outputs": [],
   "source": [
    "    #print (\"create server profile\")\n",
    "    roundtable_server = oneview_client.server_profile_templates.get_new_profile(server_template_uri['uri'])\n",
    "    roundtable_server[\"name\"] = server_name\n",
    "    roundtable_server[\"serverHardwareUri\"] = server_hardware_uri\n",
    "\n",
    "    for name in roundtable_server[\"osDeploymentSettings\"][\"osCustomAttributes\"]:\n",
    "        print(name['name'] + \": \" + str(name['value']))\n",
    "   \n"
   ]
  },
  {
   "cell_type": "markdown",
   "metadata": {},
   "source": [
    "### example: how to get the values from json"
   ]
  },
  {
   "cell_type": "code",
   "execution_count": null,
   "metadata": {},
   "outputs": [],
   "source": [
    "    server_hardware = oneview_client.server_hardware.get_all()\n",
    "   # print(server_hardware)\n",
    "    \n",
    "    for server in server_hardware:\n",
    "        for ports in server['portMap']['deviceSlots']:\n",
    "            for mac in ports['physicalPorts']: \n",
    "                for wwnn in mac['virtualPorts']:\n",
    "                    print(server['name']+ \" model:\" + server['model'] + \" \" + str(server['memoryMb']) + \" MB mac: \" + str(mac['mac']) + \" wwnn: \" + str(wwnn['wwnn'])) "
   ]
  },
  {
   "cell_type": "markdown",
   "metadata": {},
   "source": [
    "### application deployment\n",
    "\n",
    "\n",
    "Webserver NGINX running on docker.\n",
    "\n",
    "##### What we need:\n",
    "\n",
    "IP address of deployed system.\n",
    "\n",
    "<br>\n",
    "<img src=\"Pictures/NGINX.png\" height=\"500\" width=\"500\" align=\"left\">\n"
   ]
  },
  {
   "cell_type": "code",
   "execution_count": null,
   "metadata": {
    "scrolled": true
   },
   "outputs": [],
   "source": [
    "import os\n",
    "import paramiko\n",
    "import time\n",
    "\n",
    "ssh = paramiko.SSHClient()\n",
    "\n",
    "server_name = \"Roundtable - API Demo Server (DirkD)\"\n",
    "username = 'root'\n",
    "password = 'Compaq1!'\n",
    "\n",
    "deployed_server = oneview_client.server_profiles.get_by_name(server_name)\n",
    "\n",
    "for name in deployed_server[\"osDeploymentSettings\"][\"osCustomAttributes\"]:\n",
    "    if (name['name'] == \"Team0NIC1.ipaddress\"):\n",
    "        ip_address = name['value']\n",
    "\n",
    "print(\"We are pinging the server: \"+ip_address+\" to wait till it´s online...\"     )\n",
    "        \n",
    "# wait until Server is up .....\n",
    "\n",
    "waiting=True\n",
    "counter=0\n",
    "\n",
    "while waiting:\n",
    "    t = os.system('ping -n 1 '+ip_address)\n",
    "    if not t:\n",
    "        time.sleep(10)\n",
    "        waiting=False\n",
    "    else:\n",
    "        counter +=1\n",
    "        if counter == 150:\n",
    "            waiting = False \n",
    "        print(\"waiting to finish boot (\",counter,\")\")       \n",
    "        \n",
    "time.sleep(20)        \n",
    "\n",
    "print(\"Login with user: \" + username + \" Server:\" + ip_address)        \n",
    "ssh.set_missing_host_key_policy(paramiko.AutoAddPolicy())         # add unknown Host-Keys\n",
    "ssh.connect(ip_address, username=username, password=password)     # login\n",
    "ssh.exec_command('systemctl restart docker')                      # workaround for our docker environment\n",
    "ssh.exec_command('docker run -d --name nginx -p 80:80 nginx')\n",
    "time.sleep(10)\n",
    "stdin, stdout, stderr = ssh.exec_command(\"docker exec -it nginx sed -i '\\''s/nginx/the Synergy Roundtable/g'\\'' /usr/share/nginx/html/index.html\", get_pty=True)\n",
    "print(\"http://\" + ip_address)\n",
    "# print(stdout.read())\n",
    "# print(stderr.read())\n"
   ]
  },
  {
   "cell_type": "markdown",
   "metadata": {},
   "source": [
    "### Excel Export\n",
    "\n",
    "xlswriter:\n",
    "https://xlsxwriter.readthedocs.io/\n",
    "\n",
    "example: we extrace some data to excel XLS"
   ]
  },
  {
   "cell_type": "code",
   "execution_count": null,
   "metadata": {
    "scrolled": false
   },
   "outputs": [],
   "source": [
    "import xlsxwriter\n",
    "workbook = xlsxwriter.Workbook('roundtable.xlsx')\n",
    "worksheet = workbook.add_worksheet()\n",
    "\n",
    "# Add a bold format to use to highlight cells.\n",
    "bold = workbook.add_format({'bold': True})\n",
    "\n",
    "# Text with formatting.\n",
    "worksheet.write(0,0, 'Synergy Roundtable', bold)\n",
    "\n",
    "# Start from the first cell below the headers.\n",
    "row = 4\n",
    "worksheet.write(row, 0, \"Servername\", bold)\n",
    "worksheet.write(row, 1, \"Model\", bold)\n",
    "worksheet.write(row, 2, \"Memory\", bold)\n",
    "worksheet.write(row, 3, \"MAC address\", bold)\n",
    "worksheet.write(row, 4, \"WWN address\", bold)\n",
    "worksheet.write(row, 5, \"Status\", bold)\n",
    "row += 1\n",
    "\n",
    "server_hardware = oneview_client.server_hardware.get_all()\n",
    "#print(server_hardware)\n",
    "\n",
    "for server in server_hardware:\n",
    " col = 0\n",
    " for ports in server['portMap']['deviceSlots']:\n",
    "     for mac in ports['physicalPorts']: \n",
    "         for wwnn in mac['virtualPorts']:\n",
    "             # print(server['name']+ \" model:\" + server['model'] + \" \" + str(server['memoryMb']) + \" MB mac: \" + str(mac['mac']) + \" wwnn: \" + str(wwnn['wwnn']))\n",
    "             worksheet.write(row,col, server['name'])\n",
    "             worksheet.write(row,col+1, server['model'])\n",
    "             worksheet.write(row,col+2, server['memoryMb'])\n",
    "             worksheet.write(row,col+3, mac['mac'])\n",
    "             worksheet.write(row,col+4, wwnn['wwnn'])\n",
    "             worksheet.write(row,col+5, server['status'])\n",
    "             row += 1\n",
    "workbook.close()\n",
    "print ('Excel File roundtable.xlsx created')"
   ]
  },
  {
   "cell_type": "markdown",
   "metadata": {},
   "source": [
    "### Delete Serverprofile\n",
    "!!! do not use, if not necessary !!!"
   ]
  },
  {
   "cell_type": "code",
   "execution_count": null,
   "metadata": {},
   "outputs": [],
   "source": [
    "server_power = oneview_client.server_hardware.update_power_state(powerOff, server_hardware_uri) # turn on server\n",
    "oneview_client.server_profiles.delete(profile)"
   ]
  }
 ],
 "metadata": {
  "kernelspec": {
   "display_name": "Python 3",
   "language": "python",
   "name": "python3"
  },
  "language_info": {
   "codemirror_mode": {
    "name": "ipython",
    "version": 3
   },
   "file_extension": ".py",
   "mimetype": "text/x-python",
   "name": "python",
   "nbconvert_exporter": "python",
   "pygments_lexer": "ipython3",
   "version": "3.7.0"
  }
 },
 "nbformat": 4,
 "nbformat_minor": 2
}
